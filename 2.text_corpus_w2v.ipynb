{
 "cells": [
  {
   "cell_type": "code",
   "execution_count": 645,
   "metadata": {},
   "outputs": [],
   "source": [
    "import numpy as np\n",
    "import pandas as pd\n",
    "import re\n",
    "import jieba"
   ]
  },
  {
   "cell_type": "code",
   "execution_count": 646,
   "metadata": {},
   "outputs": [
    {
     "data": {
      "text/html": [
       "<div>\n",
       "<style scoped>\n",
       "    .dataframe tbody tr th:only-of-type {\n",
       "        vertical-align: middle;\n",
       "    }\n",
       "\n",
       "    .dataframe tbody tr th {\n",
       "        vertical-align: top;\n",
       "    }\n",
       "\n",
       "    .dataframe thead th {\n",
       "        text-align: right;\n",
       "    }\n",
       "</style>\n",
       "<table border=\"1\" class=\"dataframe\">\n",
       "  <thead>\n",
       "    <tr style=\"text-align: right;\">\n",
       "      <th></th>\n",
       "      <th>hid</th>\n",
       "      <th>id</th>\n",
       "      <th>pid</th>\n",
       "      <th>contxt</th>\n",
       "      <th>diag</th>\n",
       "      <th>diag_code</th>\n",
       "      <th>tcm_syn</th>\n",
       "      <th>tcms_code</th>\n",
       "      <th>tan</th>\n",
       "      <th>feng</th>\n",
       "      <th>han</th>\n",
       "      <th>ren</th>\n",
       "      <th>qixu</th>\n",
       "      <th>yinxu</th>\n",
       "      <th>fei</th>\n",
       "      <th>pi</th>\n",
       "      <th>shen</th>\n",
       "    </tr>\n",
       "  </thead>\n",
       "  <tbody>\n",
       "    <tr>\n",
       "      <th>10519</th>\n",
       "      <td>2</td>\n",
       "      <td>10520</td>\n",
       "      <td>201930154</td>\n",
       "      <td>咳嗽，咳痰，气促3个月。 望之少神、表情痛苦，面色无华，形体适中；不能久立、精神不振、发育正...</td>\n",
       "      <td>支气管扩张症伴感染</td>\n",
       "      <td>6</td>\n",
       "      <td>痰热壅肺</td>\n",
       "      <td>8</td>\n",
       "      <td>1</td>\n",
       "      <td>0</td>\n",
       "      <td>0</td>\n",
       "      <td>1</td>\n",
       "      <td>0</td>\n",
       "      <td>0</td>\n",
       "      <td>1</td>\n",
       "      <td>0</td>\n",
       "      <td>0</td>\n",
       "    </tr>\n",
       "    <tr>\n",
       "      <th>5378</th>\n",
       "      <td>2</td>\n",
       "      <td>5379</td>\n",
       "      <td>201839501</td>\n",
       "      <td>反复胸闷、气促1年，再发加重1天。 望之少神、表情痛苦，面色少华，形体适中；行动自如、精神不...</td>\n",
       "      <td>支气管哮喘</td>\n",
       "      <td>7</td>\n",
       "      <td>寒哮</td>\n",
       "      <td>5</td>\n",
       "      <td>0</td>\n",
       "      <td>0</td>\n",
       "      <td>1</td>\n",
       "      <td>0</td>\n",
       "      <td>0</td>\n",
       "      <td>0</td>\n",
       "      <td>1</td>\n",
       "      <td>0</td>\n",
       "      <td>0</td>\n",
       "    </tr>\n",
       "    <tr>\n",
       "      <th>10117</th>\n",
       "      <td>1</td>\n",
       "      <td>10118</td>\n",
       "      <td>1500265</td>\n",
       "      <td>鼻塞流涕咳嗽伴胸中不适十六天 面色自然，双目有神。语声清晰，呼吸平稳，未闻及特殊气味。舌质红...</td>\n",
       "      <td>急性支气管炎</td>\n",
       "      <td>2</td>\n",
       "      <td>痰热壅肺</td>\n",
       "      <td>8</td>\n",
       "      <td>1</td>\n",
       "      <td>0</td>\n",
       "      <td>0</td>\n",
       "      <td>1</td>\n",
       "      <td>0</td>\n",
       "      <td>0</td>\n",
       "      <td>1</td>\n",
       "      <td>0</td>\n",
       "      <td>0</td>\n",
       "    </tr>\n",
       "    <tr>\n",
       "      <th>11625</th>\n",
       "      <td>1</td>\n",
       "      <td>11626</td>\n",
       "      <td>1609618</td>\n",
       "      <td>反复咳嗽咳痰气喘八年，加重一天。 痴呆状，气喘明显，喉中痰鸣，排痰不能，阵发性咳嗽。舌质偏淡...</td>\n",
       "      <td>慢性阻塞性肺病伴感染</td>\n",
       "      <td>5</td>\n",
       "      <td>痰浊阻肺</td>\n",
       "      <td>9</td>\n",
       "      <td>1</td>\n",
       "      <td>0</td>\n",
       "      <td>0</td>\n",
       "      <td>0</td>\n",
       "      <td>0</td>\n",
       "      <td>0</td>\n",
       "      <td>1</td>\n",
       "      <td>0</td>\n",
       "      <td>0</td>\n",
       "    </tr>\n",
       "    <tr>\n",
       "      <th>8211</th>\n",
       "      <td>1</td>\n",
       "      <td>8212</td>\n",
       "      <td>1501574</td>\n",
       "      <td>咳嗽咳痰伴发热十余天。  :该患者以咳嗽咳痰发热为主诉，结合患者舌脉，舌质红，苔黄，脉滑，</td>\n",
       "      <td>肺部感染</td>\n",
       "      <td>1</td>\n",
       "      <td>痰热壅肺</td>\n",
       "      <td>8</td>\n",
       "      <td>1</td>\n",
       "      <td>0</td>\n",
       "      <td>0</td>\n",
       "      <td>1</td>\n",
       "      <td>0</td>\n",
       "      <td>0</td>\n",
       "      <td>1</td>\n",
       "      <td>0</td>\n",
       "      <td>0</td>\n",
       "    </tr>\n",
       "  </tbody>\n",
       "</table>\n",
       "</div>"
      ],
      "text/plain": [
       "       hid     id        pid  \\\n",
       "10519    2  10520  201930154   \n",
       "5378     2   5379  201839501   \n",
       "10117    1  10118    1500265   \n",
       "11625    1  11626    1609618   \n",
       "8211     1   8212    1501574   \n",
       "\n",
       "                                                  contxt        diag  \\\n",
       "10519  咳嗽，咳痰，气促3个月。 望之少神、表情痛苦，面色无华，形体适中；不能久立、精神不振、发育正...   支气管扩张症伴感染   \n",
       "5378   反复胸闷、气促1年，再发加重1天。 望之少神、表情痛苦，面色少华，形体适中；行动自如、精神不...       支气管哮喘   \n",
       "10117  鼻塞流涕咳嗽伴胸中不适十六天 面色自然，双目有神。语声清晰，呼吸平稳，未闻及特殊气味。舌质红...      急性支气管炎   \n",
       "11625  反复咳嗽咳痰气喘八年，加重一天。 痴呆状，气喘明显，喉中痰鸣，排痰不能，阵发性咳嗽。舌质偏淡...  慢性阻塞性肺病伴感染   \n",
       "8211       咳嗽咳痰伴发热十余天。  :该患者以咳嗽咳痰发热为主诉，结合患者舌脉，舌质红，苔黄，脉滑，        肺部感染   \n",
       "\n",
       "       diag_code tcm_syn  tcms_code  tan  feng  han  ren  qixu  yinxu  fei  \\\n",
       "10519          6    痰热壅肺          8    1     0    0    1     0      0    1   \n",
       "5378           7      寒哮          5    0     0    1    0     0      0    1   \n",
       "10117          2    痰热壅肺          8    1     0    0    1     0      0    1   \n",
       "11625          5    痰浊阻肺          9    1     0    0    0     0      0    1   \n",
       "8211           1    痰热壅肺          8    1     0    0    1     0      0    1   \n",
       "\n",
       "       pi  shen  \n",
       "10519   0     0  \n",
       "5378    0     0  \n",
       "10117   0     0  \n",
       "11625   0     0  \n",
       "8211    0     0  "
      ]
     },
     "execution_count": 646,
     "metadata": {},
     "output_type": "execute_result"
    }
   ],
   "source": [
    "data0=pd.read_excel(\"./data/dataset/dataset0.xls\")\n",
    "data=data0.sample(frac=1.0)\n",
    "y=data.tcms_code\n",
    "outm=data.iloc[:,8:]\n",
    "context=data.contxt\n",
    "diag=data.diag\n",
    "data.head()"
   ]
  },
  {
   "cell_type": "code",
   "execution_count": 647,
   "metadata": {},
   "outputs": [
    {
     "name": "stdout",
     "output_type": "stream",
     "text": [
      "(14075, 17)\n",
      "(14075,)\n",
      "(14075, 9)\n",
      "(14075,)\n",
      "(14075,)\n",
      "{0, 1, 2, 3, 4, 5, 6, 7}\n"
     ]
    }
   ],
   "source": [
    "print(data.shape)\n",
    "print(y.shape)\n",
    "print(outm.shape)\n",
    "print(context.shape)\n",
    "print(diag.shape)\n",
    "print(set(data.diag_code))"
   ]
  },
  {
   "cell_type": "code",
   "execution_count": 648,
   "metadata": {},
   "outputs": [
    {
     "data": {
      "text/html": [
       "<div>\n",
       "<style scoped>\n",
       "    .dataframe tbody tr th:only-of-type {\n",
       "        vertical-align: middle;\n",
       "    }\n",
       "\n",
       "    .dataframe tbody tr th {\n",
       "        vertical-align: top;\n",
       "    }\n",
       "\n",
       "    .dataframe thead th {\n",
       "        text-align: right;\n",
       "    }\n",
       "</style>\n",
       "<table border=\"1\" class=\"dataframe\">\n",
       "  <thead>\n",
       "    <tr style=\"text-align: right;\">\n",
       "      <th></th>\n",
       "      <th>hid</th>\n",
       "      <th>id</th>\n",
       "      <th>pid</th>\n",
       "      <th>contxt</th>\n",
       "      <th>diag</th>\n",
       "      <th>diag_code</th>\n",
       "      <th>tcm_syn</th>\n",
       "      <th>tcms_code</th>\n",
       "      <th>tan</th>\n",
       "      <th>feng</th>\n",
       "      <th>han</th>\n",
       "      <th>ren</th>\n",
       "      <th>qixu</th>\n",
       "      <th>yinxu</th>\n",
       "      <th>fei</th>\n",
       "      <th>pi</th>\n",
       "      <th>shen</th>\n",
       "    </tr>\n",
       "  </thead>\n",
       "  <tbody>\n",
       "    <tr>\n",
       "      <th>343</th>\n",
       "      <td>2</td>\n",
       "      <td>3704</td>\n",
       "      <td>201921677</td>\n",
       "      <td>反复咳嗽咳痰4月余，加重10余天。 望之少神、表情痛苦，面色少华，形体适中；动则气促、精神不...</td>\n",
       "      <td>肺部感染</td>\n",
       "      <td>1</td>\n",
       "      <td>风寒袭肺</td>\n",
       "      <td>3</td>\n",
       "      <td>0</td>\n",
       "      <td>1</td>\n",
       "      <td>1</td>\n",
       "      <td>0</td>\n",
       "      <td>0</td>\n",
       "      <td>0</td>\n",
       "      <td>1</td>\n",
       "      <td>0</td>\n",
       "      <td>0</td>\n",
       "    </tr>\n",
       "    <tr>\n",
       "      <th>492</th>\n",
       "      <td>2</td>\n",
       "      <td>4500</td>\n",
       "      <td>201927871</td>\n",
       "      <td>咳嗽、畏寒7天，发热3天 望之有神、表情正常，面色荣润，形体适中；行动自如、精神良好、发育正...</td>\n",
       "      <td>急性支气管炎</td>\n",
       "      <td>2</td>\n",
       "      <td>风热犯肺</td>\n",
       "      <td>4</td>\n",
       "      <td>0</td>\n",
       "      <td>1</td>\n",
       "      <td>0</td>\n",
       "      <td>1</td>\n",
       "      <td>0</td>\n",
       "      <td>0</td>\n",
       "      <td>1</td>\n",
       "      <td>0</td>\n",
       "      <td>0</td>\n",
       "    </tr>\n",
       "    <tr>\n",
       "      <th>361</th>\n",
       "      <td>2</td>\n",
       "      <td>3593</td>\n",
       "      <td>201900114</td>\n",
       "      <td>咳嗽、咳痰、气促8天，加重1天。 望之少神、表情痛苦，面色少华，形体适中；动则气促、精神不振...</td>\n",
       "      <td>肺部感染</td>\n",
       "      <td>1</td>\n",
       "      <td>风寒袭肺</td>\n",
       "      <td>3</td>\n",
       "      <td>0</td>\n",
       "      <td>1</td>\n",
       "      <td>1</td>\n",
       "      <td>0</td>\n",
       "      <td>0</td>\n",
       "      <td>0</td>\n",
       "      <td>1</td>\n",
       "      <td>0</td>\n",
       "      <td>0</td>\n",
       "    </tr>\n",
       "    <tr>\n",
       "      <th>78</th>\n",
       "      <td>1</td>\n",
       "      <td>939</td>\n",
       "      <td>1506437</td>\n",
       "      <td>确诊肺癌一年余，胸闷伴背痛一周。 面色自然，形体正常，双目有神，语声清晰，呼吸平稳，未闻及特...</td>\n",
       "      <td>肺癌</td>\n",
       "      <td>0</td>\n",
       "      <td>肺脾气虚</td>\n",
       "      <td>0</td>\n",
       "      <td>0</td>\n",
       "      <td>0</td>\n",
       "      <td>0</td>\n",
       "      <td>0</td>\n",
       "      <td>1</td>\n",
       "      <td>0</td>\n",
       "      <td>1</td>\n",
       "      <td>1</td>\n",
       "      <td>0</td>\n",
       "    </tr>\n",
       "    <tr>\n",
       "      <th>536</th>\n",
       "      <td>2</td>\n",
       "      <td>5340</td>\n",
       "      <td>201849028</td>\n",
       "      <td>反复喘息气促、咳嗽咳痰40余年，再发加重7天。 望之少神、表情正常，面色荣润，形体适中；不能...</td>\n",
       "      <td>支气管哮喘</td>\n",
       "      <td>7</td>\n",
       "      <td>寒哮</td>\n",
       "      <td>5</td>\n",
       "      <td>0</td>\n",
       "      <td>0</td>\n",
       "      <td>1</td>\n",
       "      <td>0</td>\n",
       "      <td>0</td>\n",
       "      <td>0</td>\n",
       "      <td>1</td>\n",
       "      <td>0</td>\n",
       "      <td>0</td>\n",
       "    </tr>\n",
       "  </tbody>\n",
       "</table>\n",
       "</div>"
      ],
      "text/plain": [
       "     hid    id        pid                                             contxt  \\\n",
       "343    2  3704  201921677  反复咳嗽咳痰4月余，加重10余天。 望之少神、表情痛苦，面色少华，形体适中；动则气促、精神不...   \n",
       "492    2  4500  201927871  咳嗽、畏寒7天，发热3天 望之有神、表情正常，面色荣润，形体适中；行动自如、精神良好、发育正...   \n",
       "361    2  3593  201900114  咳嗽、咳痰、气促8天，加重1天。 望之少神、表情痛苦，面色少华，形体适中；动则气促、精神不振...   \n",
       "78     1   939    1506437  确诊肺癌一年余，胸闷伴背痛一周。 面色自然，形体正常，双目有神，语声清晰，呼吸平稳，未闻及特...   \n",
       "536    2  5340  201849028  反复喘息气促、咳嗽咳痰40余年，再发加重7天。 望之少神、表情正常，面色荣润，形体适中；不能...   \n",
       "\n",
       "       diag  diag_code tcm_syn  tcms_code  tan  feng  han  ren  qixu  yinxu  \\\n",
       "343    肺部感染          1    风寒袭肺          3    0     1    1    0     0      0   \n",
       "492  急性支气管炎          2    风热犯肺          4    0     1    0    1     0      0   \n",
       "361    肺部感染          1    风寒袭肺          3    0     1    1    0     0      0   \n",
       "78       肺癌          0    肺脾气虚          0    0     0    0    0     1      0   \n",
       "536   支气管哮喘          7      寒哮          5    0     0    1    0     0      0   \n",
       "\n",
       "     fei  pi  shen  \n",
       "343    1   0     0  \n",
       "492    1   0     0  \n",
       "361    1   0     0  \n",
       "78     1   1     0  \n",
       "536    1   0     0  "
      ]
     },
     "execution_count": 648,
     "metadata": {},
     "output_type": "execute_result"
    }
   ],
   "source": [
    "data0_ex=pd.read_excel(\"./data/dataset/external0.xls\")\n",
    "data_ex=data0_ex.sample(frac=1.0)\n",
    "y_ex=data_ex.tcms_code\n",
    "outm_ex=data_ex.iloc[:,8:]\n",
    "context_ex=data_ex.contxt\n",
    "diag_ex=data_ex.diag\n",
    "data_ex.head()"
   ]
  },
  {
   "cell_type": "code",
   "execution_count": 649,
   "metadata": {},
   "outputs": [
    {
     "name": "stdout",
     "output_type": "stream",
     "text": [
      "(1000, 17)\n",
      "(1000,)\n",
      "(1000, 9)\n",
      "(1000,)\n",
      "(1000,)\n",
      "{0, 1, 2, 3, 4, 5, 6, 7}\n"
     ]
    }
   ],
   "source": [
    "print(data_ex.shape)\n",
    "print(y_ex.shape)\n",
    "print(outm_ex.shape)\n",
    "print(context_ex.shape)\n",
    "print(diag_ex.shape)\n",
    "print(set(data_ex.diag_code))"
   ]
  },
  {
   "cell_type": "code",
   "execution_count": 650,
   "metadata": {
    "scrolled": true
   },
   "outputs": [],
   "source": [
    "dictfile=\"./data/tcm_all_dict_2.txt\"\n",
    "stopwords=\"./data/stopwords.txt\"\n",
    "jieba.load_userdict(dictfile)   "
   ]
  },
  {
   "cell_type": "code",
   "execution_count": 651,
   "metadata": {},
   "outputs": [],
   "source": [
    "def file2doc1(infile,dictfile):    \n",
    "    jieba.load_userdict(dictfile)                     \n",
    "    doc = [w for x in codecs.open(file_name, 'r', 'utf-8').readlines() for w in jieba.cut(x.strip())]\n",
    "    return doc"
   ]
  },
  {
   "cell_type": "code",
   "execution_count": 652,
   "metadata": {},
   "outputs": [],
   "source": [
    "def load_stopword(filename):  \n",
    "    stopwords = [line.strip() for line in open(filename, 'r', encoding='utf-8').readlines()]  \n",
    "    return stopwords"
   ]
  },
  {
   "cell_type": "code",
   "execution_count": 653,
   "metadata": {},
   "outputs": [],
   "source": [
    "def extract_chn(data):\n",
    "    pattern=\"[\\u4e00-\\u9fa5]\"\n",
    "    regex=re.compile(pattern)\n",
    "    res=regex.findall(data)\n",
    "    #return \"\".join(res)\n",
    "    return res"
   ]
  },
  {
   "cell_type": "code",
   "execution_count": 654,
   "metadata": {},
   "outputs": [],
   "source": [
    "def drop_alnum(astr):\n",
    "    drop_str=\"0123456789abcdefghijklmnopqrstuvwxyzABCDEFGHIJKLMNOPQRSTUVWXYZ\"\n",
    "    str1=astr\n",
    "    for ch in str1:\n",
    "        if ch in drop_str:\n",
    "            str1=str1.replace(ch,\"\")\n",
    "    return str1"
   ]
  },
  {
   "cell_type": "code",
   "execution_count": 655,
   "metadata": {},
   "outputs": [],
   "source": [
    "def get_corpus(context):\n",
    "    corpus=[]    \n",
    "    \n",
    "    for sent in context:\n",
    "        sent=sent+\"；\"\n",
    "        sent=del_neg_txt1(sent) #drop negative words  \n",
    "        sent=del_neg_txt2(sent)\n",
    "        sent.strip(\"；\")\n",
    "        strlist=list(jieba.cut(sent))\n",
    "        strlist=sorted(set(strlist),key=strlist.index)\n",
    "        corpus.append(strlist)\n",
    "        \n",
    "    return corpus"
   ]
  },
  {
   "cell_type": "code",
   "execution_count": 656,
   "metadata": {},
   "outputs": [],
   "source": [
    "def get_corpus1(doc,stopwords):    \n",
    "    stopword_list=load_stopword(stopwords)   \n",
    "    #r1 = u'[a-zA-Z0-9’!\"#$%&\\'()*+,-./:;<=>?@，。?★、…【】《》？“”‘’！[\\\\]^_`{|}~]+'   #drop letters, numbers and sepcial chars\n",
    "    out=[]\n",
    "    \n",
    "    for sent in doc:        \n",
    "        doc_stopword=[y for y in sent if y not in stopword_list] #drop stopword\n",
    "        res=[]\n",
    "        for y in doc_stopword:\n",
    "            #res.append(re.sub(r1,\"\",y))   #drop letters, numbers and sepcial chars\n",
    "            y=drop_alnum(y)\n",
    "            res.append(y)  #drop letters, numbers and sepcial chars\n",
    "        out.append(res)\n",
    "    return out"
   ]
  },
  {
   "cell_type": "code",
   "execution_count": 657,
   "metadata": {},
   "outputs": [],
   "source": [
    "def get_corpus2(corpus,diagnosis):        \n",
    "    out=list()  \n",
    "    \n",
    "    LEN=len(corpus)\n",
    "    diaglist=list(diagnosis)\n",
    "    for i in range(LEN):\n",
    "        inlist=list()\n",
    "        inlist.extend(corpus[i])        \n",
    "        inlist.append(diaglist[i])\n",
    "        out.append(inlist)        \n",
    "    return out"
   ]
  },
  {
   "cell_type": "code",
   "execution_count": 658,
   "metadata": {
    "scrolled": true
   },
   "outputs": [],
   "source": [
    "def del_neg_txt1(contxt):\n",
    "    txt=contxt\n",
    "    endtxt=\"\"\n",
    "    txttmp=\"\"\n",
    "    item0=\"无\"   \n",
    "    item1=[\"；\",\"，\",\"舌\"] \n",
    "    #item1=[\"；\",\"，\"]\n",
    "\n",
    "    for i in range(len(contxt)):\n",
    "        if txt.find(item0)>0:\n",
    "            start=txt.find(item0)\n",
    "            subtxt1=txt[:start]\n",
    "            txttmp+=subtxt1\n",
    "            #print(txttmp+\"\\n\")\n",
    "            subtxt=txt[start:]\n",
    "            #print(subtxt+\"\\n\")\n",
    "    \n",
    "            for sign in item1:        \n",
    "                if subtxt.find(sign)>0:        \n",
    "                    end=subtxt.find(sign)        \n",
    "                    break \n",
    "            txt=subtxt[end:]\n",
    "            #print(txt+\"\\n\")\n",
    "        endtxt=txt\n",
    "        \n",
    "    txttmp+=endtxt\n",
    "    #print(txttmp+\"\\n\")\n",
    "    return txttmp"
   ]
  },
  {
   "cell_type": "code",
   "execution_count": 659,
   "metadata": {},
   "outputs": [],
   "source": [
    "def del_neg_txt2(contxt):\n",
    "    txt=contxt\n",
    "    endtxt=\"\"\n",
    "    txttmp=\"\"\n",
    "    item0=\"未\"\n",
    "    item1=[\"；\",\"，\",\"有\"] \n",
    "    #item1=[\"；\",\"，\"]\n",
    "\n",
    "    for i in range(len(contxt)):\n",
    "        if txt.find(item0)>0:\n",
    "            start=txt.find(item0)\n",
    "            subtxt1=txt[:start]\n",
    "            txttmp+=subtxt1\n",
    "            #print(txttmp+\"\\n\")\n",
    "            subtxt=txt[start:]\n",
    "            #print(subtxt+\"\\n\")\n",
    "    \n",
    "            for sign in item1:        \n",
    "                if subtxt.find(sign)>0:        \n",
    "                    end=subtxt.find(sign)        \n",
    "                    break \n",
    "            txt=subtxt[end:]\n",
    "            #print(txt+\"\\n\")\n",
    "        endtxt=txt\n",
    "        \n",
    "    txttmp+=endtxt\n",
    "    #print(txttmp+\"\\n\")\n",
    "    return txttmp"
   ]
  },
  {
   "cell_type": "code",
   "execution_count": 661,
   "metadata": {
    "scrolled": true
   },
   "outputs": [],
   "source": [
    "atxt=get_corpus(context)\n",
    "atxt_ex=get_corpus(context_ex)\n",
    "#print(atxt)\n",
    "cps=get_corpus1(atxt, stopwords)\n",
    "cps_ex=get_corpus1(atxt_ex,stopwords)\n",
    "#print(len(cps))\n",
    "cps1=get_corpus2(cps,diag)\n",
    "#i=0\n",
    "#for sent in cps:\n",
    "    #print(i, sent)\n",
    "   #i+=1"
   ]
  },
  {
   "cell_type": "code",
   "execution_count": 520,
   "metadata": {
    "scrolled": true
   },
   "outputs": [
    {
     "name": "stdout",
     "output_type": "stream",
     "text": [
      "14075 1000\n"
     ]
    }
   ],
   "source": [
    "print(len(cps),len(cps_ex))"
   ]
  },
  {
   "cell_type": "code",
   "execution_count": 521,
   "metadata": {},
   "outputs": [],
   "source": [
    "#for i, sent in enumerate(cps):\n",
    "    #print(i, sent)"
   ]
  },
  {
   "cell_type": "code",
   "execution_count": 522,
   "metadata": {},
   "outputs": [],
   "source": [
    "import gensim\n",
    "import codecs\n",
    "from gensim.test.utils import common_texts\n",
    "from gensim.models import Word2Vec\n",
    "from gensim.models.word2vec import LineSentence"
   ]
  },
  {
   "cell_type": "code",
   "execution_count": 523,
   "metadata": {
    "scrolled": true
   },
   "outputs": [
    {
     "name": "stderr",
     "output_type": "stream",
     "text": [
      "d:\\code\\anaconda3\\lib\\site-packages\\smart_open\\smart_open_lib.py:398: UserWarning: This function is deprecated, use smart_open.open instead. See the migration notes for details: https://github.com/RaRe-Technologies/smart_open/blob/master/README.rst#migrating-to-the-new-open-function\n",
      "  'See the migration notes for details: %s' % _MIGRATION_NOTES_URL\n",
      "d:\\code\\anaconda3\\lib\\site-packages\\smart_open\\smart_open_lib.py:398: UserWarning: This function is deprecated, use smart_open.open instead. See the migration notes for details: https://github.com/RaRe-Technologies/smart_open/blob/master/README.rst#migrating-to-the-new-open-function\n",
      "  'See the migration notes for details: %s' % _MIGRATION_NOTES_URL\n",
      "d:\\code\\anaconda3\\lib\\site-packages\\gensim\\models\\base_any2vec.py:743: UserWarning: C extension not loaded, training will be slow. Install a C compiler and reinstall gensim for fast training.\n",
      "  \"C extension not loaded, training will be slow. \"\n"
     ]
    }
   ],
   "source": [
    "#model_w2v= gensim.models.KeyedVectors.load_word2vec_format(\"./model/w2v_122g.bin\",binary=True) #window=5, min_count=5,size=128, workers=4 122g-corpus\n",
    "model_w2v= gensim.models.Word2Vec.load(\"./model_w2v/w2v_wx\") #window=5, min_count=5,size=256, workers=4"
   ]
  },
  {
   "cell_type": "code",
   "execution_count": 524,
   "metadata": {},
   "outputs": [],
   "source": [
    "def get_vectors(corpus,model):\n",
    "    vectors=[]\n",
    "    \n",
    "    for sent in corpus:    \n",
    "        sentvec=[]\n",
    "        for word in sent:   \n",
    "            if word in model.wv.index2word:\n",
    "                sentvec.append(model[word])\n",
    "        vectors.append(sentvec)            \n",
    "    return vectors"
   ]
  },
  {
   "cell_type": "code",
   "execution_count": 525,
   "metadata": {
    "scrolled": true
   },
   "outputs": [
    {
     "name": "stderr",
     "output_type": "stream",
     "text": [
      "d:\\code\\anaconda3\\lib\\site-packages\\ipykernel_launcher.py:8: DeprecationWarning: Call to deprecated `__getitem__` (Method will be removed in 4.0.0, use self.wv.__getitem__() instead).\n",
      "  \n"
     ]
    },
    {
     "name": "stdout",
     "output_type": "stream",
     "text": [
      "elapse time : 44.346143 min\n"
     ]
    }
   ],
   "source": [
    "import time\n",
    "st1=time.time()\n",
    "vectors_w2v=get_vectors(cps,model_w2v)\n",
    "vectors_w2v_ex=get_vectors(cps_ex,model_w2v)\n",
    "st2=time.time()\n",
    "elapse=(st2-st1)/60.0\n",
    "print(\"elapse time : %f min\"%elapse)"
   ]
  },
  {
   "cell_type": "code",
   "execution_count": 180,
   "metadata": {},
   "outputs": [],
   "source": [
    "#word2vec cnn 1"
   ]
  },
  {
   "cell_type": "code",
   "execution_count": 285,
   "metadata": {},
   "outputs": [],
   "source": [
    "from keras.preprocessing.text import Tokenizer\n",
    "from keras.preprocessing.sequence import pad_sequences\n",
    "from keras.utils import to_categorical\n",
    "import numpy as np"
   ]
  },
  {
   "cell_type": "code",
   "execution_count": 286,
   "metadata": {},
   "outputs": [],
   "source": [
    "MAX_SEQUENCE_LENGTH =64\n",
    "EMBEDDING_DIM = 256\n",
    "VALIDATION_SPLIT = 0.16 \n",
    "TEST_SPLIT = 0.2"
   ]
  },
  {
   "cell_type": "code",
   "execution_count": 287,
   "metadata": {
    "scrolled": true
   },
   "outputs": [],
   "source": [
    "y=data.tcms_code\n",
    "outm=data.iloc[:,8:]\n",
    "x_ex=cps_ex\n",
    "y_ex=data_ex.tcms_code\n",
    "\n",
    "all_texts=cps\n",
    "tokenizer = Tokenizer()\n",
    "tokenizer.fit_on_texts(all_texts)\n",
    "sequences = tokenizer.texts_to_sequences(all_texts)\n",
    "word_index = tokenizer.word_index\n",
    "#print('Found %s unique tokens.' % len(word_index))\n",
    "datatxt = pad_sequences(sequences, maxlen=MAX_SEQUENCE_LENGTH)\n",
    "labels = to_categorical(np.asarray(y),num_classes=None)\n",
    "\n",
    "ex_texts=cps_ex\n",
    "tokenizer1=Tokenizer()\n",
    "tokenizer1.fit_on_texts(ex_texts)\n",
    "sequences1=tokenizer.texts_to_sequences(ex_texts)\n",
    "datatxt_ex=pad_sequences(sequences1,maxlen=MAX_SEQUENCE_LENGTH)\n",
    "labels_ex= to_categorical(np.asarray(y_ex),num_classes=None)\n",
    "#print('Shape of data tensor:', datatxt.shape)\n",
    "#print('Shape of label tensor:', labels.shape)\n",
    "#print(word_index)\n",
    "y_ex=labels_ex"
   ]
  },
  {
   "cell_type": "code",
   "execution_count": 288,
   "metadata": {},
   "outputs": [],
   "source": [
    "from sklearn.model_selection import train_test_split\n",
    "x=datatxt\n",
    "y1=labels\n",
    "x_train, x_test, y_train, y_test=train_test_split(x,y1,test_size=0.2,random_state=None)"
   ]
  },
  {
   "cell_type": "code",
   "execution_count": 289,
   "metadata": {},
   "outputs": [],
   "source": [
    "# text - cnn model"
   ]
  },
  {
   "cell_type": "code",
   "execution_count": 290,
   "metadata": {},
   "outputs": [],
   "source": [
    "from keras.layers import Dense, Input, Flatten, Dropout\n",
    "from keras.layers import Conv1D, MaxPooling1D, Embedding\n",
    "from keras.models import Sequential\n",
    "#EMBEDDING_DIM = 128"
   ]
  },
  {
   "cell_type": "code",
   "execution_count": 291,
   "metadata": {
    "scrolled": true
   },
   "outputs": [
    {
     "name": "stdout",
     "output_type": "stream",
     "text": [
      "_________________________________________________________________\n",
      "Layer (type)                 Output Shape              Param #   \n",
      "=================================================================\n",
      "embedding_13 (Embedding)     (None, 64, 256)           600576    \n",
      "_________________________________________________________________\n",
      "dropout_13 (Dropout)         (None, 64, 256)           0         \n",
      "_________________________________________________________________\n",
      "conv1d_13 (Conv1D)           (None, 64, 512)           393728    \n",
      "_________________________________________________________________\n",
      "max_pooling1d_13 (MaxPooling (None, 32, 512)           0         \n",
      "_________________________________________________________________\n",
      "flatten_13 (Flatten)         (None, 16384)             0         \n",
      "_________________________________________________________________\n",
      "dense_25 (Dense)             (None, 256)               4194560   \n",
      "_________________________________________________________________\n",
      "dense_26 (Dense)             (None, 10)                2570      \n",
      "=================================================================\n",
      "Total params: 5,191,434\n",
      "Trainable params: 5,191,434\n",
      "Non-trainable params: 0\n",
      "_________________________________________________________________\n"
     ]
    }
   ],
   "source": [
    "model = Sequential()\n",
    "model.add(Embedding(len(word_index) + 1, EMBEDDING_DIM, input_length=MAX_SEQUENCE_LENGTH))\n",
    "model.add(Dropout(0.2))\n",
    "model.add(Conv1D(512, 3, padding='same', activation='relu', strides=1))\n",
    "model.add(MaxPooling1D(2))\n",
    "model.add(Flatten())\n",
    "model.add(Dense(EMBEDDING_DIM, activation='relu'))\n",
    "model.add(Dense(labels.shape[1], activation='softmax'))\n",
    "model.summary()"
   ]
  },
  {
   "cell_type": "code",
   "execution_count": 292,
   "metadata": {
    "scrolled": false
   },
   "outputs": [
    {
     "name": "stdout",
     "output_type": "stream",
     "text": [
      "Train on 9008 samples, validate on 2252 samples\n",
      "Epoch 1/4\n",
      "9008/9008 [==============================] - 27s 3ms/step - loss: 0.9660 - acc: 0.6842 - val_loss: 0.4273 - val_acc: 0.8655\n",
      "Epoch 2/4\n",
      "9008/9008 [==============================] - 26s 3ms/step - loss: 0.2253 - acc: 0.9288 - val_loss: 0.2451 - val_acc: 0.9241\n",
      "Epoch 3/4\n",
      "9008/9008 [==============================] - 26s 3ms/step - loss: 0.1157 - acc: 0.9648 - val_loss: 0.2452 - val_acc: 0.9307\n",
      "Epoch 4/4\n",
      "9008/9008 [==============================] - 27s 3ms/step - loss: 0.0679 - acc: 0.9782 - val_loss: 0.2457 - val_acc: 0.9352\n",
      "0.9410301950642737 0.955\n"
     ]
    }
   ],
   "source": [
    "model.compile(loss='categorical_crossentropy', optimizer='adam', metrics=['accuracy'])\n",
    "#model.fit(x_train, y_train, batch_size=64, epochs=4, verbose=1, validation_data=(x_test, y_test)) \n",
    "model.fit(x_train, y_train, batch_size=64, epochs=4, verbose=1, validation_split=0.2, shuffle=True) \n",
    "#score1 = model.evaluate(x_train,y_train, verbose=0)\n",
    "score2 = model.evaluate(x_test,y_test, verbose=0)\n",
    "score_ex = model.evaluate(datatxt_ex,y_ex, verbose=0)\n",
    "#score_ex=model.evaluate(x_ex_test,y_ex_test, verbose=0)\n",
    "y_predict=model.predict(x_test)\n",
    "y_pred_ex=model.predict(datatxt_ex)\n",
    "y_predict1=np.argmax(y_predict,axis=1)\n",
    "y_predict2=np.argmax(y_pred_ex,axis=1)\n",
    "print(score2[1],score_ex[1])"
   ]
  },
  {
   "cell_type": "code",
   "execution_count": 293,
   "metadata": {},
   "outputs": [],
   "source": [
    "from sklearn.model_selection import train_test_split\n",
    "import sklearn.metrics as metrics"
   ]
  },
  {
   "cell_type": "code",
   "execution_count": 294,
   "metadata": {},
   "outputs": [],
   "source": [
    "# evaluation of performance on external dataset"
   ]
  },
  {
   "cell_type": "code",
   "execution_count": 295,
   "metadata": {},
   "outputs": [
    {
     "name": "stdout",
     "output_type": "stream",
     "text": [
      "acc1: 0.955\n",
      "prec1: 0.9575435297650285\n",
      "recall1: 0.955\n",
      "fscore1: 0.9549943922029115\n"
     ]
    }
   ],
   "source": [
    "y_labels1_ex = to_categorical(np.asarray(y_predict2),num_classes=None) #real to vector\n",
    "#ym=outm\n",
    "#y_m=np.argmax(y_labels1,axis=1)\n",
    "#print(\"y_m\",y_m)\n",
    "\n",
    "y_pred2_ex=y_predict2  #vector to scalar\n",
    "y_p1_ex=np.argmax(y_ex,axis=1) #vecor to scalar\n",
    "#print(y_p1)\n",
    "\n",
    "print(\"acc1:\",metrics.accuracy_score(y_p1_ex, y_pred2_ex))\n",
    "print(\"prec1:\",metrics.precision_score(y_p1_ex, y_pred2_ex, average='weighted'))\n",
    "print(\"recall1:\",metrics.recall_score(y_ex, y_labels1_ex, average='weighted'))\n",
    "print(\"fscore1:\",metrics.f1_score(y_ex, y_labels1_ex, average='weighted'))"
   ]
  },
  {
   "cell_type": "code",
   "execution_count": 296,
   "metadata": {},
   "outputs": [],
   "source": [
    "# evaluation 95%CI for metrics"
   ]
  },
  {
   "cell_type": "code",
   "execution_count": 297,
   "metadata": {},
   "outputs": [
    {
     "name": "stdout",
     "output_type": "stream",
     "text": [
      "0.955 0.941 0.966\n",
      "0.957764685729249 0.945349061539703 0.9682269841706762\n",
      "0.955 0.941 0.966\n",
      "0.9550453282516265 0.9414218133875186 0.9662327272522252\n"
     ]
    }
   ],
   "source": [
    "y_true_ex=pd.DataFrame(y_p1_ex,columns=[\"true\"])\n",
    "y_pred1_ex=pd.DataFrame(y_pred2_ex,columns=[\"pred\"])\n",
    "y_true1_ex=y_true_ex.reset_index(drop=True)\n",
    "#print(y_pred1)\n",
    "#print(y_true1)\n",
    "\n",
    "y_true_pred_ex=pd.concat([y_true1_ex,y_pred1_ex],axis=1)\n",
    "y_true_pred_ex.columns=[\"true\",\"pred\"]\n",
    "#print(y_true_pred)\n",
    "\n",
    "acc_list=list()\n",
    "prec_list=list()\n",
    "rec_list=list()\n",
    "f1_list=list()\n",
    "for i in range(1000):\n",
    "    resample=y_true_pred_ex.sample(frac=1.0,replace=True)\n",
    "    #print(resample)\n",
    "    y_t=resample.true\n",
    "    y_p=resample.pred\n",
    "    #print(y_t)\n",
    "    acc_list.append(metrics.accuracy_score(y_t, y_p))\n",
    "    prec_list.append(metrics.precision_score(y_t, y_p, average='weighted'))\n",
    "    rec_list.append(metrics.recall_score(y_t, y_p, average='weighted'))\n",
    "    f1_list.append(metrics.f1_score(y_t, y_p, average='weighted'))\n",
    "    #print(\"prec1:\", i, prec_list[i])\n",
    "print(np.median(acc_list),np.percentile(acc_list,2.5), np.percentile(acc_list,97.5))    \n",
    "print(np.median(prec_list),np.percentile(prec_list,2.5), np.percentile(prec_list,97.5))\n",
    "print(np.median(rec_list),np.percentile(rec_list,2.5), np.percentile(rec_list,97.5))\n",
    "print(np.median(f1_list),np.percentile(f1_list,2.5), np.percentile(f1_list,97.5))"
   ]
  },
  {
   "cell_type": "code",
   "execution_count": 231,
   "metadata": {},
   "outputs": [],
   "source": [
    "# evaluation of performance on test dataset"
   ]
  },
  {
   "cell_type": "code",
   "execution_count": 791,
   "metadata": {},
   "outputs": [
    {
     "name": "stdout",
     "output_type": "stream",
     "text": [
      "[2 7 7 1 0 1 3 0 9 1 2 8 6 3 5 0 7 1 8 9 7 2 0 6 6 2 0 1 6 1 2 7 8 1 0 1 4\n",
      " 6 6 9 7 2 2 9 4 2 6 2 2 9 4 9 3 2 8 0 6 5 9 4 0 0 8 6 3 6 2 8 2 4 0 3 4 1\n",
      " 7 9 7 4 9 9 6 0 5 0 4 6 7 0 6 2 7 4 9 0 3 7 6 2 7 8 8 0 9 9 9 6 2 4 2 9 9\n",
      " 4 7 8 0 2 0 6 4 9 4 2 1 1 3 6 4 7 7 6 9 3 2 7 8 1 7 3 2 7 1 5 2 7 2 5 5 3\n",
      " 9 5 6 9 7 3 4 1 2 4 9 7]\n",
      "acc1: 0.6\n",
      "prec1: 0.6468777494972349\n",
      "recall1: 0.6\n",
      "fscore1: 0.6076053063448641\n"
     ]
    }
   ],
   "source": [
    "#print(y_test)\n",
    "y_labels1 = to_categorical(np.asarray(y_predict1),num_classes=None) #real to vector\n",
    "#ym=outm\n",
    "#y_m=np.argmax(y_labels1,axis=1)\n",
    "#print(\"y_m\",y_m)\n",
    "\n",
    "y_pred2=np.argmax(y_labels1,axis=1) #vector to scalar\n",
    "y_p1=np.argmax(y_test,axis=1) #vecor to scalar\n",
    "print(y_p1)\n",
    "\n",
    "print(\"acc1:\",metrics.accuracy_score(y_p1, y_pred2))\n",
    "print(\"prec1:\",metrics.precision_score(y_p1, y_pred2, average='weighted'))\n",
    "print(\"recall1:\",metrics.recall_score(y_test, y_labels1, average='weighted'))\n",
    "print(\"fscore1:\",metrics.f1_score(y_test, y_labels1, average='weighted'))\n",
    "\n",
    "#print(y_predict1)"
   ]
  },
  {
   "cell_type": "code",
   "execution_count": 131,
   "metadata": {},
   "outputs": [],
   "source": [
    "y_true=pd.DataFrame(y_p1,columns=[\"true\"])\n",
    "y_pred1=pd.DataFrame(y_predict2,columns=[\"pred\"])\n",
    "y_true1=y_true.reset_index(drop=True)\n",
    "#print(y_pred1)\n",
    "#print(y_true1)"
   ]
  },
  {
   "cell_type": "code",
   "execution_count": 132,
   "metadata": {},
   "outputs": [],
   "source": [
    "y_true_pred=pd.concat([y_true1,y_pred1],axis=1)\n",
    "y_true_pred.columns=[\"true\",\"pred\"]\n",
    "#print(y_true_pred)"
   ]
  },
  {
   "cell_type": "code",
   "execution_count": 133,
   "metadata": {},
   "outputs": [
    {
     "name": "stdout",
     "output_type": "stream",
     "text": [
      "0.958436944937833 0.9509680284191829 0.9655417406749556\n",
      "0.9587141075816155 0.9511845912199828 0.9655747032065876\n",
      "0.958436944937833 0.9509680284191829 0.9655417406749556\n",
      "0.9583682232616992 0.9508007740328707 0.9654655468221037\n"
     ]
    }
   ],
   "source": [
    "acc_list=list()\n",
    "prec_list=list()\n",
    "rec_list=list()\n",
    "f1_list=list()\n",
    "for i in range(1000):\n",
    "    resample=y_true_pred.sample(frac=1.0,replace=True)\n",
    "    #print(resample)\n",
    "    y_t=resample.true\n",
    "    y_p=resample.pred\n",
    "    #print(y_t)\n",
    "    acc_list.append(metrics.accuracy_score(y_t, y_p))\n",
    "    prec_list.append(metrics.precision_score(y_t, y_p, average='weighted'))\n",
    "    rec_list.append(metrics.recall_score(y_t, y_p, average='weighted'))\n",
    "    f1_list.append(metrics.f1_score(y_t, y_p, average='weighted'))\n",
    "    #print(\"prec1:\", i, prec_list[i])\n",
    "print(np.median(acc_list),np.percentile(acc_list,2.5), np.percentile(acc_list,97.5))    \n",
    "print(np.median(prec_list),np.percentile(prec_list,2.5), np.percentile(prec_list,97.5))\n",
    "print(np.median(rec_list),np.percentile(rec_list,2.5), np.percentile(rec_list,97.5))\n",
    "print(np.median(f1_list),np.percentile(f1_list,2.5), np.percentile(f1_list,97.5))"
   ]
  },
  {
   "cell_type": "code",
   "execution_count": 134,
   "metadata": {},
   "outputs": [],
   "source": [
    "from sklearn.metrics import classification_report"
   ]
  },
  {
   "cell_type": "code",
   "execution_count": 135,
   "metadata": {},
   "outputs": [
    {
     "name": "stdout",
     "output_type": "stream",
     "text": [
      "              precision    recall  f1-score   support\n",
      "\n",
      "           0     0.9957    0.9665    0.9809       239\n",
      "           1     0.9780    0.9944    0.9861       179\n",
      "           2     0.9902    1.0000    0.9951       203\n",
      "           3     0.9878    1.0000    0.9939       162\n",
      "           4     0.9150    0.9826    0.9476       230\n",
      "           5     0.9750    0.9653    0.9701       202\n",
      "           6     1.0000    1.0000    1.0000       147\n",
      "           7     0.9563    0.9808    0.9684       156\n",
      "           8     0.9357    0.9125    0.9240       606\n",
      "           9     0.9461    0.9407    0.9434       691\n",
      "\n",
      "   micro avg     0.9584    0.9584    0.9584      2815\n",
      "   macro avg     0.9680    0.9743    0.9709      2815\n",
      "weighted avg     0.9586    0.9584    0.9584      2815\n",
      " samples avg     0.9584    0.9584    0.9584      2815\n",
      "\n"
     ]
    }
   ],
   "source": [
    "#list1=set(list(y_test))\n",
    "#res=classification_report(y_test, y_labels1, labels=list1, digits=4, output_dict=True)\n",
    "res=classification_report(y_test, y_labels1, digits=4)\n",
    "print(res)"
   ]
  },
  {
   "cell_type": "code",
   "execution_count": null,
   "metadata": {},
   "outputs": [],
   "source": [
    "# word2vec cnn model"
   ]
  },
  {
   "cell_type": "code",
   "execution_count": 903,
   "metadata": {},
   "outputs": [],
   "source": [
    "from keras.layers import Embedding"
   ]
  },
  {
   "cell_type": "code",
   "execution_count": 904,
   "metadata": {
    "scrolled": true
   },
   "outputs": [
    {
     "name": "stdout",
     "output_type": "stream",
     "text": [
      "352196\n"
     ]
    }
   ],
   "source": [
    "embedding_matrix = np.zeros((len(word_index) + 1, EMBEDDING_DIM))\n",
    "print(len(model_w2v.wv.index2word))"
   ]
  },
  {
   "cell_type": "code",
   "execution_count": 905,
   "metadata": {},
   "outputs": [
    {
     "name": "stderr",
     "output_type": "stream",
     "text": [
      "d:\\code\\anaconda3\\lib\\site-packages\\ipykernel_launcher.py:4: DeprecationWarning: Call to deprecated `__getitem__` (Method will be removed in 4.0.0, use self.wv.__getitem__() instead).\n",
      "  after removing the cwd from sys.path.\n"
     ]
    }
   ],
   "source": [
    "for word, i in word_index.items():\n",
    "    #print(word,i)\n",
    "    if word in model_w2v.wv.index2word:\n",
    "        embedding_matrix[i] = np.asarray(model_w2v[word],dtype='float32')\n",
    "\n",
    "embedding_layer = Embedding(len(word_index) + 1, EMBEDDING_DIM,weights=[embedding_matrix],input_length=MAX_SEQUENCE_LENGTH,trainable=False)"
   ]
  },
  {
   "cell_type": "code",
   "execution_count": 906,
   "metadata": {},
   "outputs": [
    {
     "data": {
      "text/plain": [
       "(2254, 256)"
      ]
     },
     "execution_count": 906,
     "metadata": {},
     "output_type": "execute_result"
    }
   ],
   "source": [
    "embedding_matrix.shape"
   ]
  },
  {
   "cell_type": "code",
   "execution_count": 907,
   "metadata": {
    "scrolled": false
   },
   "outputs": [
    {
     "data": {
      "text/plain": [
       "(11260, 10)"
      ]
     },
     "execution_count": 907,
     "metadata": {},
     "output_type": "execute_result"
    }
   ],
   "source": [
    "labels.shape"
   ]
  },
  {
   "cell_type": "code",
   "execution_count": 908,
   "metadata": {},
   "outputs": [
    {
     "name": "stdout",
     "output_type": "stream",
     "text": [
      "_________________________________________________________________\n",
      "Layer (type)                 Output Shape              Param #   \n",
      "=================================================================\n",
      "embedding_36 (Embedding)     (None, 64, 256)           577024    \n",
      "_________________________________________________________________\n",
      "dropout_35 (Dropout)         (None, 64, 256)           0         \n",
      "_________________________________________________________________\n",
      "conv1d_35 (Conv1D)           (None, 64, 512)           393728    \n",
      "_________________________________________________________________\n",
      "max_pooling1d_35 (MaxPooling (None, 32, 512)           0         \n",
      "_________________________________________________________________\n",
      "flatten_35 (Flatten)         (None, 16384)             0         \n",
      "_________________________________________________________________\n",
      "dense_69 (Dense)             (None, 256)               4194560   \n",
      "_________________________________________________________________\n",
      "dense_70 (Dense)             (None, 10)                2570      \n",
      "=================================================================\n",
      "Total params: 5,167,882\n",
      "Trainable params: 4,590,858\n",
      "Non-trainable params: 577,024\n",
      "_________________________________________________________________\n"
     ]
    }
   ],
   "source": [
    "from keras.layers import Dense, Input, Flatten, Dropout\n",
    "from keras.layers import Conv1D, MaxPooling1D, Embedding\n",
    "from keras.models import Sequential\n",
    "\n",
    "model = Sequential()\n",
    "model.add(embedding_layer)\n",
    "model.add(Dropout(0.2))\n",
    "model.add(Conv1D(512, 3, padding='same', activation='relu', strides=1))\n",
    "model.add(MaxPooling1D(2))\n",
    "model.add(Flatten())\n",
    "model.add(Dense(EMBEDDING_DIM, activation='relu'))\n",
    "model.add(Dense(labels.shape[1], activation='softmax'))\n",
    "model.summary()"
   ]
  },
  {
   "cell_type": "code",
   "execution_count": 909,
   "metadata": {
    "scrolled": false
   },
   "outputs": [
    {
     "name": "stdout",
     "output_type": "stream",
     "text": [
      "Train on 9008 samples, validate on 2252 samples\n",
      "Epoch 1/6\n",
      "9008/9008 [==============================] - 21s 2ms/step - loss: 1.1106 - acc: 0.6348 - val_loss: 0.5352 - val_acc: 0.8419\n",
      "Epoch 2/6\n",
      "9008/9008 [==============================] - 21s 2ms/step - loss: 0.3404 - acc: 0.8918 - val_loss: 0.3254 - val_acc: 0.8956\n",
      "Epoch 3/6\n",
      "9008/9008 [==============================] - 21s 2ms/step - loss: 0.1775 - acc: 0.9423 - val_loss: 0.2821 - val_acc: 0.9094\n",
      "Epoch 4/6\n",
      "9008/9008 [==============================] - 21s 2ms/step - loss: 0.1065 - acc: 0.9651 - val_loss: 0.2558 - val_acc: 0.9232\n",
      "Epoch 5/6\n",
      "9008/9008 [==============================] - 21s 2ms/step - loss: 0.0736 - acc: 0.9789 - val_loss: 0.2658 - val_acc: 0.9192\n",
      "Epoch 6/6\n",
      "9008/9008 [==============================] - 21s 2ms/step - loss: 0.0553 - acc: 0.9838 - val_loss: 0.2757 - val_acc: 0.9258\n",
      "[0.2756943941433942, 0.925843694599653]\n"
     ]
    }
   ],
   "source": [
    "model.compile(loss='categorical_crossentropy', optimizer='adam', metrics=['accuracy']) \n",
    "model.fit(x_train, y_train, batch_size=64, epochs=6, verbose=1, validation_data=(x_test, y_test)) \n",
    "score = model.evaluate(x_test,y_test, verbose=0)\n",
    "print(score)"
   ]
  },
  {
   "cell_type": "code",
   "execution_count": 47,
   "metadata": {},
   "outputs": [],
   "source": [
    "# word2vec sklearn"
   ]
  },
  {
   "cell_type": "code",
   "execution_count": 526,
   "metadata": {},
   "outputs": [],
   "source": [
    "import pandas as pd"
   ]
  },
  {
   "cell_type": "code",
   "execution_count": 527,
   "metadata": {},
   "outputs": [],
   "source": [
    "def get_mean_vector(vectors): #transfer vectors to \n",
    "    veclist=[]\n",
    "    for line in vectors:\n",
    "        vec_df=pd.DataFrame(line)\n",
    "        #print(len(line))\n",
    "        vec_mean=vec_df.mean(axis=0).values\n",
    "        veclist.append(vec_mean)\n",
    "    return veclist"
   ]
  },
  {
   "cell_type": "code",
   "execution_count": 528,
   "metadata": {},
   "outputs": [],
   "source": [
    "w2v_list=get_mean_vector(vectors_w2v) #word2vec sklearn\n",
    "w2v_ex_list=get_mean_vector(vectors_w2v_ex)"
   ]
  },
  {
   "cell_type": "code",
   "execution_count": 530,
   "metadata": {
    "scrolled": true
   },
   "outputs": [
    {
     "name": "stdout",
     "output_type": "stream",
     "text": [
      "14075 256\n",
      "1000 256\n"
     ]
    }
   ],
   "source": [
    "print(len(w2v_list), len(w2v_list[0]))\n",
    "print(len(w2v_ex_list), len(w2v_ex_list[0]))"
   ]
  },
  {
   "cell_type": "code",
   "execution_count": 611,
   "metadata": {},
   "outputs": [],
   "source": [
    "from sklearn.model_selection import train_test_split\n",
    "import sklearn.metrics as metrics\n",
    "x=pd.DataFrame(w2v_list)\n",
    "y2=pd.DataFrame(data.tcms_code)\n",
    "\n",
    "x_train, x_test, y_train, y_test=train_test_split(x,y2,test_size=0.25,random_state=0)\n",
    "dts=train_test_split(x,y2,test_size=0.25,random_state=0)\n",
    "\n",
    "x_ex=pd.DataFrame(w2v_ex_list)\n",
    "y_ex=pd.DataFrame(data_ex.tcms_code)\n",
    "\n",
    "\n",
    "#x.to_excel(\"./data/dataset/x_w2v.xls\", header=True, index=False,  encoding=\"utf-8\")\n",
    "#y2.to_excel(\"./data/dataset/y_w2v.xls\", header=True, index=False,  encoding=\"utf-8\")\n",
    "#x_ex.to_excel(\"./data/dataset/x_ex_w2v.xls\", header=True, index=False,  encoding=\"utf-8\")\n",
    "#y_ex.to_excel(\"./data/dataset/y_ex_w2v.xls\", header=True, index=False,  encoding=\"utf-8\")"
   ]
  },
  {
   "cell_type": "code",
   "execution_count": 612,
   "metadata": {},
   "outputs": [
    {
     "name": "stdout",
     "output_type": "stream",
     "text": [
      "(14075, 256)\n",
      "(14075, 1)\n",
      "(1000, 256)\n",
      "(1000, 1)\n"
     ]
    }
   ],
   "source": [
    "x1=pd.read_excel(\"./data/dataset/x_w2v.xls\")\n",
    "y1=pd.read_excel(\"./data/dataset/y_w2v.xls\")\n",
    "x1_ex=pd.read_excel(\"./data/dataset/x_ex_w2v.xls\")\n",
    "y1_ex=pd.read_excel(\"./data/dataset/y_ex_w2v.xls\")\n",
    "print(x1.shape)\n",
    "print(y1.shape)\n",
    "print(x1_ex.shape)\n",
    "print(y1_ex.shape)"
   ]
  },
  {
   "cell_type": "code",
   "execution_count": 538,
   "metadata": {},
   "outputs": [],
   "source": [
    "ym=pd.DataFrame(outm)\n",
    "ym_ex=pd.DataFrame(outm_ex)\n",
    "\n",
    "ym.to_excel(\"./data/dataset/ym_w2v.xls\", header=True, index=False,  encoding=\"utf-8\")\n",
    "ym_ex.to_excel(\"./data/dataset/ym_ex_w2v.xls\", header=True, index=False,  encoding=\"utf-8\")"
   ]
  },
  {
   "cell_type": "code",
   "execution_count": 540,
   "metadata": {},
   "outputs": [
    {
     "name": "stdout",
     "output_type": "stream",
     "text": [
      "(14075, 9)\n",
      "(1000, 9)\n"
     ]
    }
   ],
   "source": [
    "ym1=pd.read_excel(\"./data/dataset/ym_w2v.xls\")\n",
    "ym1_ex=pd.read_excel(\"./data/dataset/ym_ex_w2v.xls\")\n",
    "print(ym1.shape)\n",
    "print(ym1_ex.shape)"
   ]
  },
  {
   "cell_type": "code",
   "execution_count": 595,
   "metadata": {},
   "outputs": [],
   "source": [
    "from sklearn.ensemble import RandomForestClassifier\n",
    "def test_rf(dts):\n",
    "    cls = RandomForestClassifier(n_estimators=1000)\n",
    "    cls.fit(dts[0],dts[2])\n",
    "    y_predict=cls.predict(dts[1])\n",
    "    #y_predict0=cls.predict(dts[0])\n",
    "    y_pred_ex=cls.predict(x_ex)\n",
    "    #print(\"acc0:\",metrics.accuracy_score(y_predict0,dts[2]))\n",
    "    print(\"acc1:\",metrics.accuracy_score(dts[3], y_predict))\n",
    "    print(\"prec1:\",metrics.precision_score(dts[3], y_predict, average='weighted'))\n",
    "    print(\"recall1:\",metrics.recall_score(dts[3], y_predict, average='weighted'))\n",
    "    print(\"fscore1:\",metrics.f1_score(dts[3], y_predict, average='weighted'))\n",
    "    #print(\"auc1:\",metrics.roc_auc_score(y_predict,dts[3], average='micro'))\n",
    "    #print(y_predict) \n",
    "    \n",
    "    print(\"acc_ex:\",metrics.accuracy_score(y_ex, y_pred_ex))\n",
    "    print(\"prec_ex:\",metrics.precision_score(y_ex, y_pred_ex, average='weighted'))\n",
    "    print(\"rec_ex:\",metrics.recall_score(y_ex, y_pred_ex, average='weighted'))\n",
    "    print(\"f1_ex:\",metrics.f1_score(y_ex, y_pred_ex, average='weighted'))\n",
    "    \n",
    "    print(y_predict)\n",
    "    return y_predict"
   ]
  },
  {
   "cell_type": "code",
   "execution_count": 596,
   "metadata": {},
   "outputs": [
    {
     "name": "stderr",
     "output_type": "stream",
     "text": [
      "d:\\code\\anaconda3\\lib\\site-packages\\ipykernel_launcher.py:4: DataConversionWarning: A column-vector y was passed when a 1d array was expected. Please change the shape of y to (n_samples,), for example using ravel().\n",
      "  after removing the cwd from sys.path.\n"
     ]
    },
    {
     "name": "stdout",
     "output_type": "stream",
     "text": [
      "acc1: 0.9394714407502132\n",
      "prec1: 0.9406155448433985\n",
      "recall1: 0.9394714407502132\n",
      "fscore1: 0.9392885492206207\n",
      "acc_ex: 0.962\n",
      "prec_ex: 0.9623615884920741\n",
      "rec_ex: 0.962\n",
      "f1_ex: 0.9617716305961178\n",
      "[9 1 8 ... 6 7 0]\n"
     ]
    }
   ],
   "source": [
    " y_predict1=test_rf(dts)"
   ]
  },
  {
   "cell_type": "code",
   "execution_count": 598,
   "metadata": {},
   "outputs": [
    {
     "data": {
      "text/plain": [
       "(3519,)"
      ]
     },
     "execution_count": 598,
     "metadata": {},
     "output_type": "execute_result"
    }
   ],
   "source": [
    "y_predict1.shape"
   ]
  },
  {
   "cell_type": "code",
   "execution_count": 600,
   "metadata": {},
   "outputs": [
    {
     "data": {
      "text/plain": [
       "(3519, 1)"
      ]
     },
     "execution_count": 600,
     "metadata": {},
     "output_type": "execute_result"
    }
   ],
   "source": [
    "dts[3].shape"
   ]
  },
  {
   "cell_type": "code",
   "execution_count": 607,
   "metadata": {
    "collapsed": true
   },
   "outputs": [
    {
     "name": "stdout",
     "output_type": "stream",
     "text": [
      "      true  pred\n",
      "0        9     9\n",
      "1        1     1\n",
      "2        8     8\n",
      "3        4     4\n",
      "4        9     9\n",
      "5        1     1\n",
      "6        0     0\n",
      "7        1     1\n",
      "8        2     2\n",
      "9        4     4\n",
      "10       9     9\n",
      "11       8     8\n",
      "12       8     8\n",
      "13       8     2\n",
      "14       9     9\n",
      "15       9     9\n",
      "16       9     9\n",
      "17       8     8\n",
      "18       3     3\n",
      "19       3     3\n",
      "20       0     0\n",
      "21       9     9\n",
      "22       8     8\n",
      "23       4     4\n",
      "24       4     4\n",
      "25       8     8\n",
      "26       4     4\n",
      "27       3     3\n",
      "28       8     8\n",
      "29       2     2\n",
      "...    ...   ...\n",
      "3489     9     9\n",
      "3490     8     8\n",
      "3491     9     9\n",
      "3492     0     0\n",
      "3493     2     2\n",
      "3494     9     9\n",
      "3495     9     9\n",
      "3496     9     9\n",
      "3497     2     2\n",
      "3498     8     8\n",
      "3499     9     9\n",
      "3500     3     3\n",
      "3501     9     9\n",
      "3502     9     9\n",
      "3503     5     5\n",
      "3504     5     5\n",
      "3505     2     2\n",
      "3506     8     8\n",
      "3507     9     9\n",
      "3508     8     8\n",
      "3509     9     9\n",
      "3510     6     6\n",
      "3511     9     9\n",
      "3512     2     2\n",
      "3513     9     9\n",
      "3514     8     8\n",
      "3515     7     7\n",
      "3516     6     6\n",
      "3517     7     7\n",
      "3518     0     0\n",
      "\n",
      "[3519 rows x 2 columns]\n"
     ]
    }
   ],
   "source": [
    "#y_true=pd.DataFrame(dts[3],columns=[\"true\"])\n",
    "#print(dts[3])\n",
    "y_pred1=pd.DataFrame(y_predict1,columns=[\"pred\"])\n",
    "#print(y_pred1)\n",
    "#y_ture=list(y_test)\n",
    "#print(y_test)\n",
    "y_true1=dts[3].reset_index(drop=True)\n",
    "#print(y_true1)\n",
    "\n",
    "y_true_pred=pd.concat([y_true1,y_pred1],axis=1)\n",
    "y_true_pred.columns=[\"true\",\"pred\"]\n",
    "#print(y_true_pred)"
   ]
  },
  {
   "cell_type": "code",
   "execution_count": 608,
   "metadata": {},
   "outputs": [
    {
     "name": "stdout",
     "output_type": "stream",
     "text": [
      "0.9397556123898835 0.9312304631997727 0.9468599033816425\n",
      "0.9410840354054404 0.9331467572381069 0.9480129972233186\n",
      "0.9397556123898835 0.9312304631997727 0.9468599033816425\n",
      "0.9396254375003966 0.931124207197274 0.9467799223970718\n"
     ]
    }
   ],
   "source": [
    "acc_list=list()\n",
    "prec_list=list()\n",
    "rec_list=list()\n",
    "f1_list=list()\n",
    "for i in range(1000):\n",
    "    resample=y_true_pred.sample(frac=1.0,replace=True)\n",
    "    #print(resample)\n",
    "    y_t=resample.true\n",
    "    y_p=resample.pred\n",
    "    #print(y_t)\n",
    "    acc_list.append(metrics.accuracy_score(y_t, y_p))\n",
    "    prec_list.append(metrics.precision_score(y_t, y_p, average='weighted'))\n",
    "    rec_list.append(metrics.recall_score(y_t, y_p, average='weighted'))\n",
    "    f1_list.append(metrics.f1_score(y_t, y_p, average='weighted'))\n",
    "    #print(\"prec1:\", i, prec_list[i])\n",
    "print(np.median(acc_list),np.percentile(acc_list,2.5), np.percentile(acc_list,97.5))    \n",
    "print(np.median(prec_list),np.percentile(prec_list,2.5), np.percentile(prec_list,97.5))\n",
    "print(np.median(rec_list),np.percentile(rec_list,2.5), np.percentile(rec_list,97.5))\n",
    "print(np.median(f1_list),np.percentile(f1_list,2.5), np.percentile(f1_list,97.5))"
   ]
  },
  {
   "cell_type": "code",
   "execution_count": 613,
   "metadata": {},
   "outputs": [],
   "source": [
    "from sklearn.neural_network import MLPClassifier\n",
    "def test_ann(dts):\n",
    "    cls=MLPClassifier(alpha=1e-5,hidden_layer_sizes=(256,512,256,128,64,32),random_state=0)\n",
    "    cls.fit(dts[0],dts[2])\n",
    "    y_predict=cls.predict(dts[1])\n",
    "    #y_predict0=cls.predict(dts[0])\n",
    "    y_pred_ex=cls.predict(x_ex)\n",
    "    #print(\"acc0:\",metrics.accuracy_score(y_predict0,dts[2]))\n",
    "    \n",
    "    print(\"acc1:\",metrics.accuracy_score(y_predict,dts[3]))\n",
    "    print(\"prec1:\",metrics.precision_score(dts[3], y_predict, average='weighted'))\n",
    "    print(\"recall1:\",metrics.recall_score(dts[3], y_predict, average='weighted'))\n",
    "    print(\"fscore1:\",metrics.f1_score(dts[3], y_predict, average='weighted'))\n",
    "    #print(\"auc1:\",metrics.roc_auc_score(y_predict,dts[3])) \n",
    "    \n",
    "    print(\"acc_ex:\",metrics.accuracy_score(y_ex, y_pred_ex))\n",
    "    print(\"prec_ex:\",metrics.precision_score(y_ex, y_pred_ex, average='weighted'))\n",
    "    print(\"rec_ex:\",metrics.recall_score(y_ex, y_pred_ex, average='weighted'))\n",
    "    print(\"f1_ex:\",metrics.f1_score(y_ex, y_pred_ex, average='weighted'))\n",
    "    #print(y_predict) "
   ]
  },
  {
   "cell_type": "code",
   "execution_count": 614,
   "metadata": {
    "scrolled": false
   },
   "outputs": [
    {
     "name": "stderr",
     "output_type": "stream",
     "text": [
      "d:\\code\\anaconda3\\lib\\site-packages\\sklearn\\neural_network\\multilayer_perceptron.py:916: DataConversionWarning: A column-vector y was passed when a 1d array was expected. Please change the shape of y to (n_samples, ), for example using ravel().\n",
      "  y = column_or_1d(y, warn=True)\n"
     ]
    },
    {
     "name": "stdout",
     "output_type": "stream",
     "text": [
      "acc1: 0.9323671497584541\n",
      "prec1: 0.9326740811050738\n",
      "recall1: 0.9323671497584541\n",
      "fscore1: 0.9319163035746149\n",
      "acc_ex: 0.95\n",
      "prec_ex: 0.951100088181693\n",
      "rec_ex: 0.95\n",
      "f1_ex: 0.9493563224346927\n"
     ]
    }
   ],
   "source": [
    " test_ann(dts)"
   ]
  },
  {
   "cell_type": "code",
   "execution_count": 615,
   "metadata": {},
   "outputs": [],
   "source": [
    "from xgboost import XGBClassifier\n",
    "\n",
    "def test_xgboost(dts):\n",
    "    cls = XGBClassifier()\n",
    "    cls.fit(dts[0],dts[2])\n",
    "    y_predict=cls.predict(dts[1])\n",
    "    #y_predict0=cls.predict(dts[0])\n",
    "    y_pred_ex=cls.predict(x_ex)\n",
    "    #print(\"acc0:\",metrics.accuracy_score(y_predict0,dts[2]))\n",
    "    print(\"acc1:\",metrics.accuracy_score(y_predict,dts[3]))\n",
    "    print(\"prec1:\",metrics.precision_score(dts[3], y_predict, average='weighted'))\n",
    "    print(\"recall1:\",metrics.recall_score(dts[3], y_predict, average='weighted'))\n",
    "    print(\"fscore1:\",metrics.f1_score(dts[3], y_predict, average='weighted'))\n",
    "    #print(\"auc1:\",metrics.roc_auc_score(y_predict,dts[3])) \n",
    "    \n",
    "    print(\"acc_ex:\",metrics.accuracy_score(y_ex, y_pred_ex))\n",
    "    print(\"prec_ex:\",metrics.precision_score(y_ex, y_pred_ex, average='weighted'))\n",
    "    print(\"rec_ex:\",metrics.recall_score(y_ex, y_pred_ex, average='weighted'))\n",
    "    print(\"f1_ex:\",metrics.f1_score(y_ex, y_pred_ex, average='weighted'))    \n",
    "    #print(y_predict) "
   ]
  },
  {
   "cell_type": "code",
   "execution_count": 616,
   "metadata": {},
   "outputs": [
    {
     "name": "stderr",
     "output_type": "stream",
     "text": [
      "d:\\code\\anaconda3\\lib\\site-packages\\sklearn\\preprocessing\\label.py:219: DataConversionWarning: A column-vector y was passed when a 1d array was expected. Please change the shape of y to (n_samples, ), for example using ravel().\n",
      "  y = column_or_1d(y, warn=True)\n",
      "d:\\code\\anaconda3\\lib\\site-packages\\sklearn\\preprocessing\\label.py:252: DataConversionWarning: A column-vector y was passed when a 1d array was expected. Please change the shape of y to (n_samples, ), for example using ravel().\n",
      "  y = column_or_1d(y, warn=True)\n"
     ]
    },
    {
     "name": "stdout",
     "output_type": "stream",
     "text": [
      "acc1: 0.8832054560954816\n",
      "prec1: 0.8844589716994606\n",
      "recall1: 0.8832054560954816\n",
      "fscore1: 0.8832090603085965\n",
      "acc_ex: 0.912\n",
      "prec_ex: 0.9153375295760466\n",
      "rec_ex: 0.912\n",
      "f1_ex: 0.9128070365620301\n"
     ]
    }
   ],
   "source": [
    "test_xgboost(dts)"
   ]
  },
  {
   "cell_type": "code",
   "execution_count": 617,
   "metadata": {},
   "outputs": [],
   "source": [
    "from sklearn.neighbors import KNeighborsClassifier\n",
    "def test_knn(dts):\n",
    "    cls = KNeighborsClassifier()\n",
    "    #cls.fit(dts[0],dts[2])\n",
    "    #y_predict=cls.predict(dts[2])\n",
    "    #print(\"acc:\",metrics.accuracy_score(y_predict,dts[3]))\n",
    "    \n",
    "    cls.fit(dts[0],dts[2])\n",
    "    y_predict=cls.predict(dts[1])\n",
    "    #y_predict0=cls.predict(dts[0])\n",
    "    y_pred_ex=cls.predict(x_ex)\n",
    "    #print(\"acc0:\",metrics.accuracy_score(y_predict0,dts[2]))\n",
    "    print(\"acc1:\",metrics.accuracy_score(y_predict,dts[3]))\n",
    "    print(\"prec1:\",metrics.precision_score(dts[3], y_predict, average='weighted'))\n",
    "    print(\"recall1:\",metrics.recall_score(dts[3], y_predict, average='weighted'))\n",
    "    print(\"fscore1:\",metrics.f1_score(dts[3], y_predict, average='weighted'))\n",
    "    #print(\"auc1:\",metrics.roc_auc_score(y_predict,dts[3])) \n",
    "    \n",
    "    print(\"acc_ex:\",metrics.accuracy_score(y_ex, y_pred_ex))\n",
    "    print(\"prec_ex:\",metrics.precision_score(y_ex, y_pred_ex, average='weighted'))\n",
    "    print(\"rec_ex:\",metrics.recall_score(y_ex, y_pred_ex, average='weighted'))\n",
    "    print(\"f1_ex:\",metrics.f1_score(y_ex, y_pred_ex, average='weighted'))    \n",
    "    #print(y_predict) "
   ]
  },
  {
   "cell_type": "code",
   "execution_count": 618,
   "metadata": {},
   "outputs": [
    {
     "name": "stderr",
     "output_type": "stream",
     "text": [
      "d:\\code\\anaconda3\\lib\\site-packages\\ipykernel_launcher.py:8: DataConversionWarning: A column-vector y was passed when a 1d array was expected. Please change the shape of y to (n_samples, ), for example using ravel().\n",
      "  \n"
     ]
    },
    {
     "name": "stdout",
     "output_type": "stream",
     "text": [
      "acc1: 0.8485365160556977\n",
      "prec1: 0.8489887855906272\n",
      "recall1: 0.8485365160556977\n",
      "fscore1: 0.8478838876381439\n",
      "acc_ex: 0.898\n",
      "prec_ex: 0.9014113640202703\n",
      "rec_ex: 0.898\n",
      "f1_ex: 0.8980135081336035\n"
     ]
    }
   ],
   "source": [
    "test_knn(dts)"
   ]
  },
  {
   "cell_type": "code",
   "execution_count": 619,
   "metadata": {},
   "outputs": [],
   "source": [
    "from sklearn import svm\n",
    "def test_svc(dts):\n",
    "    cls=svm.SVC(kernel=\"linear\")\n",
    "    cls.fit(dts[0],dts[2])\n",
    "    y_predict=cls.predict(dts[1])\n",
    "    #y_predict0=cls.predict(dts[0])\n",
    "    y_pred_ex=cls.predict(x_ex)\n",
    "    #print(\"acc0:\",metrics.accuracy_score(y_predict0,dts[2]))\n",
    "    print(\"acc1:\",metrics.accuracy_score(y_predict,dts[3]))\n",
    "    print(\"prec1:\",metrics.precision_score(dts[3], y_predict, average='weighted'))\n",
    "    print(\"recall1:\",metrics.recall_score(dts[3], y_predict, average='weighted'))\n",
    "    print(\"fscore1:\",metrics.f1_score(dts[3], y_predict, average='weighted'))\n",
    "    #print(\"auc1:\",metrics.roc_auc_score(y_predict,dts[3])) \n",
    "    #print(y_predict) \n",
    "    \n",
    "    print(\"acc_ex:\",metrics.accuracy_score(y_ex, y_pred_ex))\n",
    "    print(\"prec_ex:\",metrics.precision_score(y_ex, y_pred_ex, average='weighted'))\n",
    "    print(\"rec_ex:\",metrics.recall_score(y_ex, y_pred_ex, average='weighted'))\n",
    "    print(\"f1_ex:\",metrics.f1_score(y_ex, y_pred_ex, average='weighted'))      "
   ]
  },
  {
   "cell_type": "code",
   "execution_count": 620,
   "metadata": {
    "scrolled": false
   },
   "outputs": [
    {
     "name": "stderr",
     "output_type": "stream",
     "text": [
      "d:\\code\\anaconda3\\lib\\site-packages\\sklearn\\utils\\validation.py:761: DataConversionWarning: A column-vector y was passed when a 1d array was expected. Please change the shape of y to (n_samples, ), for example using ravel().\n",
      "  y = column_or_1d(y, warn=True)\n"
     ]
    },
    {
     "name": "stdout",
     "output_type": "stream",
     "text": [
      "acc1: 0.817277635691958\n",
      "prec1: 0.8245302301125366\n",
      "recall1: 0.817277635691958\n",
      "fscore1: 0.8161642675144759\n",
      "acc_ex: 0.779\n",
      "prec_ex: 0.8047899086548251\n",
      "rec_ex: 0.779\n",
      "f1_ex: 0.7826982283472426\n"
     ]
    }
   ],
   "source": [
    "test_svc(dts)"
   ]
  },
  {
   "cell_type": "code",
   "execution_count": 886,
   "metadata": {},
   "outputs": [],
   "source": [
    "# word2vec sklearn for tcm element"
   ]
  },
  {
   "cell_type": "code",
   "execution_count": 628,
   "metadata": {},
   "outputs": [],
   "source": [
    "from sklearn.model_selection import train_test_split\n",
    "import sklearn.metrics as metrics\n",
    "xm=pd.DataFrame(w2v_list)\n",
    "ym=pd.DataFrame(outm)\n",
    "x_train, x_test, y_train, y_test=train_test_split(xm,ym,test_size=0.25,random_state=0)\n",
    "dtsm=train_test_split(xm,ym,test_size=0.25,random_state=0)\n",
    "\n",
    "#x_ex=x_ex\n",
    "ym_ex=pd.DataFrame(outm_ex)"
   ]
  },
  {
   "cell_type": "code",
   "execution_count": 629,
   "metadata": {},
   "outputs": [
    {
     "data": {
      "text/plain": [
       "(14075, 256)"
      ]
     },
     "execution_count": 629,
     "metadata": {},
     "output_type": "execute_result"
    }
   ],
   "source": [
    "xm.shape"
   ]
  },
  {
   "cell_type": "code",
   "execution_count": 630,
   "metadata": {},
   "outputs": [
    {
     "data": {
      "text/plain": [
       "(14075, 9)"
      ]
     },
     "execution_count": 630,
     "metadata": {},
     "output_type": "execute_result"
    }
   ],
   "source": [
    "ym.shape"
   ]
  },
  {
   "cell_type": "code",
   "execution_count": 636,
   "metadata": {},
   "outputs": [],
   "source": [
    "from sklearn.datasets import make_classification\n",
    "from sklearn.multioutput import MultiOutputClassifier\n",
    "from sklearn.metrics import classification_report"
   ]
  },
  {
   "cell_type": "code",
   "execution_count": 637,
   "metadata": {},
   "outputs": [],
   "source": [
    "from sklearn.ensemble import RandomForestClassifier\n",
    "def test_rfm(dtsm):\n",
    "    rfm=RandomForestClassifier(n_estimators=100)\n",
    "    clsm=MultiOutputClassifier(rfm)\n",
    "    clsm.fit(dtsm[0],dtsm[2])\n",
    "    y_predict=clsm.predict(dtsm[1])\n",
    "    y_pred_ex=clsm.predict(x_ex)\n",
    "    \n",
    "    print(\"acc1:\",metrics.accuracy_score( y_predict,dtsm[3]))  \n",
    "    print(\"prec1:\",metrics.precision_score(dtsm[3], y_predict, average='weighted'))\n",
    "    print(\"recall1:\",metrics.recall_score(dtsm[3], y_predict, average='weighted'))\n",
    "    print(\"fscore1:\",metrics.f1_score(dtsm[3], y_predict, average='weighted'))\n",
    "    \n",
    "    print(\"acc_ex:\",metrics.accuracy_score(ym_ex, y_pred_ex))\n",
    "    print(\"prec_ex:\",metrics.precision_score(ym_ex, y_pred_ex, average='weighted'))\n",
    "    print(\"rec_ex:\",metrics.recall_score(ym_ex, y_pred_ex, average='weighted'))\n",
    "    print(\"f1_ex:\",metrics.f1_score(ym_ex, y_pred_ex, average='weighted'))  \n",
    "    \n",
    "    res=classification_report(dtsm[3],  y_predict, digits=4)\n",
    "    print(res)\n",
    "    #print(y_predict) "
   ]
  },
  {
   "cell_type": "code",
   "execution_count": 638,
   "metadata": {},
   "outputs": [
    {
     "name": "stdout",
     "output_type": "stream",
     "text": [
      "acc1: 0.9084967320261438\n",
      "prec1: 0.9919103110275276\n",
      "recall1: 0.9608994240141782\n",
      "fscore1: 0.9755981087028768\n",
      "acc_ex: 0.973\n",
      "prec_ex: 0.9953956174341454\n",
      "rec_ex: 0.9877017678708686\n",
      "f1_ex: 0.9913826110688292\n",
      "              precision    recall  f1-score   support\n",
      "\n",
      "           0     0.9920    0.9404    0.9655      1578\n",
      "           1     0.9940    0.9345    0.9633       534\n",
      "           2     0.9924    0.9924    0.9924       662\n",
      "           3     0.9674    0.8285    0.8926      1038\n",
      "           4     0.9943    0.9860    0.9901       713\n",
      "           5     0.9895    0.9653    0.9773       490\n",
      "           6     1.0000    1.0000    1.0000      3519\n",
      "           7     0.9739    0.9491    0.9613       275\n",
      "           8     0.9910    1.0000    0.9955       219\n",
      "\n",
      "   micro avg     0.9923    0.9609    0.9764      9028\n",
      "   macro avg     0.9883    0.9551    0.9709      9028\n",
      "weighted avg     0.9919    0.9609    0.9756      9028\n",
      " samples avg     0.9927    0.9632    0.9725      9028\n",
      "\n"
     ]
    }
   ],
   "source": [
    "test_rfm(dtsm)"
   ]
  },
  {
   "cell_type": "code",
   "execution_count": 639,
   "metadata": {},
   "outputs": [],
   "source": [
    "from sklearn.neural_network import MLPClassifier\n",
    "def test_mlpm(dtsm):      \n",
    "    mlp=MLPClassifier(alpha=1e-5,hidden_layer_sizes=(256,512,256,128,64,32),random_state=0)\n",
    "    clsm=MultiOutputClassifier(mlp)\n",
    "    #clsm.fit(dtsm[0],dtsm[2])\n",
    "    #y_predict=clsm.fit(dtsm[0],dtsm[1]).predict(dtsm[2])\n",
    "    #y_predict=clsm.predict(dtsm[1])\n",
    "    #print(\"acc:\",metrics.accuracy_score(y_predict,dtsm[3]))\n",
    "    clsm.fit(dtsm[0],dtsm[2])\n",
    "    y_predict=clsm.predict(dtsm[1])\n",
    "    y_pred_ex=clsm.predict(x_ex)\n",
    "    #y_predict=clsm.fit(dtsm[0],dtsm[2]).predict(dtsm[1])\n",
    "    #y_predict0=clsm.predict(dtsm[0])\n",
    "    #y_predict=clsm.predict(dtsm[1])\n",
    "    #print(\"acc0:\",metrics.accuracy_score(dts[2], y_predict0))  \n",
    "    print(\"acc1:\",metrics.accuracy_score( y_predict,dtsm[3]))  \n",
    "    print(\"prec1:\",metrics.precision_score(dtsm[3], y_predict, average='weighted'))\n",
    "    print(\"recall1:\",metrics.recall_score(dtsm[3], y_predict, average='weighted'))\n",
    "    print(\"fscore1:\",metrics.f1_score(dtsm[3], y_predict, average='weighted'))\n",
    "    \n",
    "    print(\"acc_ex:\",metrics.accuracy_score(ym_ex, y_pred_ex))\n",
    "    print(\"prec_ex:\",metrics.precision_score(ym_ex, y_pred_ex, average='weighted'))\n",
    "    print(\"rec_ex:\",metrics.recall_score(ym_ex, y_pred_ex, average='weighted'))\n",
    "    print(\"f1_ex:\",metrics.f1_score(ym_ex, y_pred_ex, average='weighted'))   "
   ]
  },
  {
   "cell_type": "code",
   "execution_count": 640,
   "metadata": {
    "scrolled": true
   },
   "outputs": [
    {
     "name": "stdout",
     "output_type": "stream",
     "text": [
      "acc1: 0.9050866723500994\n",
      "prec1: 0.975047946274982\n",
      "recall1: 0.9758529020824103\n",
      "fscore1: 0.9752786475868975\n",
      "acc_ex: 0.952\n",
      "prec_ex: 0.9891125335127247\n",
      "rec_ex: 0.9880860876249039\n",
      "f1_ex: 0.9884158433989122\n"
     ]
    }
   ],
   "source": [
    "test_mlpm(dtsm)"
   ]
  },
  {
   "cell_type": "code",
   "execution_count": 641,
   "metadata": {},
   "outputs": [],
   "source": [
    "from xgboost import XGBClassifier\n",
    "def test_xgboost(dtsm):\n",
    "    xgbm = XGBClassifier()\n",
    "    clsm=MultiOutputClassifier(xgbm)\n",
    "    #clsm.fit(dtsm[0],dtsm[2])\n",
    "    #y_predict=clsm.predict(dtsm[1])\n",
    "    #print(\"acc:\",metrics.accuracy_score(y_predict,dtsm[3]))\n",
    "    #print(y_predict) \n",
    "    clsm.fit(dtsm[0],dtsm[2])\n",
    "    y_predict=clsm.predict(dtsm[1])\n",
    "    y_pred_ex=clsm.predict(x_ex)\n",
    "    #y_predict=clsm.fit(dtsm[0],dtsm[2]).predict(dtsm[1])\n",
    "    #y_predict0=clsm.predict(dtsm[0])\n",
    "    #y_predict=clsm.predict(dtsm[1])\n",
    "    #print(\"acc0:\",metrics.accuracy_score(dts[2], y_predict0))  \n",
    "    print(\"acc1:\",metrics.accuracy_score( y_predict,dtsm[3]))  \n",
    "    print(\"prec1:\",metrics.precision_score(dtsm[3], y_predict, average='weighted'))\n",
    "    print(\"recall1:\",metrics.recall_score(dtsm[3], y_predict, average='weighted'))\n",
    "    print(\"fscore1:\",metrics.f1_score(dtsm[3], y_predict, average='weighted'))\n",
    "    \n",
    "    print(\"acc_ex:\",metrics.accuracy_score(ym_ex, y_pred_ex))\n",
    "    print(\"prec_ex:\",metrics.precision_score(ym_ex, y_pred_ex, average='weighted'))\n",
    "    print(\"rec_ex:\",metrics.recall_score(ym_ex, y_pred_ex, average='weighted'))\n",
    "    print(\"f1_ex:\",metrics.f1_score(ym_ex, y_pred_ex, average='weighted'))   "
   ]
  },
  {
   "cell_type": "code",
   "execution_count": 642,
   "metadata": {
    "scrolled": true
   },
   "outputs": [
    {
     "name": "stdout",
     "output_type": "stream",
     "text": [
      "acc1: 0.7703893151463483\n",
      "prec1: 0.9666584429151647\n",
      "recall1: 0.9044085068675233\n",
      "fscore1: 0.9333696981775362\n",
      "acc_ex: 0.798\n",
      "prec_ex: 0.9702001999102109\n",
      "rec_ex: 0.9227517294388932\n",
      "f1_ex: 0.9444549973673023\n"
     ]
    }
   ],
   "source": [
    " test_xgboost(dtsm)"
   ]
  },
  {
   "cell_type": "code",
   "execution_count": 643,
   "metadata": {},
   "outputs": [],
   "source": [
    "from sklearn.neighbors import KNeighborsClassifier\n",
    "def test_knnm(dtsm):\n",
    "    knnm=KNeighborsClassifier()\n",
    "    clsm=MultiOutputClassifier(knnm)\n",
    "    #clsm.fit(dtsm[0],dtsm[1])\n",
    "    #y_predict=clsm.predict(dtsm[2])\n",
    "    #print(\"acc:\",metrics.accuracy_score(y_predict,dtsm[3]))\n",
    "    #print(y_predict)\n",
    "    \n",
    "    clsm.fit(dtsm[0],dtsm[2])\n",
    "    y_predict=clsm.predict(dtsm[1])\n",
    "    y_pred_ex=clsm.predict(x_ex)\n",
    "    #y_predict=clsm.fit(dtsm[0],dtsm[2]).predict(dtsm[1])\n",
    "    #y_predict0=clsm.predict(dtsm[0])\n",
    "    #y_predict=clsm.predict(dtsm[1])\n",
    "    #print(\"acc0:\",metrics.accuracy_score(dts[2], y_predict0))  \n",
    "    print(\"acc1:\",metrics.accuracy_score( y_predict,dtsm[3]))  \n",
    "    print(\"prec1:\",metrics.precision_score(dtsm[3], y_predict, average='weighted'))\n",
    "    print(\"recall1:\",metrics.recall_score(dtsm[3], y_predict, average='weighted'))\n",
    "    print(\"fscore1:\",metrics.f1_score(dtsm[3], y_predict, average='weighted'))\n",
    "    \n",
    "    print(\"acc_ex:\",metrics.accuracy_score(ym_ex, y_pred_ex))\n",
    "    print(\"prec_ex:\",metrics.precision_score(ym_ex, y_pred_ex, average='weighted'))\n",
    "    print(\"rec_ex:\",metrics.recall_score(ym_ex, y_pred_ex, average='weighted'))\n",
    "    print(\"f1_ex:\",metrics.f1_score(ym_ex, y_pred_ex, average='weighted'))   "
   ]
  },
  {
   "cell_type": "code",
   "execution_count": 644,
   "metadata": {},
   "outputs": [
    {
     "name": "stdout",
     "output_type": "stream",
     "text": [
      "acc1: 0.8414322250639387\n",
      "prec1: 0.9380038791496662\n",
      "recall1: 0.9254541426672575\n",
      "fscore1: 0.931291900447917\n",
      "acc_ex: 0.892\n",
      "prec_ex: 0.9640784654380703\n",
      "rec_ex: 0.9473481936971561\n",
      "f1_ex: 0.9546746215667181\n"
     ]
    }
   ],
   "source": [
    "test_knnm(dtsm)"
   ]
  },
  {
   "cell_type": "code",
   "execution_count": 816,
   "metadata": {},
   "outputs": [],
   "source": [
    "# word2vec cnn for multi labels"
   ]
  },
  {
   "cell_type": "code",
   "execution_count": 662,
   "metadata": {},
   "outputs": [],
   "source": [
    "from keras.preprocessing.text import Tokenizer\n",
    "from keras.preprocessing.sequence import pad_sequences\n",
    "from keras.utils import to_categorical\n",
    "import numpy as np"
   ]
  },
  {
   "cell_type": "code",
   "execution_count": 663,
   "metadata": {},
   "outputs": [],
   "source": [
    "MAX_SEQUENCE_LENGTH =64\n",
    "EMBEDDING_DIM = 256\n",
    "VALIDATION_SPLIT = 0.16 \n",
    "TEST_SPLIT = 0.2"
   ]
  },
  {
   "cell_type": "code",
   "execution_count": 664,
   "metadata": {},
   "outputs": [],
   "source": [
    "from sklearn.preprocessing import MultiLabelBinarizer\n",
    "mlb=MultiLabelBinarizer()"
   ]
  },
  {
   "cell_type": "code",
   "execution_count": 317,
   "metadata": {},
   "outputs": [],
   "source": [
    "#ym=np.array(outm)\n",
    "#ym_out=mlb.fit_transform(ym)\n",
    "#print(ym_out)"
   ]
  },
  {
   "cell_type": "code",
   "execution_count": 683,
   "metadata": {
    "scrolled": true
   },
   "outputs": [
    {
     "name": "stdout",
     "output_type": "stream",
     "text": [
      "Found 2362 unique tokens.\n",
      "Shape of data tensor: (14075, 64)\n",
      "Shape of label tensor: (14075, 9)\n",
      "{' ': 1, '咳嗽': 2, '咳痰': 3, '患者': 4, '面色': 5, '精神': 6, '气喘': 7, '清晰': 8, '加重': 9, '为主': 10, '反复': 11, '言语': 12, '正常': 13, '胸闷': 14, '苔': 15, '舌质': 16, '痰': 17, '形体': 18, '营养': 19, '发育': 20, '后': 21, '自如': 22, '应答': 23, '天': 24, '结合': 25, '表情': 26, '少华': 27, '气促': 28, '适中': 29, '少神': 30, '诉': 31, '活动': 32, '肺癌': 33, '脉滑': 34, '伴': 35, '舌脉': 36, '行动自如': 37, '阵发性': 38, '神清': 39, '咯痰': 40, '咳声': 41, '声音洪亮': 42, '慢性阻塞性肺病伴感染': 43, '红': 44, '发热': 45, '中等': 46, '二便': 47, '稍': 48, '精神不振': 49, '时有': 50, '肺部感染': 51, '痛苦': 52, '白腻': 53, '再发': 54, '': 55, '轻微': 56, '不易': 57, '黄腻': 58, '舌红': 59, '良好': 60, '余年': 61, '有神': 62, '淡红': 63, '脉浮': 64, '咳出': 65, '年': 66, '调': 67, '脉滑数': 68, '乏力': 69, '舌淡': 70, '清': 71, '支气管哮喘': 72, '语声低微': 73, '呼吸': 74, '粘': 75, '双目': 76, '苔薄': 77, '明显': 78, '欠佳': 79, '动则': 80, '月余': 81, '淡': 82, '粘痰': 83, '差': 84, '语声': 85, '黄': 86, '气息': 87, '咯出': 88, '脉细': 89, '岁': 90, '呈': 91, '余天': 92, '舌': 93, '苔薄白': 94, '平和': 95, '一周': 96, '睡眠': 97, '急性支气管炎': 98, '尚可': 99, '余': 100, '紧': 101, '证': 102, '伴有': 103, '白色': 104, '咯': 105, '年余': 106, '平稳': 107, '纳差': 108, '月': 109, '流畅': 110, '喘息': 111, '发作': 112, '神志': 113, '性': 114, '慢性支气管炎伴感染': 115, '不': 116, '食纳': 117, '神识': 118, '化疗': 119, '尤甚': 120, '入院': 121, '男': 122, '少量': 123, '自然': 124, '症': 125, '间': 126, '十余年': 127, '黄白': 128, '脉弦': 129, '三天': 130, '数': 131, '量': 132, '周': 133, '苔少': 134, '纳食': 135, '咳白': 136, '慢性阻塞性肺病': 137, '荣润': 138, '粘色': 139, '白': 140, '不适': 141, '不能': 142, '休息': 143, '苔脉': 144, '确诊': 145, '气急': 146, '畏寒': 147, '术后': 148, '萎靡': 149, '全身': 150, '咯吐': 151, '胸痛': 152, '感': 153, '貌': 154, '脉': 155, '黄痰': 156, '尚调': 157, '连声': 158, '右': 159, '半月': 160, '间断': 161, '脉细数': 162, '十余天': 163, '胸廓': 164, '饮食': 165, '疼痛': 166, '夜寐': 167, '腻': 168, '喉中': 169, '偶有': 170, '痰量': 171, '白痰': 172, '薄': 173, '色白': 174, '收住': 175, '一天': 176, '苔白': 177, '慢性支气管炎': 178, '支气管扩张症伴感染': 179, '较响': 180, '两天': 181, '舌苔薄白': 182, '少': 183, '稠痰': 184, '小时': 185, '双下肢': 186, '女': 187, '不安': 188, '黄色': 189, '消瘦': 190, '桶装': 191, '发现': 192, '响亮': 193, '色': 194, '黄白色': 195, '阵发': 196, '时': 197, '憔悴': 198, '干咳': 199, '少苔': 200, '夜间': 201, '门诊': 202, '程后': 203, '苔腻': 204, '肺': 205, '欠振': 206, '痰中带血': 207, '腹胀': 208, '难以': 209, '二十余年': 210, '胀痛': 211, '瘦': 212, '头晕': 213, '四天': 214, '偏淡': 215, '黑': 216, '咽痒': 217, '大便': 218, '自觉': 219, '五天': 220, '舌苔白滑': 221, '久立': 222, '舌质暗红': 223, '神疲乏力': 224, '尚': 225, '患儿': 226, '左侧': 227, '左': 228, '缓解': 229, '五年': 230, '属': 231, '小便': 232, '一年': 233, '微黄': 234, '白量': 235, '浮肿': 236, '喉间': 237, '舌苔': 238, '头痛': 239, '减轻': 240, '腺癌': 241, '质': 242, '萎': 243, '左肺': 244, '咯血': 245, '三十余年': 246, '滑': 247, '咯吐白': 248, '哮鸣': 249, '量少': 250, '占位': 251, '腹部': 252, '右侧': 253, '沉细': 254, '三年': 255, '纳眠': 256, '干': 257, '再': 258, '厚腻': 259, '受凉': 260, '声音': 261, '四年': 262, '脉弦滑': 263, '转移': 264, '出': 265, '少痰': 266, '发伴': 267, '右肺': 268, '一月': 269, '后以': 270, '少许': 271, '长期': 272, '红润': 273, '畅': 274, '仍': 275, '两年': 276, '上': 277, '咳黄': 278, '酸痛': 279, '结代': 280, '半天': 281, '近': 282, '脉象': 283, '稍感': 284, '白质': 285, '粘难': 286, '端坐': 287, '放化疗': 288, '不佳': 289, '见': 290, '易于': 291, '咽痛': 292, '鸣': 293, '背部': 294, '恶心': 295, '面容': 296, '苔薄腻': 297, '连咳': 298, '站立': 299, '甚': 300, '中': 301, '口': 302, '尚畅': 303, '剧烈': 304, '鼻塞': 305, '暗红': 306, '喘': 307, '放疗': 308, '潮红': 309, '夜寐差': 310, '下肢': 311, '痰色': 312, '半年': 313, '咳吐': 314, '稍促': 315, '脉沉细数': 316, '胸部': 317, '尚易': 318, '浊': 319, '食纳及': 320, '平卧': 321, '暂': 322, '薄黄': 323, '阵作': 324, '两': 325, '间发': 326, '急促': 327, '脉沉': 328, '十天': 329, '支气管扩张症': 330, '间质性肺炎': 331, '舌淡苔白': 332, '欠安': 333, '低微': 334, '咯白': 335, '咽干': 336, '咳吐白': 337, '脉细弱': 338, '复发': 339, '脉弦数': 340, '晦暗': 341, '流涕': 342, '粘量': 343, '热': 344, '黄质': 345, '呕吐': 346, '部': 347, '扁桃体': 348, '恶寒发热': 349, '咽红': 350, '黏': 351, '黄量': 352, '更': 353, '尚平': 354, '哮鸣音': 355, '气短': 356, '咳嗽气喘': 357, '难': 358, '双侧': 359, '六年': 360, '脉数': 361, '有声': 362, '郁而化': 363, '结而成': 364, '吐': 365, '较差': 366, '稍腻': 367, '相间': 368, '进食': 369, '约': 370, '天伴': 371, '夜寐安': 372, '间质性肺炎伴感染': 373, '大小便': 374, '泡沫痰': 375, '四十余年': 376, '肿大': 377, '下': 378, '泡沫': 379, '结': 380, '小细胞癌': 381, '易': 382, '通畅': 383, '暂时': 384, '倦怠': 385, '苔薄少': 386, '苔白滑': 387, '肢体': 388, '七年': 389, '黏痰': 390, '末次': 391, '心慌': 392, '目前': 393, '二十余天': 394, '舌苔黄腻': 395, '时感': 396, '不清': 397, '八年': 398, '骨转移': 399, '样痰': 400, '痒': 401, '治疗': 402, '少色': 403, '胖': 404, '咳喘': 405, '宣降': 406, '呼吸困难': 407, '哭声': 408, '苦': 409, '风热': 410, '犯表': 411, '卫表': 412, '热邪': 413, '易咯': 414, '胸': 415, '肺部': 416, '腰痛': 417, '细胞': 418, '蒸津': 419, '见口': 420, '鲜红': 421, '水肿': 422, '四月': 423, '支气管哮喘伴感染': 424, '脑': 425, '咽': 426, '胸腔积液': 427, '二月': 428, '隐痛': 429, '心悸': 430, '意识': 431, '体温': 432, '恶心呕吐': 433, '可咯': 434, '细涩': 435, '大量': 436, '尚有': 437, '神': 438, '肺失': 439, '少气': 440, '恶寒': 441, '鳞癌': 442, '懒言': 443, '食': 444, '外感': 445, '风热犯': 446, '°': 447, '稍红': 448, '肺虚': 449, '头昏': 450, '粘稠': 451, '皮疹': 452, '面色苍白': 453, '嗜睡': 454, '三月': 455, '嘶哑': 456, '颈部': 457, '咳血': 458, '时时': 459, '稍暗': 460, '为白': 461, '十年': 462, '急性支气管炎 ': 463, '面': 464, '感咽': 465, '小': 466, '稳': 467, '散': 468, '腹痛': 469, '舌苔白腻': 470, '不得': 471, '轻度': 472, '后感': 473, '多易': 474, '多发': 475, '淋巴结': 476, '左下': 477, '语': 478, '气': 479, '最高': 480, '痛': 481, '稍萎': 482, '久病': 483, '多色': 484, '六天': 485, '血丝': 486, '胃脘': 487, '短气': 488, '右上': 489, '气失': 490, '局部': 491, '濡': 492, '模糊': 493, '刺激性': 494, '区': 495, '肺气': 496, '好转': 497, '欲': 498, '呼多吸少': 499, '红淡': 500, '弱': 501, '.': 502, '神疲稍': 503, '涩': 504, '半': 505, '肺癌伴感染': 506, '五十余年': 507, '续': 508, '神志不清': 509, '稍白': 510, '肾': 511, '摄钠': 512, '促日久': 513, '短促': 514, '口干口': 515, '阻': 516, '麻木': 517, '晨起': 518, '体位': 519, '劳即': 520, '背痛': 521, '不利': 522, '伴喉': 523, '肋部': 524, '两月': 525, '肺气虚': 526, '复': 527, '加气': 528, '因痰': 529, '著': 530, '半卧位': 531, '气管': 532, '一程': 533, '显': 534, '低热': 535, '略红': 536, '脓痰': 537, '黄微腻': 538, '胸前': 539, '黄粘痰': 540, '夹': 541, '皮肤': 542, '胸胁': 543, '本案': 544, '热性': 545, '锁骨': 546, '脉细略': 547, '偏红': 548, '少质': 549, '寐': 550, '摄氏度': 551, '恶心欲呕': 552, '腹泻': 553, '二年': 554, '极差': 555, '深呼吸': 556, '肿块': 557, '细': 558, '胁': 559, '诊断': 560, '淡白': 561, '粘液': 562, '发绀': 563, '干咳少痰': 564, '寒战': 565, '颜面': 566, '次': 567, '入睡': 568, '反酸': 569, '促': 570, '自动': 571, '食纳夜': 572, '尚安': 573, '血色': 574, '右下': 575, '鲜红色': 576, '汗出': 577, '四肢': 578, '面色萎黄': 579, '脉弱': 580, '靶向': 581, '痰质': 582, 'ⅱ': 583, '天余': 584, '腰部': 585, '多质': 586, '障碍': 587, '进行性': 588, '晚期': 589, '尚能': 590, '五月': 591, '声嘶': 592, '上肢': 593, '肝': 594, '较前': 595, '质稠': 596, '咳时': 597, '疗程': 598, '突下': 599, '血': 600, 'ⅰ': 601, '呻吟': 602, '汗': 603, '较易': 604, '脉细滑': 605, '三': 606, '失禁': 607, '两周': 608, '左上': 609, '流清涕': 610, '发': 611, '口唇': 612, '七天': 613, '中医': 614, '伴咽': 615, '单选': 616, '多次': 617, '陈春锁': 618, '淡苔': 619, '边有': 620, '齿痕': 621, '主要症状': 622, '辨病': 623, '低沉': 624, '\\r\\n': 625, '肢体浮肿': 626, '暗红色': 627, '清楚': 628, '主诉': 629, '病史': 630, '深吸气': 631, '丝': 632, '少易': 633, '中带': 634, '热内': 635, '六十余年': 636, '夜寐可': 637, '八天': 638, '酸胀': 639, '鸣音': 640, '饱胀': 641, '行走': 642, '困难': 643, '神情': 644, '少难': 645, '卫外': 646, '不固': 647, '感冒': 648, '时偶': 649, '喉中喘鸣': 650, '周余': 651, '半身不遂': 652, '抽搐': 653, '白微': 654, '九年': 655, '嗳气': 656, '剑': 657, '期': 658, '瘙痒': 659, '大便干结': 660, '排痰': 661, '腰背痛': 662, '难解': 663, '切开': 664, '时间': 665, '伴上': 666, '震颤': 667, '盗汗': 668, '血液': 669, '呛咳': 670, '故痰': 671, '劳累': 672, '黄绿色': 673, '六月': 674, '通气': 675, '行动': 676, '双': 677, '失语': 678, '淋漓': 679, '体态': 680, '脉略细': 681, '较久': 682, '日': 683, '间感': 684, '仍时': 685, '脉紧': 686, '机械': 687, '双手': 688, '食欲': 689, '张口': 690, '夜寐尚安': 691, '不尽': 692, '腹鸣': 693, '之声': 694, '支气管扩张症 ': 695, '半余': 696, '瘫痪': 697, '男性': 698, '偶咳': 699, '一次': 700, '太息': 701, '口中': 702, '八月': 703, '声响': 704, '闷胀': 705, '充血': 706, '白易': 707, '色黄': 708, '浅黄色': 709, '部及': 710, '下腹': 711, '后近': 712, '卧位': 713, '臧根生': 714, '体检': 715, '二十年': 716, '卧起': 717, '脾虚': 718, '故见': 719, '十多年': 720, '肌肉': 721, '咳嗽痰多': 722, '质粘色': 723, '保留': 724, '三十年': 725, '肺内': 726, '关节': 727, '活动性': 728, '五小时': 729, '二十天': 730, '伴痰': 731, '喉': 732, '插管': 733, '呼之不应': 734, '持续': 735, '肥胖': 736, '二天': 737, '肿瘤': 738, '导尿': 739, '在位': 740, '老年': 741, '低弱': 742, '出汗': 743, '增高': 744, '喘促': 745, '气粗': 746, '二程': 747, '十余': 748, '内容': 749, '苔色': 750, '液': 751, '饮': 752, '后后': 753, '不爽': 754, '鲜血': 755, '语利': 756, '清稀': 757, '白不多': 758, '重': 759, '年半余': 760, '慢性': 761, '口腔': 762, '望闻': 763, '切诊': 764, '象': 765, '形瘦': 766, '神惫': 767, '缓慢': 768, '次数': 769, '声': 770, '平': 771, '喷嚏': 772, '三日': 773, '面色萎白': 774, '舌紫暗': 775, '暗量': 776, '病房': 777, '稠': 778, '不思饮食': 779, '样': 780, '舌红苔黄': 781, '食欲不振': 782, '余日': 783, '多难': 784, '淡漠': 785, '中度': 786, '腰背': 787, '稍事': 788, '腰': 789, '舌红少苔': 790, '苍白': 791, '{': 792, '所主': 793, '肾虚': 794, '精气': 795, '耗损': 796, '形神': 797, '失养': 798, '质红': 799, '难咯': 800, '可减轻': 801, '稍显': 802, '稀薄': 803, '头部': 804, '乏神': 805, '失音': 806, '四': 807, '下降': 808, '手足心热': 809, '纳可': 810, '不足': 811, '区及': 812, '故喘促': 813, '桶状': 814, '痛咽': 815, '少作': 816, '郁之征': 817, '稍动': 818, '欠利': 819, '尿频': 820, '扪': 821, '流利': 822, '偏黄': 823, '浮滑': 824, '术': 825, '胡言乱语': 826, '肿胀': 827, '指标': 828, '肺络': 829, '现症': 830, '体重': 831, '症状': 832, '胸骨': 833, '自行': 834, '不运': 835, '高枕': 836, '九月': 837, '加剧': 838, '反应迟钝': 839, '自主': 840, '胃': 841, '物': 842, '发力': 843, '刺痛': 844, '近期': 845, '稀': 846, '处': 847, '欠': 848, '时伴': 849, '腹胀痛': 850, '癌': 851, '三程': 852, '以间': 853, '２': 854, '白难': 855, '贫血': 856, '仍感': 857, '踝关节': 858, '病变': 859, '费力': 860, '咯吐较': 861, '虚火': 862, '灼络': 863, '损伤': 864, '既往': 865, '食管癌': 866, '结节': 867, '子盗': 868, '母气': 869, '阻肺': 870, '化': 871, '持续性': 872, '病程': 873, '抬肩': 874, '脾失': 875, '健运': 876, '黄脉浮': 877, '皮下': 878, '舌暗': 879, '吸气': 880, '程': 881, '步履艰难': 882, '肿痛': 883, '近八年': 884, '不详': 885, '时作': 886, '穿': 887, '脱衣服': 888, '暗': 889, '黯': 890, '昏迷': 891, '尚清': 892, '下腹部': 893, '腰骶部': 894, '低': 895, '指纹': 896, '隐于': 897, '风关': 898, '晄': 899, '脉虚细': 900, '综合': 901, '肩部': 902, '断续': 903, '肩': 904, '舌红苔黄腻': 905, '少白': 906, '五': 907, '解': 908, '壅滞': 909, '行瘀': 910, '滞': 911, '唇': 912, '紫': 913, '引流': 914, '十月': 915, '蕴于': 916, '中焦': 917, '升降': 918, '失常': 919, '视物': 920, '需': 921, '坐': 922, '伽马刀': 923, '咯痰不爽': 924, '旋转': 925, '偶作': 926, '时胸': 927, '粉红色': 928, '膝关节': 929, '晕厥': 930, '要求': 931, '九天': 932, '喉燥': 933, '淡紫': 934, '七月': 935, '二周': 936, '脾弱': 937, '内生': 938, '壅塞': 939, '失于': 940, '位': 941, '受限': 942, '两肺': 943, '黯红': 944, '热蒸炼': 945, '液成': 946, '胶结': 947, '粘浊': 948, '稠厚': 949, '声咳': 950, '间歇性': 951, '数分钟': 952, '食后': 953, '不舒': 954, '呃逆': 955, '骶': 956, '婚育': 957, '史': 958, '喉有': 959, '样粘痰': 960, '尿': 961, '六小时': 962, '气肿': 963, '轮椅': 964, '推入': 965, '伴间': 966, '束': 967, '金川': 968, '相关': 969, '肺大': 970, '神经内分泌癌': 971, '翻身': 972, '脉濡数': 973, '数日': 974, '自诉': 975, '凹陷': 976, '体形': 977, '汤云鹤': 978, '安': 979, '脉脉': 980, '仰卧': 981, '伸足': 982, '阳虚': 983, '气不化': 984, '水': 985, '睁眼': 986, '交流': 987, '腹部胀满': 988, '白润': 989, '中喘鸣': 990, '咳嗽声': 991, '具体': 992, '吴飞霞': 993, '色白易咯': 994, '痴呆': 995, '舌白': 996, '郁闭': 997, '沉数': 998, '脑外伤': 999, '粘腻': 1000, '皮温': 1001, '不高': 1002, '湿': 1003, '频繁': 1004, '块': 1005, '舌舌': 1006, '可闻及': 1007, '周身': 1008, '牵丝': 1009, '前区': 1010, '不适感': 1011, '朱秋生': 1012, '６': 1013, '斑疹': 1014, '相': 1015, '病区': 1016, '斤': 1017, '可及': 1018, '频剧': 1019, '不多易': 1020, '颈项': 1021, '切除': 1022, '骨痛': 1023, '舌舌神': 1024, '舌色': 1025, '舌形': 1026, '舌态': 1027, '舌下': 1028, '络脉': 1029, '苔苔质': 1030, '纳少': 1031, '泡沫状': 1032, '怕冷': 1033, '半个': 1034, '影响': 1035, '肺非': 1036, '伴肝': 1037, '胸腔': 1038, '咽部': 1039, '状': 1040, '胸膈满闷': 1041, '如塞': 1042, '咳反': 1043, '紫红': 1044, '躁动不安': 1045, '自愈': 1046, '日久': 1047, '胸椎': 1048, '不削': 1049, '纳': 1050, '持续上升': 1051, '规则': 1052, '重度': 1053, '眼睑': 1054, '纳呆': 1055, '便': 1056, '声嘶一': 1057, '咯较': 1058, '两个': 1059, '口干': 1060, '较难': 1061, '不欲': 1062, '水鸡': 1063, '浓痰': 1064, '予以': 1065, '神疲': 1066, '主证': 1067, '之少神': 1068, '脉细缓': 1069, '扶入': 1070, '问答': 1071, '偶感': 1072, '迟缓': 1073, '而发': 1074, '八': 1075, '微弱': 1076, '饮水': 1077, '胀满': 1078, '黄难': 1079, '近身': 1080, '质硬': 1081, '伴腰': 1082, '酸麻': 1083, '十九年': 1084, '恶心感': 1085, '便秘': 1086, '平静': 1087, '急诊': 1088, '改变': 1089, '现': 1090, '留置': 1091, '牵引': 1092, '异物感': 1093, '硬': 1094, '４': 1095, '郁': 1096, '成': 1097, '球囊': 1098, '重浊': 1099, '喉痒': 1100, '被动': 1101, '阴道': 1102, '流血': 1103, '轻': 1104, '眼睛': 1105, '流泪': 1106, '急性': 1107, '中少': 1108, '已解': 1109, '粘尚能': 1110, '指凹性': 1111, '打喷嚏': 1112, '面色淡黄': 1113, '血量': 1114, '脓性': 1115, '分泌物': 1116, '脉细为': 1117, '甲床': 1118, '接触': 1119, '物质': 1120, '上腹': 1121, '滑脉': 1122, '疲乏': 1123, '黑色': 1124, '外伤': 1125, '不肿': 1126, '鼻饲': 1127, '脘': 1128, '头疼': 1129, '浮': 1130, '口气': 1131, '质腻': 1132, '右手': 1133, '流出': 1134, '胸腹': 1135, '服用': 1136, '结膜': 1137, '颅内': 1138, '开颅': 1139, '惊跳': 1140, '抽动': 1141, '夜尿': 1142, '诉偶': 1143, '烧心': 1144, '牵丝样': 1145, '认知': 1146, '功能障碍': 1147, '偶咯': 1148, '体重减轻': 1149, '动作': 1150, '坡行': 1151, '双肺': 1152, '脑出血': 1153, '反应': 1154, '突发': 1155, '七分钟': 1156, '纵膈': 1157, '纳寐差': 1158, '斑片影': 1159, '呕吐物': 1160, '喉中响': 1161, '神志昏迷': 1162, '胀': 1163, '闷': 1164, '及右': 1165, '内': 1166, '股骨颈': 1167, '尿不湿': 1168, '以喉': 1169, '十一月': 1170, '肩痛': 1171, '嘶': 1172, '肺热': 1173, '伤津': 1174, '口渴': 1175, '蒸液': 1176, '半小时': 1177, '辅助通气': 1178, '黏色': 1179, '排尿困难': 1180, '支气管扩张症     ': 1181, '天主': 1182, '增多': 1183, '伤及': 1184, '内脏': 1185, '肺脾两虚': 1186, '运化': 1187, '内盛': 1188, '瘀': 1189, '阻于': 1190, '姜': 1191, '国华': 1192, '伴胸': 1193, '强迫': 1194, '右中': 1195, '肺叶切除术': 1196, '起病': 1197, '以来': 1198, '脉腻': 1199, '容': 1200, '极度': 1201, '胸满': 1202, '造瘘': 1203, '小便频数': 1204, '流质': 1205, '舌淡苔薄白': 1206, '大小': 1207, '血块': 1208, '根治术': 1209, '减退': 1210, '近两年来': 1211, '前': 1212, '窦': 1213, '道': 1214, '脓液': 1215, '升高': 1216, '偏瘦': 1217, '胁部': 1218, '二': 1219, '较萎': 1220, '好': 1221, '七': 1222, '咯吐黄': 1223, '出现': 1224, '不成形': 1225, '十三': 1226, '辨证': 1227, '低度': 1228, '欠清': 1229, '杨和云': 1230, '中曾': 1231, '刘冬生': 1232, '运动': 1233, '烧灼': 1234, '不切题': 1235, '疑难': 1236, '病例': 1237, '讨论': 1238, '地点': 1239, '医生': 1240, '办公室': 1241, '参加': 1242, '人员': 1243, '中医师': 1244, '质地': 1245, '肋': 1246, '呕血': 1247, '七十余年': 1248, '多白': 1249, '皆': 1250, '盛之证': 1251, '面稍': 1252, '针刺': 1253, '三周': 1254, '喘近': 1255, '身痛': 1256, '尹瑞坤': 1257, '明': 1258, '广泛': 1259, '六': 1260, '紫绀': 1261, '盐酸': 1262, '吗啡': 1263, '缓释片': 1264, '止痛': 1265, '效果': 1266, '舌苔白': 1267, '龚小菊': 1268, '现在': 1269, '肺不张': 1270, '查体': 1271, '夹有': 1272, '固定': 1273, '错乱': 1274, '行动迟缓': 1275, '等表': 1276, '状态': 1277, '病因': 1278, '病机': 1279, '体弱': 1280, '上逆于': 1281, '吞咽': 1282, '四十分钟': 1283, '放': 1284, '射': 1285, '闻': 1286, '纳不佳': 1287, '哮喘': 1288, '浅白色': 1289, '亏耗': 1290, '肺不敛': 1291, '肺肾两虚': 1292, '回答': 1293, '排便': 1294, '水样': 1295, '急性病': 1296, '高热': 1297, '上逆干': 1298, '可闻': 1299, '疗后': 1300, '黏谈': 1301, '膀胱': 1302, '棕': 1303, '中有': 1304, '上午': 1305, '骨折': 1306, '碌碌': 1307, '腹': 1308, '痞胀': 1309, '头胀': 1310, '性三': 1311, '凹征': 1312, '躁动': 1313, '及胁': 1314, '复查': 1315, '以以': 1316, '伴少': 1317, '曾': 1318, '烦躁': 1319, '中叶': 1320, '望望': 1321, '坐位': 1322, '下午': 1323, '不会': 1324, '依据': 1325, '舌头': 1326, '维持': 1327, '仍诉': 1328, '性质': 1329, '当为': 1330, '青紫': 1331, '公斤': 1332, '精细': 1333, '失调': 1334, '大便秘结': 1335, '王雪梅': 1336, '束燕铭': 1337, '谭寅巍': 1338, '尿急': 1339, '说话': 1340, '左右': 1341, '纳呆差': 1342, '稍微': 1343, '迟钝': 1344, '过敏原': 1345, '组合': 1346, '总': 1347, '背': 1348, '语句': 1349, '连续': 1350, '呼之可': 1351, '偶伴': 1352, '红苔薄': 1353, '平躺': 1354, '睑': 1355, '转身': 1356, '夜': 1357, '欠畅': 1358, '右肩': 1359, '浅短': 1360, '食入': 1361, '肩颈': 1362, '静息': 1363, '吴求': 1364, '贵': 1365, '阻塞性': 1366, '疾病': 1367, '分化': 1368, '二日': 1369, '体力': 1370, '失眠': 1371, '寒': 1372, '化成': 1373, '粒子': 1374, '植入术': 1375, '下身': 1376, '淡黄色': 1377, '液体': 1378, '两上': 1379, '肺亚段': 1380, '髋部': 1381, '发一': 1382, '偏胖': 1383, '寒痰': 1384, '宣畅': 1385, '脉涩': 1386, '后伴': 1387, '十五年': 1388, '平日': 1389, '指': 1390, '右肋': 1391, '殷': 1392, '春兰': 1393, '杨桂珍': 1394, '眠': 1395, '分化腺癌': 1396, '粘白': 1397, '嗽': 1398, '问题': 1399, '面浮肢': 1400, '肿': 1401, '性喘促': 1402, '失控': 1403, '表面': 1404, '苔浊': 1405, '听力': 1406, '有喉': 1407, '颈椎': 1408, '断断续续': 1409, '淡有': 1410, '紫气': 1411, '不连贯': 1412, '咳吐黄': 1413, '体征': 1414, '说胡话': 1415, '大': 1416, '黄稠': 1417, '黄易': 1418, '腰腿痛': 1419, '肌力': 1420, '灰白': 1421, '十二天': 1422, '时双侧': 1423, '检查': 1424, '左手': 1425, '苔腻色': 1426, '时止': 1427, '遇劳': 1428, '则甚': 1429, '腮部': 1430, '发红': 1431, '尤为': 1432, '五日': 1433, '家中': 1434, '后重': 1435, '及哮': 1436, '鸣声': 1437, '因寒': 1438, '伏': 1439, '遇感': 1440, '升': 1441, '气阻': 1442, '思维': 1443, '科主任': 1444, '周一': 1445, '王玉瑾': 1446, '住院': 1447, '十七年': 1448, '伴喉间': 1449, '蔡': 1450, '金书': 1451, '运动性': 1452, '带血': 1453, '薄腻': 1454, '脉缓': 1455, '偏瘫': 1456, '呼之能': 1457, '神差': 1458, '主治': 1459, '住院医师': 1460, '人': 1461, '伴降': 1462, '主动脉': 1463, '旁': 1464, '腹膜': 1465, '闭试': 1466, '尿频尿急': 1467, '祖国': 1468, '医': 1469, '不平': 1470, '偏少': 1471, '包块': 1472, '晨': 1473, '僵': 1474, '绀': 1475, '清稀状': 1476, '仅': 1477, '后腰': 1478, '苔淡': 1479, '难以忍受': 1480, '泛酸': 1481, '间歇': 1482, '久行': 1483, '脉浮缓': 1484, '八十余年': 1485, '闭式': 1486, '一解': 1487, '七个': 1488, '不可': 1489, '季肋区': 1490, '以剑': 1491, '为重': 1492, '难于': 1493, '宜畅': 1494, '外寒': 1495, '每易': 1496, '引动': 1497, '受寒': 1498, '瘀点': 1499, '可喘': 1500, '中间': 1501, '抖动': 1502, '近三年': 1503, '黄脓质': 1504, '大汗淋漓': 1505, '下眼睑': 1506, '紫暗': 1507, '紧张': 1508, '异常': 1509, '形态': 1510, '极萎': 1511, '喘鸣': 1512, '干呕': 1513, '胸满闷': 1514, '窒': 1515, '口不渴': 1516, '渴喜': 1517, '热饮': 1518, '天冷': 1519, '遇寒': 1520, '形寒': 1521, '寒证': 1522, '肩背': 1523, '伴声': 1524, '乳腺癌': 1525, '八小时': 1526, '镇静': 1527, '少苔脉': 1528, '头颈部': 1529, '浅快': 1530, '肋间': 1531, '引流术': 1532, '仰卧位': 1533, '褐色': 1534, '夜寐不佳': 1535, '困乏': 1536, '力': 1537, '伴身': 1538, '即感': 1539, '日间': 1540, '排气': 1541, '唐有': 1542, '德': 1543, '邱': 1544, '脐下': 1545, '两程': 1546, '分': 1547, '黄绿': 1548, '咽喉部': 1549, '黏腻': 1550, '两侧': 1551, '结节病': 1552, '变': 1553, '天大': 1554, '直立': 1555, '挺胸': 1556, '即刻': 1557, '不喘': 1558, '偶': 1559, '憋气': 1560, '白糖': 1561, '痛痛': 1562, '频': 1563, '腹肌': 1564, '半日': 1565, '昏睡': 1566, '平地': 1567, '主动': 1568, '每日': 1569, '逆': 1570, '软瘫': 1571, '上半身': 1572, '甚时': 1573, '放射痛': 1574, '左乳': 1575, '跌倒': 1576, '伴喘促': 1577, '血小板减少': 1578, '反胃': 1579, '多食': 1580, '多尿': 1581, '纳寐': 1582, '间断性': 1583, '导尿管': 1584, '呼之可应': 1585, '后及': 1586, '红肿': 1587, '日一解': 1588, '朱正辉': 1589, '张永刚': 1590, '粘易': 1591, '十八年': 1592, '尿痛': 1593, '大声': 1594, '分析': 1595, '壅': 1596, '手术': 1597, '应': 1598, '稀便': 1599, '区闷胀': 1600, '十六年': 1601, '压痛': 1602, '左胁': 1603, '苔红': 1604, '即重': 1605, '耳鸣': 1606, '前额': 1607, '咽痛伴': 1608, '腿部': 1609, '瘤': 1610, '介入': 1611, '近十年': 1612, '舌舌质': 1613, '黄脉': 1614, '时上': 1615, '梗阻': 1616, '体型': 1617, '时量': 1618, '滑结': 1619, '代': 1620, '多发性': 1621, '十五天': 1622, '稀痰': 1623, '有心': 1624, '弦': 1625, '蔡秀娣': 1626, '身热': 1627, '烧灼感': 1628, '红少苔': 1629, '娥': 1630, '耳边': 1631, '哎调': 1632, '现转': 1633, '十小时': 1634, '雷诺': 1635, '现象': 1636, '肩关节': 1637, '脸颊': 1638, '两次': 1639, '潮热': 1640, '再次': 1641, '肺失清肃': 1642, '黄干': 1643, '口干咽': 1644, '胸膜': 1645, '肺大泡': 1646, '僵硬': 1647, '多处': 1648, '破溃': 1649, '带有': 1650, '青': 1651, '热迫': 1652, '血行': 1653, '每次': 1654, '\\t': 1655, '行动不便': 1656, '拉丝': 1657, '粘液性': 1658, '血便': 1659, '多量': 1660, '劳力': 1661, '耐力': 1662, '呼': 1663, '次后': 1664, '~': 1665, '黏难': 1666, '热证': 1667, '胃部不适': 1668, '语音': 1669, '苔厚': 1670, '郑跃林': 1671, '白尚易': 1672, '身振摇': 1673, '剥脱': 1674, '辛梅英': 1675, '现为': 1676, '咳较': 1677, '稍神': 1678, '身': 1679, '过后': 1680, '白天': 1681, '红疹': 1682, '唤之能': 1683, '醒': 1684, '准确': 1685, '闷气': 1686, '肛门': 1687, '今日': 1688, '下颌': 1689, '枕部': 1690, '耳后': 1691, '黑便': 1692, '冒汗': 1693, '外': 1694, '发于': 1695, '表而见': 1696, '正邪': 1697, '抗争': 1698, '寒热': 1699, '往来': 1700, '感染': 1701, '背心': 1702, '十三年': 1703, '偶发': 1704, '伴月': 1705, '余伴': 1706, '流': 1707, '偶阵': 1708, '神智': 1709, '冠心病': 1710, '稍差': 1711, '时则': 1712, '吐泻': 1713, '两日': 1714, '间质性': 1715, '肺病': 1716, '三次': 1717, '及剑': 1718, '脉白': 1719, '鼻部': 1720, '成针': 1721, '扎样': 1722, '少荣': 1723, '华润': 1724, '伴嗝': 1725, '辅助': 1726, '控制': 1727, '干红': 1728, '紧缩': 1729, '眼眶': 1730, '周围': 1731, '双眼': 1732, '球': 1733, '喘五': 1734, '只能': 1735, '单字': 1736, '周伴': 1737, '伴右': 1738, '热郁': 1739, '蒸': 1740, '数年': 1741, '振': 1742, '喜伏': 1743, '头闷': 1744, '左胁部': 1745, '夜尿多': 1746, '五十年': 1747, '黯淡': 1748, '早起': 1749, '伴咳': 1750, '黏液': 1751, '民主': 1752, '治': 1753, '主治医师': 1754, '脾': 1755, '稀水': 1756, '证候': 1757, '粗促': 1758, '双足': 1759, '二十余': 1760, '灶': 1761, '不畅': 1762, '胸背': 1763, '偶带': 1764, '朱正辉科': 1765, '主任医师': 1766, '民': 1767, '固定物': 1768, '最大': 1769, '直径约': 1770, '呼吸运动': 1771, '喜饮': 1772, '辗转': 1773, '头皮': 1774, '挠': 1775, '抓': 1776, '脱落': 1777, '感觉': 1778, '入夜': 1779, '白而燥': 1780, '腹胀满': 1781, '弓痛': 1782, '口腔溃疡': 1783, '流黄': 1784, '浓涕': 1785, '右小': 1786, '憋闷': 1787, '腰腹部': 1788, '弯腰': 1789, '多为': 1790, '伴咯': 1791, '查': 1792, '左季': 1793, '隆起': 1794, '鲜艳': 1795, '难出': 1796, '痉挛': 1797, '手指': 1798, '黄脉滑': 1799, '闻及': 1800, '气味': 1801, '白白': 1802, '反': 1803, '转侧': 1804, '危重': 1805, '记录': 1806, '干口苦': 1807, '切题': 1808, '肩膀': 1809, '细略涩': 1810, '食少': 1811, '瘦削': 1812, '天余伴': 1813, '胁痛': 1814, '气候变化': 1815, '时以': 1816, '日解': 1817, '双胁': 1818, '伴双侧': 1819, '手足': 1820, '成形': 1821, '感心': 1822, '近两年': 1823, '较白': 1824, '术口': 1825, '以舌质': 1826, '腥臭味': 1827, '食纳佳': 1828, '下唇': 1829, '脘腹胀满': 1830, '口服': 1831, '排黄': 1832, '患': 1833, '不祥': 1834, '吞咽困难': 1835, '于床': 1836, '发感': 1837, '并感': 1838, '右胁': 1839, '耐受': 1840, '白稠': 1841, '红苔黄': 1842, '感上': 1843, '手麻': 1844, '中等量': 1845, '七十年': 1846, '红赤': 1847, '打嗝': 1848, '腋下': 1849, '触痛': 1850, '颌下': 1851, '多个': 1852, '满面': 1853, '通红': 1854, '痛伴': 1855, '周云生': 1856, '睡': 1857, '辩证': 1858, '哮病': 1859, '肺脾亏': 1860, '虚': 1861, '虚之象': 1862, '示舌质': 1863, '左肩': 1864, '腰腿疼': 1865, '耳内': 1866, '唇疱疹': 1867, '质粘量': 1868, '白痰量': 1869, '口齿不清': 1870, '声低': 1871, '黄脓量': 1872, '尤': 1873, '爬坡': 1874, '楼梯': 1875, '头身': 1876, '困重': 1877, '全算': 1878, '伴视物': 1879, '背胀': 1880, '%': 1881, '走路': 1882, '偏暗': 1883, '标志物': 1884, '喘息声': 1885, '慢性病': 1886, '伴口': 1887, '咳少白': 1888, '热蕴': 1889, '十一': 1890, '杨雪军': 1891, '待查': 1892, '水平': 1893, '痞': 1894, '饥不欲食': 1895, '四十年': 1896, '常伴': 1897, '恶风': 1898, '肢楚': 1899, '因风': 1900, '热犯': 1901, '黄染': 1902, '臀部': 1903, '步入': 1904, '合作': 1905, '弹性': 1906, '血糖': 1907, '黄脓': 1908, '多出': 1909, '破损': 1910, '胸中': 1911, '十六天': 1912, '喉中时': 1913, '十多天': 1914, '粘痰色': 1915, '腰大池': 1916, '腹腔分流术': 1917, '伴见': 1918, '声较': 1919, '响': 1920, '基底节': 1921, '血肿': 1922, '穿刺': 1923, '能力差': 1924, '质粘腻': 1925, '频发': 1926, '后背': 1927, '续断': 1928, '完整': 1929, '讲完': 1930, '一句': 1931, '话': 1932, '觉': 1933, '黄尚易': 1934, '三十余': 1935, '色白量': 1936, '张冬生': 1937, '不多质': 1938, '今随': 1939, '时剑': 1940, '咯色': 1941, '质稠尚': 1942, '粘嗽': 1943, '极少量': 1944, '神尚清': 1945, '发九': 1946, '调舌质': 1947, '脾气虚': 1948, '舌苔黄': 1949, '排出': 1950, '流脓': 1951, '涕': 1952, '脘腹痞满': 1953, '枕叶': 1954, '弥漫': 1955, '淋巴瘤': 1956, '太白': 1957, '后略': 1958, '舌根': 1959, '苔波': 1960, '硬瘫': 1961, '痰气': 1962, '扩冠': 1963, '调脂': 1964, '抗': 1965, '血小板': 1966, '凝集': 1967, '量易': 1968, '胃造': 1969, '瘘': 1970, '尿少': 1971, '黏难出': 1972, '日常': 1973, '伴纳食': 1974, '平均': 1975, '矢气': 1976, '杨': 1977, '美兰': 1978, '食钠': 1979, '完善': 1980, '相关检查': 1981, '包括': 1982, '血常规': 1983, '尿常规': 1984, '常规': 1985, '生化': 1986, '全套': 1987, '凝血': 1988, '五项': 1989, '全': 1990, '胸片': 1991, '心电图': 1992, '超': 1993, '连及': 1994, '冠心': 1995, '丸': 1996, '病情': 1997, '痛剧': 1998, '痛引': 1999, '喉头': 2000, '干嗽': 2001, '抬头': 2002, '八个': 2003, '清晨': 2004, '难易': 2005, '灰色': 2006, '尿液': 2007, '有白': 2008, '苔红腻': 2009, '十五': 2010, '热痛': 2011, '易饥': 2012, '眼花': 2013, '质粘易': 2014, '颊': 2015, '粘膜': 2016, '溃疡': 2017, '稍肿': 2018, '不宜': 2019, '日余': 2020, '神经痛': 2021, '口腔粘膜': 2022, '白斑': 2023, '肺胀': 2024, '范畴': 2025, '痰浊阻肺证': 2026, '本病': 2027, '病位': 2028, '病性': 2029, '虚实': 2030, '夹杂': 2031, '预后': 2032, '不振': 2033, '高': 2034, '大汗': 2035, '久': 2036, '站': 2037, '整发': 2038, '清啸': 2039, '身热口': 2040, '均': 2041, '热之候': 2042, '咳中量': 2043, '十二': 2044, '脉促': 2045, '旋即': 2046, '暗紫色': 2047, '偶见': 2048, '三个': 2049, '有所': 2050, '近日': 2051, '咳棕': 2052, '容易': 2053, '含服': 2054, '硝酸甘油': 2055, '两月伴': 2056, '尿量': 2057, '红色': 2058, '程度': 2059, '向上': 2060, '右腹': 2061, '作伴': 2062, '起身': 2063, '贲门癌': 2064, '聋哑人': 2065, '左肋': 2066, '致': 2067, '下颌部': 2068, '色红': 2069, '加伴': 2070, '中断': 2071, '粘白难': 2072, '稠易': 2073, '有少神': 2074, '执行': 2075, '简单': 2076, '指令': 2077, '食物': 2078, '临床': 2079, '烦躁不安': 2080, '清涕': 2081, '育': 2082, '空洞': 2083, '胸口': 2084, '打飘感': 2085, '身热汗': 2086, '稍口': 2087, '余分钟': 2088, '带': 2089, '少数': 2090, '支气管扩张症并感染': 2091, '麻胀': 2092, '蕴中': 2093, '喘气': 2094, '急': 2095, '卫表不固': 2096, '怕': 2097, '风': 2098, '易汗': 2099, '伴低': 2100, '舌干': 2101, '苔微': 2102, '少有': 2103, '喘六': 2104, '呼之尚': 2105, '协痛': 2106, '血伴': 2107, '伴食': 2108, '大腿': 2109, '髋关节': 2110, '沉滑': 2111, '喘伴': 2112, '白黄': 2113, '胸壁': 2114, '胸肋': 2115, '少寐': 2116, '时右': 2117, '两三天': 2118, '调畅': 2119, '气管导管': 2120, '１': 2121, '０': 2122, '高血压': 2123, '规律': 2124, '米沙坦': 2125, '片': 2126, '降压': 2127, '血压': 2128, '沉默寡言': 2129, '阶段': 2130, '小结': 2131, '袁': 2132, '大清': 2133, '倒错': 2134, '大便稀溏': 2135, '中阳': 2136, '积湿成': 2137, '失降': 2138, '气道': 2139, '肺胃': 2140, '后促': 2141, '夹带': 2142, '喘八': 2143, '步行': 2144, '一日': 2145, '黄偏': 2146, '偏干': 2147, '咳伴': 2148, '颤动': 2149, '以纳少': 2150, '午后潮热': 2151, '三点': 2152, '半卧于': 2153, '床': 2154, '嘴唇': 2155, '时咳': 2156, '感热': 2157, '邪': 2158, '甚则': 2159, '受损': 2160, '双踝': 2161, '股骨': 2162, '转子': 2163, '末端': 2164, '肋骨': 2165, '灰黑': 2166, '咳吐较': 2167, '呋喃丹': 2168, '厥': 2169, '冷': 2170, '周边': 2171, '闷痛': 2172, '神智不清': 2173, '所苦': 2174, '眼': 2175, '睑下垂': 2176, '仍觉': 2177, '面白': 2178, '嘈杂': 2179, '绿脓': 2180, '有力': 2181, '喜仰': 2182, '脱出': 2183, '四十天': 2184, '自言自语': 2185, '而润': 2186, '行为': 2187, '瘀斑': 2188, '后滴': 2189, '伴纳少': 2190, '闻喉': 2191, '热扰': 2192, '心': 2193, '黄褐色': 2194, '数十口': 2195, '质软': 2196, '较重': 2197, '痿': 2198, '舌黄': 2199, '十七': 2200, '浅黄': 2201, '时喉': 2202, '亏虚': 2203, '而见': 2204, '稍劳': 2205, '肤': 2206, '温升高': 2207, '少色鲜': 2208, '丧失': 2209, '楚': 2210, '呼吸机': 2211, '模式': 2212, '氧': 2213, '浓度': 2214, '末梢': 2215, '颧': 2216, '惨白': 2217, '禁食': 2218, '头': 2219, '牵拉': 2220, '区闷': 2221, '牵扯': 2222, '诉有': 2223, '结婚': 2224, '育有': 2225, '女儿': 2226, '体健': 2227, '配偶': 2228, '傍晚': 2229, '息': 2230, '心前': 2231, '张': 2232, '天保': 2233, '一个月': 2234, '暂缺': 2235, '耳聋': 2236, '少多': 2237, '难下': 2238, '总量': 2239, '两口': 2240, '活': 2241, '吴锁根': 2242, '清肃': 2243, '失司': 2244, '肺气上逆': 2245, '难咳': 2246, '湿困': 2247, '起初': 2248, '促貌': 2249, '乏味': 2250, '胡斌': 2251, '张小辉': 2252, '何强': 2253, '李': 2254, '惠民': 2255, '肖孟': 2256, '灼痛': 2257, '疱疹': 2258, '排尿': 2259, '偏': 2260, '灰黄色': 2261, '手部': 2262, '颤抖': 2263, '麻木感': 2264, '内阻': 2265, '懒': 2266, '棕色': 2267, '咳咳': 2268, '以咳': 2269, '稍嗽': 2270, '咳少': 2271, '时即': 2272, '班': 2273, '咯吐少': 2274, '测量体温': 2275, '阴囊': 2276, '五十天': 2277, '含糊': 2278, '需半': 2279, '以因': 2280, '已': 2281, '遇': 2282, '寒冷': 2283, '左胸': 2284, '心中': 2285, '伴后': 2286, '感右': 2287, '困倦': 2288, '鼻唇沟': 2289, '不浅': 2290, '口角': 2291, '后见': 2292, '后偶': 2293, '九个': 2294, '余次': 2295, '平时': 2296, '萎靡不振': 2297, '咯少': 2298, '乳房': 2299, '下方': 2300, '感腰': 2301, '后心': 2302, '解黑': 2303, '减低': 2304, '后咽': 2305, '苔干': 2306, '咽喉': 2307, '干痒': 2308, '萎稍': 2309, '脾胃不和': 2310, '六十年': 2311, '钝痛': 2312, '黏膜': 2313, '感剑': 2314, '夫妇': 2315, '点头': 2316, '示意': 2317, '脉濡涩': 2318, '畏': 2319, '天天': 2320, '伴纳眠': 2321, '添加': 2322, '小便不利': 2323, '质稀': 2324, '里急后重': 2325, '不多色': 2326, '有时': 2327, '用力': 2328, '十余口': 2329, '刻': 2330, '音': 2331, '部闷胀': 2332, '主因': 2333, '左腿': 2334, '骨': 2335, '模糊不清': 2336, '浅': 2337, '间作': 2338, '少能': 2339, '十九': 2340, '迁安': 2341, '陈': 2342, '几十年': 2343, '粘表': 2344, '会': 2345, '中小': 2346, '敏': 2347, '十四年': 2348, '身热面': 2349, '咳白稠': 2350, '及剑突': 2351, '下处': 2352, '精神异常': 2353, '答非所问': 2354, '部位': 2355, '局限于': 2356, '少语': 2357, '清醒': 2358, '四个': 2359, '拇指': 2360, '第一': 2361, '指关节': 2362}\n"
     ]
    }
   ],
   "source": [
    "ym=pd.DataFrame(outm)\n",
    "\n",
    "all_texts=cps1\n",
    "tokenizer = Tokenizer()\n",
    "tokenizer.fit_on_texts(all_texts)\n",
    "sequences = tokenizer.texts_to_sequences(all_texts)\n",
    "word_index = tokenizer.word_index\n",
    "print('Found %s unique tokens.' % len(word_index))\n",
    "datatxt = pad_sequences(sequences, maxlen=MAX_SEQUENCE_LENGTH)\n",
    "#labels = to_categorical(np.asarray(y),num_classes=None)\n",
    "print('Shape of data tensor:', datatxt.shape)\n",
    "print('Shape of label tensor:', ym.shape)\n",
    "print(word_index)"
   ]
  },
  {
   "cell_type": "code",
   "execution_count": 684,
   "metadata": {},
   "outputs": [],
   "source": [
    "from sklearn.model_selection import train_test_split\n",
    "x=datatxt\n",
    "#ym=pd.DataFrame(outm)\n",
    "x_train, x_test, y_train, y_test=train_test_split(x,ym,test_size=0.20,random_state=0)"
   ]
  },
  {
   "cell_type": "code",
   "execution_count": 685,
   "metadata": {},
   "outputs": [
    {
     "data": {
      "text/html": [
       "<div>\n",
       "<style scoped>\n",
       "    .dataframe tbody tr th:only-of-type {\n",
       "        vertical-align: middle;\n",
       "    }\n",
       "\n",
       "    .dataframe tbody tr th {\n",
       "        vertical-align: top;\n",
       "    }\n",
       "\n",
       "    .dataframe thead th {\n",
       "        text-align: right;\n",
       "    }\n",
       "</style>\n",
       "<table border=\"1\" class=\"dataframe\">\n",
       "  <thead>\n",
       "    <tr style=\"text-align: right;\">\n",
       "      <th></th>\n",
       "      <th>tan</th>\n",
       "      <th>feng</th>\n",
       "      <th>han</th>\n",
       "      <th>ren</th>\n",
       "      <th>qixu</th>\n",
       "      <th>yinxu</th>\n",
       "      <th>fei</th>\n",
       "      <th>pi</th>\n",
       "      <th>shen</th>\n",
       "    </tr>\n",
       "  </thead>\n",
       "  <tbody>\n",
       "    <tr>\n",
       "      <th>5954</th>\n",
       "      <td>0</td>\n",
       "      <td>0</td>\n",
       "      <td>1</td>\n",
       "      <td>0</td>\n",
       "      <td>0</td>\n",
       "      <td>0</td>\n",
       "      <td>1</td>\n",
       "      <td>0</td>\n",
       "      <td>0</td>\n",
       "    </tr>\n",
       "    <tr>\n",
       "      <th>4150</th>\n",
       "      <td>0</td>\n",
       "      <td>1</td>\n",
       "      <td>0</td>\n",
       "      <td>1</td>\n",
       "      <td>0</td>\n",
       "      <td>0</td>\n",
       "      <td>1</td>\n",
       "      <td>0</td>\n",
       "      <td>0</td>\n",
       "    </tr>\n",
       "    <tr>\n",
       "      <th>5325</th>\n",
       "      <td>0</td>\n",
       "      <td>0</td>\n",
       "      <td>1</td>\n",
       "      <td>0</td>\n",
       "      <td>0</td>\n",
       "      <td>0</td>\n",
       "      <td>1</td>\n",
       "      <td>0</td>\n",
       "      <td>0</td>\n",
       "    </tr>\n",
       "    <tr>\n",
       "      <th>3188</th>\n",
       "      <td>0</td>\n",
       "      <td>1</td>\n",
       "      <td>1</td>\n",
       "      <td>0</td>\n",
       "      <td>0</td>\n",
       "      <td>0</td>\n",
       "      <td>1</td>\n",
       "      <td>0</td>\n",
       "      <td>0</td>\n",
       "    </tr>\n",
       "    <tr>\n",
       "      <th>3870</th>\n",
       "      <td>0</td>\n",
       "      <td>1</td>\n",
       "      <td>1</td>\n",
       "      <td>0</td>\n",
       "      <td>0</td>\n",
       "      <td>0</td>\n",
       "      <td>1</td>\n",
       "      <td>0</td>\n",
       "      <td>0</td>\n",
       "    </tr>\n",
       "  </tbody>\n",
       "</table>\n",
       "</div>"
      ],
      "text/plain": [
       "      tan  feng  han  ren  qixu  yinxu  fei  pi  shen\n",
       "5954    0     0    1    0     0      0    1   0     0\n",
       "4150    0     1    0    1     0      0    1   0     0\n",
       "5325    0     0    1    0     0      0    1   0     0\n",
       "3188    0     1    1    0     0      0    1   0     0\n",
       "3870    0     1    1    0     0      0    1   0     0"
      ]
     },
     "execution_count": 685,
     "metadata": {},
     "output_type": "execute_result"
    }
   ],
   "source": [
    "y_test.head()"
   ]
  },
  {
   "cell_type": "code",
   "execution_count": 686,
   "metadata": {},
   "outputs": [],
   "source": [
    "from keras.layers import Dense, Input, Flatten, Dropout\n",
    "from keras.layers import Conv1D, MaxPooling1D, Embedding\n",
    "from keras.models import Sequential\n",
    "#EMBEDDING_DIM = 128"
   ]
  },
  {
   "cell_type": "code",
   "execution_count": 687,
   "metadata": {},
   "outputs": [
    {
     "name": "stdout",
     "output_type": "stream",
     "text": [
      "_________________________________________________________________\n",
      "Layer (type)                 Output Shape              Param #   \n",
      "=================================================================\n",
      "embedding_16 (Embedding)     (None, 64, 256)           604928    \n",
      "_________________________________________________________________\n",
      "dropout_16 (Dropout)         (None, 64, 256)           0         \n",
      "_________________________________________________________________\n",
      "conv1d_16 (Conv1D)           (None, 64, 512)           393728    \n",
      "_________________________________________________________________\n",
      "max_pooling1d_16 (MaxPooling (None, 32, 512)           0         \n",
      "_________________________________________________________________\n",
      "flatten_16 (Flatten)         (None, 16384)             0         \n",
      "_________________________________________________________________\n",
      "dense_31 (Dense)             (None, 256)               4194560   \n",
      "_________________________________________________________________\n",
      "dense_32 (Dense)             (None, 9)                 2313      \n",
      "=================================================================\n",
      "Total params: 5,195,529\n",
      "Trainable params: 5,195,529\n",
      "Non-trainable params: 0\n",
      "_________________________________________________________________\n"
     ]
    }
   ],
   "source": [
    "model = Sequential()\n",
    "model.add(Embedding(len(word_index) + 1, EMBEDDING_DIM, input_length=MAX_SEQUENCE_LENGTH))\n",
    "model.add(Dropout(0.2))\n",
    "model.add(Conv1D(512, 3, padding='same', activation='relu', strides=1))\n",
    "model.add(MaxPooling1D(2))\n",
    "model.add(Flatten())\n",
    "model.add(Dense(EMBEDDING_DIM, activation='relu'))\n",
    "#model.add(Dense(ym.shape[1], activation='softmax')) #multiclass\n",
    "model.add(Dense(ym.shape[1], activation='sigmoid')) #multilabel\n",
    "model.summary()"
   ]
  },
  {
   "cell_type": "code",
   "execution_count": 688,
   "metadata": {},
   "outputs": [
    {
     "name": "stdout",
     "output_type": "stream",
     "text": [
      "Train on 9008 samples, validate on 2252 samples\n",
      "Epoch 1/4\n",
      "9008/9008 [==============================] - 27s 3ms/step - loss: 0.1484 - acc: 0.9381 - val_loss: 0.0397 - val_acc: 0.9866\n",
      "Epoch 2/4\n",
      "9008/9008 [==============================] - 28s 3ms/step - loss: 0.0292 - acc: 0.9906 - val_loss: 0.0229 - val_acc: 0.9929\n",
      "Epoch 3/4\n",
      "9008/9008 [==============================] - 27s 3ms/step - loss: 0.0136 - acc: 0.9957 - val_loss: 0.0185 - val_acc: 0.9941\n",
      "Epoch 4/4\n",
      "9008/9008 [==============================] - 28s 3ms/step - loss: 0.0074 - acc: 0.9976 - val_loss: 0.0193 - val_acc: 0.9951\n",
      "0.9943556452940878\n"
     ]
    }
   ],
   "source": [
    "#from keras import metrics\n",
    "#model.compile(loss='categorical_crossentropy', optimizer='adam', metrics=['accuracy']) \n",
    "#[metrics.mae, metrics.categorical_accuracy]\n",
    "model.compile(loss='binary_crossentropy', optimizer='adam', metrics=[\"acc\"]) \n",
    "#model.fit(x_train, y_train, batch_size=64, epochs=4, verbose=1, validation_data=(x_test, y_test)) \n",
    "model.fit(x_train, y_train, batch_size=64, epochs=4, verbose=1, validation_split=0.2, shuffle=True)\n",
    "score = model.evaluate(x_test,y_test, verbose=0)\n",
    "print(score[1])\n",
    "\n",
    "y_pred1=model.predict(x_test)"
   ]
  },
  {
   "cell_type": "code",
   "execution_count": 689,
   "metadata": {},
   "outputs": [],
   "source": [
    "import sklearn.metrics as metrics"
   ]
  },
  {
   "cell_type": "code",
   "execution_count": 427,
   "metadata": {},
   "outputs": [],
   "source": [
    "y_pred1=model.predict(x_test)\n",
    "#print(\"acc1:\",metrics.accuracy_score(y_test, y_pred1))\n",
    "\n",
    "#print(y_test)\n",
    "#print(y_pred1)\n",
    "\n",
    "#y_labels1 = to_categorical(np.asarray(y_predict1),num_classes=None)\n",
    "\n",
    "#y_m1=np.argmax(y_pred1,axis=1)\n",
    "#y_l1 = to_categorical(np.asarray(y_pred1),num_classes=None)\n",
    "#print(y_l1)"
   ]
  },
  {
   "cell_type": "code",
   "execution_count": 690,
   "metadata": {},
   "outputs": [],
   "source": [
    "def get_multilabel_output(arr,threshold):\n",
    "    threshold1=threshold\n",
    "    arr1=list()\n",
    "    LEN=len(arr)\n",
    "    \n",
    "    for i in range(LEN):\n",
    "        if arr[i]>=threshold1:\n",
    "            arr1.append(1)\n",
    "        else: arr1.append(0)\n",
    "    return arr1"
   ]
  },
  {
   "cell_type": "code",
   "execution_count": 691,
   "metadata": {},
   "outputs": [],
   "source": [
    "def get_multilabel(y_pred):\n",
    "    outlist=list()\n",
    "    for val in y_pred:\n",
    "        valist= get_multilabel_output(val,0.7)\n",
    "        outlist.append(valist)\n",
    "    return outlist"
   ]
  },
  {
   "cell_type": "code",
   "execution_count": 692,
   "metadata": {
    "scrolled": false
   },
   "outputs": [],
   "source": [
    "arr1=get_multilabel(y_pred1)\n",
    "arrdf=pd.DataFrame(arr1)"
   ]
  },
  {
   "cell_type": "code",
   "execution_count": 693,
   "metadata": {},
   "outputs": [
    {
     "name": "stdout",
     "output_type": "stream",
     "text": [
      "acc1: 0.9559502664298402\n",
      "prec1: 0.9922375399528273\n",
      "rec1: 0.986335403726708\n",
      "f1: 0.9891990667394598\n",
      "              precision    recall  f1-score   support\n",
      "\n",
      "           0     0.9935    0.9951    0.9943      1233\n",
      "           1     0.9953    0.9770    0.9861       435\n",
      "           2     0.9960    1.0000    0.9980       503\n",
      "           3     0.9675    0.9174    0.9418       811\n",
      "           4     0.9871    0.9935    0.9903       616\n",
      "           5     0.9975    0.9801    0.9887       403\n",
      "           6     1.0000    1.0000    1.0000      2815\n",
      "           7     0.9771    0.9922    0.9846       258\n",
      "           8     0.9826    0.9883    0.9854       171\n",
      "\n",
      "   micro avg     0.9924    0.9863    0.9893      7245\n",
      "   macro avg     0.9885    0.9826    0.9855      7245\n",
      "weighted avg     0.9922    0.9863    0.9892      7245\n",
      " samples avg     0.9935    0.9877    0.9891      7245\n",
      "\n"
     ]
    }
   ],
   "source": [
    "print(\"acc1:\",metrics.accuracy_score(y_test, arrdf))\n",
    "print(\"prec1:\",metrics.precision_score(y_test, arrdf, average='weighted'))\n",
    "print(\"rec1:\",metrics.recall_score(y_test, arrdf, average='weighted'))\n",
    "print(\"f1:\",metrics.f1_score(y_test, arrdf, average='weighted'))\n",
    "\n",
    "res=classification_report(y_test, arrdf, digits=4)\n",
    "print(res)"
   ]
  },
  {
   "cell_type": "code",
   "execution_count": null,
   "metadata": {},
   "outputs": [],
   "source": []
  }
 ],
 "metadata": {
  "kernelspec": {
   "display_name": "Python 3",
   "language": "python",
   "name": "python3"
  },
  "language_info": {
   "codemirror_mode": {
    "name": "ipython",
    "version": 3
   },
   "file_extension": ".py",
   "mimetype": "text/x-python",
   "name": "python",
   "nbconvert_exporter": "python",
   "pygments_lexer": "ipython3",
   "version": "3.7.3"
  }
 },
 "nbformat": 4,
 "nbformat_minor": 2
}
