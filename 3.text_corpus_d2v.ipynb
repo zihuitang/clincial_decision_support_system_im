{
 "cells": [
  {
   "cell_type": "code",
   "execution_count": 36,
   "metadata": {},
   "outputs": [],
   "source": [
    "import numpy as np\n",
    "import pandas as pd\n",
    "import re\n",
    "import jieba"
   ]
  },
  {
   "cell_type": "code",
   "execution_count": 37,
   "metadata": {},
   "outputs": [
    {
     "data": {
      "text/html": [
       "<div>\n",
       "<style scoped>\n",
       "    .dataframe tbody tr th:only-of-type {\n",
       "        vertical-align: middle;\n",
       "    }\n",
       "\n",
       "    .dataframe tbody tr th {\n",
       "        vertical-align: top;\n",
       "    }\n",
       "\n",
       "    .dataframe thead th {\n",
       "        text-align: right;\n",
       "    }\n",
       "</style>\n",
       "<table border=\"1\" class=\"dataframe\">\n",
       "  <thead>\n",
       "    <tr style=\"text-align: right;\">\n",
       "      <th></th>\n",
       "      <th>hid</th>\n",
       "      <th>id</th>\n",
       "      <th>pid</th>\n",
       "      <th>contxt</th>\n",
       "      <th>diag</th>\n",
       "      <th>diag_code</th>\n",
       "      <th>tcm_syn</th>\n",
       "      <th>tcms_code</th>\n",
       "      <th>tan</th>\n",
       "      <th>feng</th>\n",
       "      <th>han</th>\n",
       "      <th>ren</th>\n",
       "      <th>qixu</th>\n",
       "      <th>yinxu</th>\n",
       "      <th>fei</th>\n",
       "      <th>pi</th>\n",
       "      <th>shen</th>\n",
       "    </tr>\n",
       "  </thead>\n",
       "  <tbody>\n",
       "    <tr>\n",
       "      <th>13224</th>\n",
       "      <td>2</td>\n",
       "      <td>13225</td>\n",
       "      <td>201914264</td>\n",
       "      <td>反复咳嗽咳痰，活动后气促10余年，加重1周。 望之有神、表情正常，面色荣润，形体适中；行动自...</td>\n",
       "      <td>支气管扩张症伴感染</td>\n",
       "      <td>6</td>\n",
       "      <td>痰浊阻肺</td>\n",
       "      <td>9</td>\n",
       "      <td>1</td>\n",
       "      <td>0</td>\n",
       "      <td>0</td>\n",
       "      <td>0</td>\n",
       "      <td>0</td>\n",
       "      <td>0</td>\n",
       "      <td>1</td>\n",
       "      <td>0</td>\n",
       "      <td>0</td>\n",
       "    </tr>\n",
       "    <tr>\n",
       "      <th>2797</th>\n",
       "      <td>1</td>\n",
       "      <td>2798</td>\n",
       "      <td>1610662</td>\n",
       "      <td>右肺癌伽马刀治疗后一年半余，肢体活动障碍三月余 患者面色憔悴，色稍黑；咳喘，无喉中水鸡声；胸...</td>\n",
       "      <td>肺癌</td>\n",
       "      <td>0</td>\n",
       "      <td>肺阴虚</td>\n",
       "      <td>2</td>\n",
       "      <td>0</td>\n",
       "      <td>0</td>\n",
       "      <td>0</td>\n",
       "      <td>0</td>\n",
       "      <td>0</td>\n",
       "      <td>1</td>\n",
       "      <td>1</td>\n",
       "      <td>0</td>\n",
       "      <td>0</td>\n",
       "    </tr>\n",
       "    <tr>\n",
       "      <th>7988</th>\n",
       "      <td>1</td>\n",
       "      <td>7989</td>\n",
       "      <td>1711338</td>\n",
       "      <td>咳嗽咳痰两周，恶寒发热四天。  :该患者以咳嗽、咯痰、发热为主诉，结合患者舌脉，舌质红，苔黄...</td>\n",
       "      <td>肺部感染</td>\n",
       "      <td>1</td>\n",
       "      <td>痰热壅肺</td>\n",
       "      <td>8</td>\n",
       "      <td>1</td>\n",
       "      <td>0</td>\n",
       "      <td>0</td>\n",
       "      <td>1</td>\n",
       "      <td>0</td>\n",
       "      <td>0</td>\n",
       "      <td>1</td>\n",
       "      <td>0</td>\n",
       "      <td>0</td>\n",
       "    </tr>\n",
       "    <tr>\n",
       "      <th>13451</th>\n",
       "      <td>2</td>\n",
       "      <td>13452</td>\n",
       "      <td>201929702</td>\n",
       "      <td>反复咳嗽咳痰、气促20年，再发加重3天 望之少神、面色少华，形体适中；行动自如、精神不振、发...</td>\n",
       "      <td>慢性阻塞性肺病伴感染</td>\n",
       "      <td>5</td>\n",
       "      <td>痰浊阻肺</td>\n",
       "      <td>9</td>\n",
       "      <td>1</td>\n",
       "      <td>0</td>\n",
       "      <td>0</td>\n",
       "      <td>0</td>\n",
       "      <td>0</td>\n",
       "      <td>0</td>\n",
       "      <td>1</td>\n",
       "      <td>0</td>\n",
       "      <td>0</td>\n",
       "    </tr>\n",
       "    <tr>\n",
       "      <th>8918</th>\n",
       "      <td>1</td>\n",
       "      <td>8919</td>\n",
       "      <td>1904255</td>\n",
       "      <td>间断右侧胸痛1月。 患者右侧胸痛，与呼吸运动相关，偶有咳嗽，仅少量白痰，饮食及睡眠正常，二便...</td>\n",
       "      <td>肺部感染</td>\n",
       "      <td>1</td>\n",
       "      <td>痰热壅肺</td>\n",
       "      <td>8</td>\n",
       "      <td>1</td>\n",
       "      <td>0</td>\n",
       "      <td>0</td>\n",
       "      <td>1</td>\n",
       "      <td>0</td>\n",
       "      <td>0</td>\n",
       "      <td>1</td>\n",
       "      <td>0</td>\n",
       "      <td>0</td>\n",
       "    </tr>\n",
       "  </tbody>\n",
       "</table>\n",
       "</div>"
      ],
      "text/plain": [
       "       hid     id        pid  \\\n",
       "13224    2  13225  201914264   \n",
       "2797     1   2798    1610662   \n",
       "7988     1   7989    1711338   \n",
       "13451    2  13452  201929702   \n",
       "8918     1   8919    1904255   \n",
       "\n",
       "                                                  contxt        diag  \\\n",
       "13224  反复咳嗽咳痰，活动后气促10余年，加重1周。 望之有神、表情正常，面色荣润，形体适中；行动自...   支气管扩张症伴感染   \n",
       "2797   右肺癌伽马刀治疗后一年半余，肢体活动障碍三月余 患者面色憔悴，色稍黑；咳喘，无喉中水鸡声；胸...          肺癌   \n",
       "7988   咳嗽咳痰两周，恶寒发热四天。  :该患者以咳嗽、咯痰、发热为主诉，结合患者舌脉，舌质红，苔黄...        肺部感染   \n",
       "13451  反复咳嗽咳痰、气促20年，再发加重3天 望之少神、面色少华，形体适中；行动自如、精神不振、发...  慢性阻塞性肺病伴感染   \n",
       "8918   间断右侧胸痛1月。 患者右侧胸痛，与呼吸运动相关，偶有咳嗽，仅少量白痰，饮食及睡眠正常，二便...        肺部感染   \n",
       "\n",
       "       diag_code tcm_syn  tcms_code  tan  feng  han  ren  qixu  yinxu  fei  \\\n",
       "13224          6    痰浊阻肺          9    1     0    0    0     0      0    1   \n",
       "2797           0     肺阴虚          2    0     0    0    0     0      1    1   \n",
       "7988           1    痰热壅肺          8    1     0    0    1     0      0    1   \n",
       "13451          5    痰浊阻肺          9    1     0    0    0     0      0    1   \n",
       "8918           1    痰热壅肺          8    1     0    0    1     0      0    1   \n",
       "\n",
       "       pi  shen  \n",
       "13224   0     0  \n",
       "2797    0     0  \n",
       "7988    0     0  \n",
       "13451   0     0  \n",
       "8918    0     0  "
      ]
     },
     "execution_count": 37,
     "metadata": {},
     "output_type": "execute_result"
    }
   ],
   "source": [
    "data0=pd.read_excel(\"./data/dataset/dataset0.xls\")\n",
    "data1=data0.sample(frac=1.0)\n",
    "y=data1.tcms_code\n",
    "outm=data1.iloc[:,8:]\n",
    "context=data1.contxt\n",
    "diag=data1.diag\n",
    "data1.head()"
   ]
  },
  {
   "cell_type": "code",
   "execution_count": 38,
   "metadata": {},
   "outputs": [
    {
     "name": "stdout",
     "output_type": "stream",
     "text": [
      "(14075, 17)\n",
      "(14075,)\n",
      "(14075, 9)\n",
      "(14075,)\n",
      "(14075,)\n",
      "{0, 1, 2, 3, 4, 5, 6, 7}\n"
     ]
    }
   ],
   "source": [
    "print(data1.shape)\n",
    "print(y.shape)\n",
    "print(outm.shape)\n",
    "print(context.shape)\n",
    "print(diag.shape)\n",
    "print(set(data1.diag_code))"
   ]
  },
  {
   "cell_type": "code",
   "execution_count": 39,
   "metadata": {},
   "outputs": [
    {
     "data": {
      "text/html": [
       "<div>\n",
       "<style scoped>\n",
       "    .dataframe tbody tr th:only-of-type {\n",
       "        vertical-align: middle;\n",
       "    }\n",
       "\n",
       "    .dataframe tbody tr th {\n",
       "        vertical-align: top;\n",
       "    }\n",
       "\n",
       "    .dataframe thead th {\n",
       "        text-align: right;\n",
       "    }\n",
       "</style>\n",
       "<table border=\"1\" class=\"dataframe\">\n",
       "  <thead>\n",
       "    <tr style=\"text-align: right;\">\n",
       "      <th></th>\n",
       "      <th>hid</th>\n",
       "      <th>id</th>\n",
       "      <th>pid</th>\n",
       "      <th>contxt</th>\n",
       "      <th>diag</th>\n",
       "      <th>diag_code</th>\n",
       "      <th>tcm_syn</th>\n",
       "      <th>tcms_code</th>\n",
       "      <th>tan</th>\n",
       "      <th>feng</th>\n",
       "      <th>han</th>\n",
       "      <th>ren</th>\n",
       "      <th>qixu</th>\n",
       "      <th>yinxu</th>\n",
       "      <th>fei</th>\n",
       "      <th>pi</th>\n",
       "      <th>shen</th>\n",
       "    </tr>\n",
       "  </thead>\n",
       "  <tbody>\n",
       "    <tr>\n",
       "      <th>508</th>\n",
       "      <td>1</td>\n",
       "      <td>5489</td>\n",
       "      <td>1501490</td>\n",
       "      <td>反复发作性喘息胸闷六十余年，再发一周。 神志清，稍气喘貌，喘息，胸闷，喉中哮鸣有声，咳嗽，咳...</td>\n",
       "      <td>支气管哮喘</td>\n",
       "      <td>7</td>\n",
       "      <td>寒哮</td>\n",
       "      <td>5</td>\n",
       "      <td>0</td>\n",
       "      <td>0</td>\n",
       "      <td>1</td>\n",
       "      <td>0</td>\n",
       "      <td>0</td>\n",
       "      <td>0</td>\n",
       "      <td>1</td>\n",
       "      <td>0</td>\n",
       "      <td>0</td>\n",
       "    </tr>\n",
       "    <tr>\n",
       "      <th>83</th>\n",
       "      <td>1</td>\n",
       "      <td>231</td>\n",
       "      <td>1505037</td>\n",
       "      <td>右肺癌末次化疗后2月，脑转移放疗后1月。 患者面色稍黑；无咳喘，无喉中水鸡声；胸廓呈正常；言...</td>\n",
       "      <td>肺癌</td>\n",
       "      <td>0</td>\n",
       "      <td>肺脾气虚</td>\n",
       "      <td>0</td>\n",
       "      <td>0</td>\n",
       "      <td>0</td>\n",
       "      <td>0</td>\n",
       "      <td>0</td>\n",
       "      <td>1</td>\n",
       "      <td>0</td>\n",
       "      <td>1</td>\n",
       "      <td>1</td>\n",
       "      <td>0</td>\n",
       "    </tr>\n",
       "    <tr>\n",
       "      <th>290</th>\n",
       "      <td>2</td>\n",
       "      <td>2263</td>\n",
       "      <td>201931508</td>\n",
       "      <td>间断咳嗽10余年，加重1周。 望之少神、表情正常，面色荣润，形体适中；行动自如、精神良好、发...</td>\n",
       "      <td>慢性支气管炎</td>\n",
       "      <td>4</td>\n",
       "      <td>肺阴虚</td>\n",
       "      <td>2</td>\n",
       "      <td>0</td>\n",
       "      <td>0</td>\n",
       "      <td>0</td>\n",
       "      <td>0</td>\n",
       "      <td>0</td>\n",
       "      <td>1</td>\n",
       "      <td>1</td>\n",
       "      <td>0</td>\n",
       "      <td>0</td>\n",
       "    </tr>\n",
       "    <tr>\n",
       "      <th>363</th>\n",
       "      <td>1</td>\n",
       "      <td>3294</td>\n",
       "      <td>1609934</td>\n",
       "      <td>反复咳嗽咳痰近一年，加重伴胸闷气喘两月余。 阵发性咳嗽，咳少量白粘痰，尚易咯出，胸闷气喘，活...</td>\n",
       "      <td>间质性肺炎伴感染</td>\n",
       "      <td>3</td>\n",
       "      <td>风寒袭肺</td>\n",
       "      <td>3</td>\n",
       "      <td>0</td>\n",
       "      <td>1</td>\n",
       "      <td>1</td>\n",
       "      <td>0</td>\n",
       "      <td>0</td>\n",
       "      <td>0</td>\n",
       "      <td>1</td>\n",
       "      <td>0</td>\n",
       "      <td>0</td>\n",
       "    </tr>\n",
       "    <tr>\n",
       "      <th>990</th>\n",
       "      <td>2</td>\n",
       "      <td>12982</td>\n",
       "      <td>201924257</td>\n",
       "      <td>反复咳嗽、咳痰50余年，再发加重1周。 望之有神、表情正常，面色荣润，形体适中；行动自如、精...</td>\n",
       "      <td>支气管扩张症伴感染</td>\n",
       "      <td>6</td>\n",
       "      <td>痰浊阻肺</td>\n",
       "      <td>9</td>\n",
       "      <td>1</td>\n",
       "      <td>0</td>\n",
       "      <td>0</td>\n",
       "      <td>0</td>\n",
       "      <td>0</td>\n",
       "      <td>0</td>\n",
       "      <td>1</td>\n",
       "      <td>0</td>\n",
       "      <td>0</td>\n",
       "    </tr>\n",
       "  </tbody>\n",
       "</table>\n",
       "</div>"
      ],
      "text/plain": [
       "     hid     id        pid                                             contxt  \\\n",
       "508    1   5489    1501490  反复发作性喘息胸闷六十余年，再发一周。 神志清，稍气喘貌，喘息，胸闷，喉中哮鸣有声，咳嗽，咳...   \n",
       "83     1    231    1505037  右肺癌末次化疗后2月，脑转移放疗后1月。 患者面色稍黑；无咳喘，无喉中水鸡声；胸廓呈正常；言...   \n",
       "290    2   2263  201931508  间断咳嗽10余年，加重1周。 望之少神、表情正常，面色荣润，形体适中；行动自如、精神良好、发...   \n",
       "363    1   3294    1609934  反复咳嗽咳痰近一年，加重伴胸闷气喘两月余。 阵发性咳嗽，咳少量白粘痰，尚易咯出，胸闷气喘，活...   \n",
       "990    2  12982  201924257  反复咳嗽、咳痰50余年，再发加重1周。 望之有神、表情正常，面色荣润，形体适中；行动自如、精...   \n",
       "\n",
       "          diag  diag_code tcm_syn  tcms_code  tan  feng  han  ren  qixu  \\\n",
       "508      支气管哮喘          7      寒哮          5    0     0    1    0     0   \n",
       "83          肺癌          0    肺脾气虚          0    0     0    0    0     1   \n",
       "290     慢性支气管炎          4     肺阴虚          2    0     0    0    0     0   \n",
       "363   间质性肺炎伴感染          3    风寒袭肺          3    0     1    1    0     0   \n",
       "990  支气管扩张症伴感染          6    痰浊阻肺          9    1     0    0    0     0   \n",
       "\n",
       "     yinxu  fei  pi  shen  \n",
       "508      0    1   0     0  \n",
       "83       0    1   1     0  \n",
       "290      1    1   0     0  \n",
       "363      0    1   0     0  \n",
       "990      0    1   0     0  "
      ]
     },
     "execution_count": 39,
     "metadata": {},
     "output_type": "execute_result"
    }
   ],
   "source": [
    "data0_ex=pd.read_excel(\"./data/dataset/external0.xls\")\n",
    "data_ex=data0_ex.sample(frac=1.0)\n",
    "y_ex=data_ex.tcms_code\n",
    "outm_ex=data_ex.iloc[:,8:]\n",
    "context_ex=data_ex.contxt\n",
    "diag_ex=data_ex.diag\n",
    "data_ex.head()"
   ]
  },
  {
   "cell_type": "code",
   "execution_count": 40,
   "metadata": {},
   "outputs": [
    {
     "name": "stdout",
     "output_type": "stream",
     "text": [
      "(1000, 17)\n",
      "(1000,)\n",
      "(1000, 9)\n",
      "(1000,)\n",
      "(1000,)\n",
      "{0, 1, 2, 3, 4, 5, 6, 7}\n"
     ]
    }
   ],
   "source": [
    "print(data_ex.shape)\n",
    "print(y_ex.shape)\n",
    "print(outm_ex.shape)\n",
    "print(context_ex.shape)\n",
    "print(diag_ex.shape)\n",
    "print(set(data_ex.diag_code))"
   ]
  },
  {
   "cell_type": "code",
   "execution_count": 41,
   "metadata": {
    "scrolled": false
   },
   "outputs": [],
   "source": [
    "dictfile=\"./data/tcm_all_dict_2.txt\"\n",
    "stopwords=\"./data/stopwords.txt\"\n",
    "jieba.load_userdict(dictfile)   "
   ]
  },
  {
   "cell_type": "code",
   "execution_count": 42,
   "metadata": {},
   "outputs": [],
   "source": [
    "def file2doc1(infile,dictfile):    \n",
    "    jieba.load_userdict(dictfile)                     \n",
    "    doc = [w for x in codecs.open(file_name, 'r', 'utf-8').readlines() for w in jieba.cut(x.strip())]\n",
    "    return doc"
   ]
  },
  {
   "cell_type": "code",
   "execution_count": 43,
   "metadata": {},
   "outputs": [],
   "source": [
    "def load_stopword(filename):  \n",
    "    stopwords = [line.strip() for line in open(filename, 'r', encoding='utf-8').readlines()]  \n",
    "    return stopwords"
   ]
  },
  {
   "cell_type": "code",
   "execution_count": 44,
   "metadata": {},
   "outputs": [],
   "source": [
    "def extract_chn(data):\n",
    "    pattern=\"[\\u4e00-\\u9fa5]\"\n",
    "    regex=re.compile(pattern)\n",
    "    res=regex.findall(data)\n",
    "    #return \"\".join(res)\n",
    "    return res"
   ]
  },
  {
   "cell_type": "code",
   "execution_count": 45,
   "metadata": {},
   "outputs": [],
   "source": [
    "def drop_alnum(astr):\n",
    "    drop_str=\"0123456789abcdefghijklmnopqrstuvwxyzABCDEFGHIJKLMNOPQRSTUVWXYZ\"\n",
    "    str1=astr\n",
    "    for ch in str1:\n",
    "        if ch in drop_str:\n",
    "            str1=str1.replace(ch,\"\")\n",
    "    return str1"
   ]
  },
  {
   "cell_type": "code",
   "execution_count": 46,
   "metadata": {},
   "outputs": [],
   "source": [
    "def get_corpus(context):\n",
    "    corpus=[]    \n",
    "    \n",
    "    for sent in context:\n",
    "        sent=sent+\"；\"\n",
    "        sent=del_neg_txt1(sent) #drop negative words  \n",
    "        sent=del_neg_txt2(sent)\n",
    "        sent.strip(\"；\")\n",
    "        strlist=list(jieba.cut(sent))\n",
    "        strlist=sorted(set(strlist),key=strlist.index)\n",
    "        corpus.append(strlist)\n",
    "        \n",
    "    return corpus"
   ]
  },
  {
   "cell_type": "code",
   "execution_count": 47,
   "metadata": {},
   "outputs": [],
   "source": [
    "def get_corpus1(doc,stopwords):    \n",
    "    stopword_list=load_stopword(stopwords)   \n",
    "    #r1 = u'[a-zA-Z0-9’!\"#$%&\\'()*+,-./:;<=>?@，。?★、…【】《》？“”‘’！[\\\\]^_`{|}~]+'   #drop letters, numbers and sepcial chars\n",
    "    out=[]\n",
    "    \n",
    "    for sent in doc:        \n",
    "        doc_stopword=[y for y in sent if y not in stopword_list] #drop stopword\n",
    "        res=[]\n",
    "        for y in doc_stopword:\n",
    "            #res.append(re.sub(r1,\"\",y))   #drop letters, numbers and sepcial chars\n",
    "            y=drop_alnum(y)\n",
    "            res.append(y)  #drop letters, numbers and sepcial chars\n",
    "        out.append(res)\n",
    "    return out"
   ]
  },
  {
   "cell_type": "code",
   "execution_count": 48,
   "metadata": {},
   "outputs": [],
   "source": [
    "def get_corpus2(corpus,diagnosis):        \n",
    "    out=list()  \n",
    "    \n",
    "    LEN=len(corpus)\n",
    "    diaglist=list(diagnosis)\n",
    "    for i in range(LEN):\n",
    "        inlist=list()\n",
    "        inlist.extend(corpus[i])        \n",
    "        inlist.append(diaglist[i])\n",
    "        out.append(inlist)        \n",
    "    return out"
   ]
  },
  {
   "cell_type": "code",
   "execution_count": 49,
   "metadata": {},
   "outputs": [],
   "source": [
    "def del_neg_txt1(contxt):\n",
    "    txt=contxt\n",
    "    endtxt=\"\"\n",
    "    txttmp=\"\"\n",
    "    item0=\"无\"   \n",
    "    item1=[\"；\",\"，\",\"舌\"] \n",
    "    #item1=[\"；\",\"，\"]\n",
    "\n",
    "    for i in range(len(contxt)):\n",
    "        if txt.find(item0)>0:\n",
    "            start=txt.find(item0)\n",
    "            subtxt1=txt[:start]\n",
    "            txttmp+=subtxt1\n",
    "            #print(txttmp+\"\\n\")\n",
    "            subtxt=txt[start:]\n",
    "            #print(subtxt+\"\\n\")\n",
    "    \n",
    "            for sign in item1:        \n",
    "                if subtxt.find(sign)>0:        \n",
    "                    end=subtxt.find(sign)        \n",
    "                    break \n",
    "            txt=subtxt[end:]\n",
    "            #print(txt+\"\\n\")\n",
    "        endtxt=txt\n",
    "        \n",
    "    txttmp+=endtxt\n",
    "    #print(txttmp+\"\\n\")\n",
    "    return txttmp"
   ]
  },
  {
   "cell_type": "code",
   "execution_count": 50,
   "metadata": {
    "scrolled": true
   },
   "outputs": [],
   "source": [
    "def del_neg_txt2(contxt):\n",
    "    txt=contxt\n",
    "    endtxt=\"\"\n",
    "    txttmp=\"\"\n",
    "    item0=\"未\"\n",
    "    item1=[\"；\",\"，\",\"有\"] \n",
    "    #item1=[\"；\",\"，\"]\n",
    "\n",
    "    for i in range(len(contxt)):\n",
    "        if txt.find(item0)>0:\n",
    "            start=txt.find(item0)\n",
    "            subtxt1=txt[:start]\n",
    "            txttmp+=subtxt1\n",
    "            #print(txttmp+\"\\n\")\n",
    "            subtxt=txt[start:]\n",
    "            #print(subtxt+\"\\n\")\n",
    "    \n",
    "            for sign in item1:        \n",
    "                if subtxt.find(sign)>0:        \n",
    "                    end=subtxt.find(sign)        \n",
    "                    break \n",
    "            txt=subtxt[end:]\n",
    "            #print(txt+\"\\n\")\n",
    "        endtxt=txt\n",
    "        \n",
    "    txttmp+=endtxt\n",
    "    #print(txttmp+\"\\n\")\n",
    "    return txttmp"
   ]
  },
  {
   "cell_type": "code",
   "execution_count": 51,
   "metadata": {},
   "outputs": [],
   "source": [
    "atxt=get_corpus(context)\n",
    "#print(atxt)\n",
    "cps=get_corpus1(atxt, stopwords)\n",
    "#print(len(cps))\n",
    "cps1=get_corpus2(cps,diag)\n",
    "#i=0\n",
    "#for sent in cps1:\n",
    "    #print(i, sent)\n",
    "    #i+=1  "
   ]
  },
  {
   "cell_type": "code",
   "execution_count": 52,
   "metadata": {
    "scrolled": true
   },
   "outputs": [
    {
     "name": "stdout",
     "output_type": "stream",
     "text": [
      "14075\n"
     ]
    }
   ],
   "source": [
    "print(len(cps))"
   ]
  },
  {
   "cell_type": "code",
   "execution_count": 56,
   "metadata": {},
   "outputs": [],
   "source": [
    "atxt_ex=get_corpus(context_ex)\n",
    "#print(atxt)\n",
    "cps_ex=get_corpus1(atxt_ex, stopwords)\n",
    "#print(len(cps))\n",
    "cps1_ex=get_corpus2(cps,diag)"
   ]
  },
  {
   "cell_type": "code",
   "execution_count": 57,
   "metadata": {},
   "outputs": [
    {
     "name": "stdout",
     "output_type": "stream",
     "text": [
      "1000\n"
     ]
    }
   ],
   "source": [
    "print(len(cps_ex))"
   ]
  },
  {
   "cell_type": "code",
   "execution_count": 58,
   "metadata": {},
   "outputs": [],
   "source": [
    "import gensim\n",
    "import codecs\n",
    "from gensim.test.utils import common_texts\n",
    "from gensim.models.doc2vec import Doc2Vec, TaggedDocument"
   ]
  },
  {
   "cell_type": "code",
   "execution_count": 59,
   "metadata": {
    "scrolled": false
   },
   "outputs": [
    {
     "name": "stderr",
     "output_type": "stream",
     "text": [
      "d:\\code\\anaconda3\\lib\\site-packages\\smart_open\\smart_open_lib.py:398: UserWarning: This function is deprecated, use smart_open.open instead. See the migration notes for details: https://github.com/RaRe-Technologies/smart_open/blob/master/README.rst#migrating-to-the-new-open-function\n",
      "  'See the migration notes for details: %s' % _MIGRATION_NOTES_URL\n"
     ]
    },
    {
     "name": "stdout",
     "output_type": "stream",
     "text": [
      "elapse: 0.063813 minutes\n"
     ]
    },
    {
     "name": "stderr",
     "output_type": "stream",
     "text": [
      "d:\\code\\anaconda3\\lib\\site-packages\\gensim\\models\\base_any2vec.py:743: UserWarning: C extension not loaded, training will be slow. Install a C compiler and reinstall gensim for fast training.\n",
      "  \"C extension not loaded, training will be slow. \"\n"
     ]
    }
   ],
   "source": [
    "import time\n",
    "\n",
    "st1=time.time()\n",
    "#model_path=(\"./model/mode821.d2v\")\n",
    "#documents=[TaggedDocument(doc,[i]) for i, doc in enumerate(cps)] #tagged corpus\n",
    "#model=Doc2Vec(documents,vector_size=512,window=5,min_count=5,workers=8)\n",
    "#model.save(model_path)\n",
    "#model_d2v=Doc2Vec.load(model_path)\n",
    "\n",
    "model_path=(\"./model_d2v/zhiwiki_news.doc2vec\")\n",
    "model_d2v=Doc2Vec.load(model_path)\n",
    "\n",
    "st2=time.time()\n",
    "print(\"elapse: %f minutes\"%((st2-st1)/60.0))"
   ]
  },
  {
   "cell_type": "code",
   "execution_count": 60,
   "metadata": {
    "scrolled": false
   },
   "outputs": [],
   "source": [
    "import time"
   ]
  },
  {
   "cell_type": "code",
   "execution_count": 61,
   "metadata": {},
   "outputs": [],
   "source": [
    "def get_vectors(corpus,model_d2v):\n",
    "    vectors=[]\n",
    "    LEN=len(corpus)   \n",
    "    \n",
    "    step=100\n",
    "    steplen=int(LEN/step)+1\n",
    "    print(\"steplen = %s \"%(steplen))\n",
    "    \n",
    "    i=0    \n",
    "    st1=time.time()\n",
    "    \n",
    "    for sent in corpus:\n",
    "        if i%steplen==0:\n",
    "            st2=time.time()            \n",
    "            print(\"complete: %s / %s, elapse: %.3f minutes.\"%(i/steplen,step,(st2-st1)/60.0))           \n",
    "            \n",
    "        vectors.append(model_d2v.infer_vector(sent))\n",
    "        i+=1        \n",
    "        \n",
    "    return vectors"
   ]
  },
  {
   "cell_type": "code",
   "execution_count": 62,
   "metadata": {
    "collapsed": true
   },
   "outputs": [
    {
     "name": "stdout",
     "output_type": "stream",
     "text": [
      "steplen = 11 \n",
      "complete: 0.0 / 100, elapse: 0.000 minutes.\n",
      "complete: 1.0 / 100, elapse: 0.255 minutes.\n",
      "complete: 2.0 / 100, elapse: 0.491 minutes.\n",
      "complete: 3.0 / 100, elapse: 0.778 minutes.\n",
      "complete: 4.0 / 100, elapse: 0.991 minutes.\n",
      "complete: 5.0 / 100, elapse: 1.282 minutes.\n",
      "complete: 6.0 / 100, elapse: 1.519 minutes.\n",
      "complete: 7.0 / 100, elapse: 1.741 minutes.\n",
      "complete: 8.0 / 100, elapse: 1.930 minutes.\n",
      "complete: 9.0 / 100, elapse: 2.130 minutes.\n",
      "complete: 10.0 / 100, elapse: 2.408 minutes.\n",
      "complete: 11.0 / 100, elapse: 2.638 minutes.\n",
      "complete: 12.0 / 100, elapse: 2.885 minutes.\n",
      "complete: 13.0 / 100, elapse: 3.083 minutes.\n",
      "complete: 14.0 / 100, elapse: 3.258 minutes.\n",
      "complete: 15.0 / 100, elapse: 3.446 minutes.\n",
      "complete: 16.0 / 100, elapse: 3.650 minutes.\n",
      "complete: 17.0 / 100, elapse: 3.874 minutes.\n",
      "complete: 18.0 / 100, elapse: 4.103 minutes.\n",
      "complete: 19.0 / 100, elapse: 4.311 minutes.\n",
      "complete: 20.0 / 100, elapse: 4.475 minutes.\n",
      "complete: 21.0 / 100, elapse: 4.665 minutes.\n",
      "complete: 22.0 / 100, elapse: 4.846 minutes.\n",
      "complete: 23.0 / 100, elapse: 5.095 minutes.\n",
      "complete: 24.0 / 100, elapse: 5.305 minutes.\n",
      "complete: 25.0 / 100, elapse: 5.531 minutes.\n",
      "complete: 26.0 / 100, elapse: 5.759 minutes.\n",
      "complete: 27.0 / 100, elapse: 5.969 minutes.\n",
      "complete: 28.0 / 100, elapse: 6.163 minutes.\n",
      "complete: 29.0 / 100, elapse: 6.447 minutes.\n",
      "complete: 30.0 / 100, elapse: 6.698 minutes.\n",
      "complete: 31.0 / 100, elapse: 6.909 minutes.\n",
      "complete: 32.0 / 100, elapse: 7.145 minutes.\n",
      "complete: 33.0 / 100, elapse: 7.310 minutes.\n",
      "complete: 34.0 / 100, elapse: 7.563 minutes.\n",
      "complete: 35.0 / 100, elapse: 7.735 minutes.\n",
      "complete: 36.0 / 100, elapse: 7.933 minutes.\n",
      "complete: 37.0 / 100, elapse: 8.094 minutes.\n",
      "complete: 38.0 / 100, elapse: 8.318 minutes.\n",
      "complete: 39.0 / 100, elapse: 8.506 minutes.\n",
      "complete: 40.0 / 100, elapse: 8.688 minutes.\n",
      "complete: 41.0 / 100, elapse: 8.899 minutes.\n",
      "complete: 42.0 / 100, elapse: 9.158 minutes.\n",
      "complete: 43.0 / 100, elapse: 9.344 minutes.\n",
      "complete: 44.0 / 100, elapse: 9.534 minutes.\n",
      "complete: 45.0 / 100, elapse: 9.744 minutes.\n",
      "complete: 46.0 / 100, elapse: 9.994 minutes.\n",
      "complete: 47.0 / 100, elapse: 10.204 minutes.\n",
      "complete: 48.0 / 100, elapse: 10.426 minutes.\n",
      "complete: 49.0 / 100, elapse: 10.699 minutes.\n",
      "complete: 50.0 / 100, elapse: 10.972 minutes.\n",
      "complete: 51.0 / 100, elapse: 11.192 minutes.\n",
      "complete: 52.0 / 100, elapse: 11.382 minutes.\n",
      "complete: 53.0 / 100, elapse: 11.594 minutes.\n",
      "complete: 54.0 / 100, elapse: 11.858 minutes.\n",
      "complete: 55.0 / 100, elapse: 12.039 minutes.\n",
      "complete: 56.0 / 100, elapse: 12.247 minutes.\n",
      "complete: 57.0 / 100, elapse: 12.462 minutes.\n",
      "complete: 58.0 / 100, elapse: 12.704 minutes.\n",
      "complete: 59.0 / 100, elapse: 12.909 minutes.\n",
      "complete: 60.0 / 100, elapse: 13.141 minutes.\n",
      "complete: 61.0 / 100, elapse: 13.327 minutes.\n",
      "complete: 62.0 / 100, elapse: 13.602 minutes.\n",
      "complete: 63.0 / 100, elapse: 13.831 minutes.\n",
      "complete: 64.0 / 100, elapse: 14.054 minutes.\n",
      "complete: 65.0 / 100, elapse: 14.220 minutes.\n",
      "complete: 66.0 / 100, elapse: 14.430 minutes.\n",
      "complete: 67.0 / 100, elapse: 14.628 minutes.\n",
      "complete: 68.0 / 100, elapse: 14.831 minutes.\n",
      "complete: 69.0 / 100, elapse: 15.074 minutes.\n",
      "complete: 70.0 / 100, elapse: 15.269 minutes.\n",
      "complete: 71.0 / 100, elapse: 15.533 minutes.\n",
      "complete: 72.0 / 100, elapse: 15.753 minutes.\n",
      "complete: 73.0 / 100, elapse: 15.950 minutes.\n",
      "complete: 74.0 / 100, elapse: 16.123 minutes.\n",
      "complete: 75.0 / 100, elapse: 16.308 minutes.\n",
      "complete: 76.0 / 100, elapse: 16.531 minutes.\n",
      "complete: 77.0 / 100, elapse: 16.747 minutes.\n",
      "complete: 78.0 / 100, elapse: 16.999 minutes.\n",
      "complete: 79.0 / 100, elapse: 17.259 minutes.\n",
      "complete: 80.0 / 100, elapse: 17.472 minutes.\n",
      "complete: 81.0 / 100, elapse: 17.690 minutes.\n",
      "complete: 82.0 / 100, elapse: 17.906 minutes.\n",
      "complete: 83.0 / 100, elapse: 18.111 minutes.\n",
      "complete: 84.0 / 100, elapse: 18.356 minutes.\n",
      "complete: 85.0 / 100, elapse: 18.605 minutes.\n",
      "complete: 86.0 / 100, elapse: 18.809 minutes.\n",
      "complete: 87.0 / 100, elapse: 19.020 minutes.\n",
      "complete: 88.0 / 100, elapse: 19.231 minutes.\n",
      "complete: 89.0 / 100, elapse: 19.471 minutes.\n",
      "complete: 90.0 / 100, elapse: 19.690 minutes.\n"
     ]
    }
   ],
   "source": [
    "vec_ex_d2v=get_vectors(cps_ex,model_d2v)"
   ]
  },
  {
   "cell_type": "code",
   "execution_count": 64,
   "metadata": {},
   "outputs": [],
   "source": [
    "#x_ex_df=pd.DataFrame(vec_ex_d2v)\n",
    "#y_ex_df=pd.DataFrame(y_ex)\n",
    "#outm_ex_df=pd.DataFrame(outm_ex)\n",
    "#x_ex_df.to_excel(\"./data/dataset/x_ex_vec_d2v.xls\", header=True, index=True, index_label =\"nid\", encoding=\"utf-8\")    \n",
    "#y_ex_df.to_excel(\"./data/dataset/y_ex_vec_d2v.xls\", header=True, index=True,  index_label =\"nid\", encoding=\"utf-8\")   \n",
    "#outm_ex_df.to_excel(\"./data/dataset/outm_ex_vec_d2v.xls\", header=True, index=True,  index_label =\"nid\", encoding=\"utf-8\")    "
   ]
  },
  {
   "cell_type": "code",
   "execution_count": 66,
   "metadata": {},
   "outputs": [],
   "source": [
    "#x_ex1=pd.read_excel(\"./data/dataset/x_ex_vec_d2v.xls\")\n",
    "#y_ex1=pd.read_excel(\"./data/dataset/y_ex_vec_d2v.xls\")\n",
    "#outm_ex1=pd.read_excel(\"./data/dataset/outm_ex_vec_d2v.xls\")"
   ]
  },
  {
   "cell_type": "code",
   "execution_count": 70,
   "metadata": {},
   "outputs": [],
   "source": [
    "#x_ex1.head()"
   ]
  },
  {
   "cell_type": "code",
   "execution_count": 71,
   "metadata": {
    "scrolled": true
   },
   "outputs": [
    {
     "name": "stdout",
     "output_type": "stream",
     "text": [
      "steplen = 141 \n",
      "complete: 0.0 / 100, elapse: 0.000 minutes.\n",
      "complete: 1.0 / 100, elapse: 2.730 minutes.\n",
      "complete: 2.0 / 100, elapse: 5.553 minutes.\n",
      "complete: 3.0 / 100, elapse: 8.206 minutes.\n",
      "complete: 4.0 / 100, elapse: 10.750 minutes.\n",
      "complete: 5.0 / 100, elapse: 13.474 minutes.\n",
      "complete: 6.0 / 100, elapse: 16.302 minutes.\n",
      "complete: 7.0 / 100, elapse: 19.013 minutes.\n",
      "complete: 8.0 / 100, elapse: 21.691 minutes.\n",
      "complete: 9.0 / 100, elapse: 24.339 minutes.\n",
      "complete: 10.0 / 100, elapse: 26.866 minutes.\n",
      "complete: 11.0 / 100, elapse: 29.547 minutes.\n",
      "complete: 12.0 / 100, elapse: 32.235 minutes.\n",
      "complete: 13.0 / 100, elapse: 35.001 minutes.\n",
      "complete: 14.0 / 100, elapse: 37.425 minutes.\n",
      "complete: 15.0 / 100, elapse: 39.876 minutes.\n",
      "complete: 16.0 / 100, elapse: 42.526 minutes.\n",
      "complete: 17.0 / 100, elapse: 45.148 minutes.\n",
      "complete: 18.0 / 100, elapse: 47.737 minutes.\n",
      "complete: 19.0 / 100, elapse: 50.286 minutes.\n",
      "complete: 20.0 / 100, elapse: 52.935 minutes.\n",
      "complete: 21.0 / 100, elapse: 55.606 minutes.\n",
      "complete: 22.0 / 100, elapse: 58.409 minutes.\n",
      "complete: 23.0 / 100, elapse: 61.287 minutes.\n",
      "complete: 24.0 / 100, elapse: 64.197 minutes.\n",
      "complete: 25.0 / 100, elapse: 66.941 minutes.\n",
      "complete: 26.0 / 100, elapse: 69.727 minutes.\n",
      "complete: 27.0 / 100, elapse: 72.479 minutes.\n",
      "complete: 28.0 / 100, elapse: 75.196 minutes.\n",
      "complete: 29.0 / 100, elapse: 77.844 minutes.\n",
      "complete: 30.0 / 100, elapse: 80.522 minutes.\n",
      "complete: 31.0 / 100, elapse: 83.331 minutes.\n",
      "complete: 32.0 / 100, elapse: 86.057 minutes.\n",
      "complete: 33.0 / 100, elapse: 88.872 minutes.\n",
      "complete: 34.0 / 100, elapse: 91.843 minutes.\n",
      "complete: 35.0 / 100, elapse: 94.489 minutes.\n",
      "complete: 36.0 / 100, elapse: 97.369 minutes.\n",
      "complete: 37.0 / 100, elapse: 100.303 minutes.\n",
      "complete: 38.0 / 100, elapse: 102.661 minutes.\n",
      "complete: 39.0 / 100, elapse: 105.281 minutes.\n",
      "complete: 40.0 / 100, elapse: 108.011 minutes.\n",
      "complete: 41.0 / 100, elapse: 110.674 minutes.\n",
      "complete: 42.0 / 100, elapse: 113.249 minutes.\n",
      "complete: 43.0 / 100, elapse: 115.952 minutes.\n",
      "complete: 44.0 / 100, elapse: 118.617 minutes.\n",
      "complete: 45.0 / 100, elapse: 121.170 minutes.\n",
      "complete: 46.0 / 100, elapse: 123.993 minutes.\n",
      "complete: 47.0 / 100, elapse: 126.511 minutes.\n",
      "complete: 48.0 / 100, elapse: 129.113 minutes.\n",
      "complete: 49.0 / 100, elapse: 131.863 minutes.\n",
      "complete: 50.0 / 100, elapse: 134.534 minutes.\n",
      "complete: 51.0 / 100, elapse: 137.111 minutes.\n",
      "complete: 52.0 / 100, elapse: 139.750 minutes.\n",
      "complete: 53.0 / 100, elapse: 142.484 minutes.\n",
      "complete: 54.0 / 100, elapse: 145.098 minutes.\n",
      "complete: 55.0 / 100, elapse: 147.767 minutes.\n",
      "complete: 56.0 / 100, elapse: 150.363 minutes.\n",
      "complete: 57.0 / 100, elapse: 152.978 minutes.\n",
      "complete: 58.0 / 100, elapse: 155.662 minutes.\n",
      "complete: 59.0 / 100, elapse: 158.323 minutes.\n",
      "complete: 60.0 / 100, elapse: 160.781 minutes.\n",
      "complete: 61.0 / 100, elapse: 163.142 minutes.\n",
      "complete: 62.0 / 100, elapse: 165.829 minutes.\n",
      "complete: 63.0 / 100, elapse: 168.393 minutes.\n",
      "complete: 64.0 / 100, elapse: 171.139 minutes.\n",
      "complete: 65.0 / 100, elapse: 173.482 minutes.\n",
      "complete: 66.0 / 100, elapse: 176.012 minutes.\n",
      "complete: 67.0 / 100, elapse: 178.475 minutes.\n",
      "complete: 68.0 / 100, elapse: 181.169 minutes.\n",
      "complete: 69.0 / 100, elapse: 183.748 minutes.\n",
      "complete: 70.0 / 100, elapse: 186.379 minutes.\n",
      "complete: 71.0 / 100, elapse: 189.130 minutes.\n",
      "complete: 72.0 / 100, elapse: 191.936 minutes.\n",
      "complete: 73.0 / 100, elapse: 194.464 minutes.\n",
      "complete: 74.0 / 100, elapse: 196.951 minutes.\n",
      "complete: 75.0 / 100, elapse: 199.750 minutes.\n",
      "complete: 76.0 / 100, elapse: 202.411 minutes.\n",
      "complete: 77.0 / 100, elapse: 205.343 minutes.\n",
      "complete: 78.0 / 100, elapse: 207.876 minutes.\n",
      "complete: 79.0 / 100, elapse: 210.530 minutes.\n",
      "complete: 80.0 / 100, elapse: 213.225 minutes.\n",
      "complete: 81.0 / 100, elapse: 215.970 minutes.\n",
      "complete: 82.0 / 100, elapse: 218.607 minutes.\n",
      "complete: 83.0 / 100, elapse: 221.235 minutes.\n",
      "complete: 84.0 / 100, elapse: 223.915 minutes.\n",
      "complete: 85.0 / 100, elapse: 226.613 minutes.\n",
      "complete: 86.0 / 100, elapse: 229.375 minutes.\n",
      "complete: 87.0 / 100, elapse: 232.112 minutes.\n",
      "complete: 88.0 / 100, elapse: 235.002 minutes.\n",
      "complete: 89.0 / 100, elapse: 237.664 minutes.\n",
      "complete: 90.0 / 100, elapse: 240.338 minutes.\n",
      "complete: 91.0 / 100, elapse: 243.160 minutes.\n",
      "complete: 92.0 / 100, elapse: 245.853 minutes.\n",
      "complete: 93.0 / 100, elapse: 248.573 minutes.\n",
      "complete: 94.0 / 100, elapse: 251.251 minutes.\n",
      "complete: 95.0 / 100, elapse: 254.240 minutes.\n",
      "complete: 96.0 / 100, elapse: 256.824 minutes.\n",
      "complete: 97.0 / 100, elapse: 259.413 minutes.\n",
      "complete: 98.0 / 100, elapse: 262.037 minutes.\n",
      "complete: 99.0 / 100, elapse: 264.870 minutes.\n"
     ]
    }
   ],
   "source": [
    "vec_d2v=get_vectors(cps,model_d2v)"
   ]
  },
  {
   "cell_type": "code",
   "execution_count": 84,
   "metadata": {},
   "outputs": [],
   "source": [
    "x_df=pd.DataFrame(vec_d2v)\n",
    "y_df=pd.DataFrame(y)\n",
    "outm_df=pd.DataFrame(outm)\n",
    "x_df.to_excel(\"./data/dataset/x_vec_d2v.xls\", header=True, index=True, index_label =\"nid\", encoding=\"utf-8\")    \n",
    "y_df.to_excel(\"./data/dataset/y_vec_d2v.xls\", header=True, index=True,  index_label =\"nid\", encoding=\"utf-8\")   \n",
    "outm_df.to_excel(\"./data/dataset/outm_vec_d2v.xls\", header=True, index=True,  index_label =\"nid\", encoding=\"utf-8\")    "
   ]
  },
  {
   "cell_type": "code",
   "execution_count": 166,
   "metadata": {},
   "outputs": [],
   "source": [
    "x1=pd.read_excel(\"./data/dataset/x_vec_d2v.xls\")\n",
    "y1=pd.read_excel(\"./data/dataset/y_vec_d2v.xls\")\n",
    "outm1=pd.read_excel(\"./data/dataset/outm_vec_d2v.xls\")"
   ]
  },
  {
   "cell_type": "code",
   "execution_count": 121,
   "metadata": {},
   "outputs": [],
   "source": [
    "x_ex=pd.DataFrame(vec_ex_d2v)\n",
    "y_ex=pd.DataFrame(data_ex.tcms_code)\n",
    "ym_ex=pd.DataFrame(outm_ex)"
   ]
  },
  {
   "cell_type": "code",
   "execution_count": 124,
   "metadata": {},
   "outputs": [
    {
     "data": {
      "text/plain": [
       "(1000, 9)"
      ]
     },
     "execution_count": 124,
     "metadata": {},
     "output_type": "execute_result"
    }
   ],
   "source": [
    "ym_ex.shape"
   ]
  },
  {
   "cell_type": "code",
   "execution_count": 167,
   "metadata": {},
   "outputs": [
    {
     "data": {
      "text/html": [
       "<div>\n",
       "<style scoped>\n",
       "    .dataframe tbody tr th:only-of-type {\n",
       "        vertical-align: middle;\n",
       "    }\n",
       "\n",
       "    .dataframe tbody tr th {\n",
       "        vertical-align: top;\n",
       "    }\n",
       "\n",
       "    .dataframe thead th {\n",
       "        text-align: right;\n",
       "    }\n",
       "</style>\n",
       "<table border=\"1\" class=\"dataframe\">\n",
       "  <thead>\n",
       "    <tr style=\"text-align: right;\">\n",
       "      <th></th>\n",
       "      <th>nid</th>\n",
       "      <th>tcms_code</th>\n",
       "    </tr>\n",
       "  </thead>\n",
       "  <tbody>\n",
       "    <tr>\n",
       "      <th>0</th>\n",
       "      <td>0</td>\n",
       "      <td>0</td>\n",
       "    </tr>\n",
       "    <tr>\n",
       "      <th>1</th>\n",
       "      <td>1</td>\n",
       "      <td>0</td>\n",
       "    </tr>\n",
       "    <tr>\n",
       "      <th>2</th>\n",
       "      <td>2</td>\n",
       "      <td>0</td>\n",
       "    </tr>\n",
       "    <tr>\n",
       "      <th>3</th>\n",
       "      <td>3</td>\n",
       "      <td>0</td>\n",
       "    </tr>\n",
       "    <tr>\n",
       "      <th>4</th>\n",
       "      <td>4</td>\n",
       "      <td>0</td>\n",
       "    </tr>\n",
       "  </tbody>\n",
       "</table>\n",
       "</div>"
      ],
      "text/plain": [
       "   nid  tcms_code\n",
       "0    0          0\n",
       "1    1          0\n",
       "2    2          0\n",
       "3    3          0\n",
       "4    4          0"
      ]
     },
     "execution_count": 167,
     "metadata": {},
     "output_type": "execute_result"
    }
   ],
   "source": [
    "y1.head()"
   ]
  },
  {
   "cell_type": "code",
   "execution_count": 90,
   "metadata": {
    "scrolled": true
   },
   "outputs": [],
   "source": [
    "#x1=pd.read_csv(\"./data/vec_d2vpre.csv\",index_col=0)\n",
    "#x1.head()"
   ]
  },
  {
   "cell_type": "code",
   "execution_count": 155,
   "metadata": {},
   "outputs": [],
   "source": [
    "from sklearn.model_selection import train_test_split\n",
    "import sklearn.metrics as metrics\n",
    "x1=pd.DataFrame(vec_d2v)\n",
    "y1=pd.DataFrame(data1.tcms_code)\n",
    "x_train, x_test, y_train, y_test=train_test_split(xs1,ys1,test_size=0.25,random_state=0)\n",
    "dts=train_test_split(x1,y1,test_size=0.25,random_state=0)"
   ]
  },
  {
   "cell_type": "code",
   "execution_count": 156,
   "metadata": {},
   "outputs": [
    {
     "data": {
      "text/plain": [
       "(14075, 192)"
      ]
     },
     "execution_count": 156,
     "metadata": {},
     "output_type": "execute_result"
    }
   ],
   "source": [
    "x1.shape"
   ]
  },
  {
   "cell_type": "code",
   "execution_count": 93,
   "metadata": {},
   "outputs": [],
   "source": [
    "#x.to_csv(\"./data/vec_d2vpre.csv\")"
   ]
  },
  {
   "cell_type": "code",
   "execution_count": 94,
   "metadata": {},
   "outputs": [],
   "source": [
    "# multiple class output"
   ]
  },
  {
   "cell_type": "code",
   "execution_count": 157,
   "metadata": {},
   "outputs": [],
   "source": [
    "from sklearn.ensemble import RandomForestClassifier\n",
    "def test_rf(dts):\n",
    "    cls = RandomForestClassifier(n_estimators=100)\n",
    "    cls.fit(dts[0],dts[2])\n",
    "    y_predict=cls.predict(dts[1])\n",
    "    #y_predict0=cls.predict(dts[0])\n",
    "    #print(\"acc0:\",metrics.accuracy_score(y_predict0,dts[2]))\n",
    "    print(\"acc1:\",metrics.accuracy_score(y_predict,dts[3]))\n",
    "    print(\"prec1:\",metrics.precision_score(y_predict,dts[3], average='weighted'))\n",
    "    print(\"recall1:\",metrics.recall_score(y_predict,dts[3], average='weighted'))\n",
    "    print(\"fscore1:\",metrics.f1_score(y_predict,dts[3], average='weighted'))\n",
    "    #print(\"auc1:\",metrics.roc_auc_score(y_predict,dts[3])) \n",
    "    \n",
    "    y_pred_ex=cls.predict(x_ex)\n",
    "    print(\"acc_ex:\",metrics.accuracy_score(y_ex, y_pred_ex))\n",
    "    print(\"prec_ex:\",metrics.precision_score(y_ex, y_pred_ex, average='weighted'))\n",
    "    print(\"rec_ex:\",metrics.recall_score(y_ex, y_pred_ex, average='weighted'))\n",
    "    print(\"f1_ex:\",metrics.f1_score(y_ex, y_pred_ex, average='weighted'))\n",
    "    #print(y_predict) \n",
    "    return y_predict"
   ]
  },
  {
   "cell_type": "code",
   "execution_count": 158,
   "metadata": {
    "scrolled": true
   },
   "outputs": [
    {
     "name": "stderr",
     "output_type": "stream",
     "text": [
      "d:\\code\\anaconda3\\lib\\site-packages\\ipykernel_launcher.py:4: DataConversionWarning: A column-vector y was passed when a 1d array was expected. Please change the shape of y to (n_samples,), for example using ravel().\n",
      "  after removing the cwd from sys.path.\n"
     ]
    },
    {
     "name": "stdout",
     "output_type": "stream",
     "text": [
      "acc1: 0.8209718670076727\n",
      "prec1: 0.8267232852673391\n",
      "recall1: 0.8209718670076727\n",
      "fscore1: 0.8189058952864022\n",
      "acc_ex: 0.818\n",
      "prec_ex: 0.8504603956930296\n",
      "rec_ex: 0.818\n",
      "f1_ex: 0.8260456798180515\n"
     ]
    }
   ],
   "source": [
    "y_predict1=test_rf(dts)"
   ]
  },
  {
   "cell_type": "code",
   "execution_count": 151,
   "metadata": {},
   "outputs": [
    {
     "name": "stdout",
     "output_type": "stream",
     "text": [
      "3519\n"
     ]
    }
   ],
   "source": [
    "print(len(y_predict1))"
   ]
  },
  {
   "cell_type": "code",
   "execution_count": 152,
   "metadata": {},
   "outputs": [],
   "source": [
    "y_pred1=pd.DataFrame(y_predict1,columns=[\"pred\"])\n",
    "#print(y_pred1)\n",
    "#y_ture=list(y_test)\n",
    "#print(y_test)\n",
    "y_true1=dts[3].reset_index(drop=True)\n",
    "#print(y_true1)\n",
    "\n",
    "y_true_pred=pd.concat([y_true1,y_pred1],axis=1)\n",
    "y_true_pred.columns=[\"true\",\"pred\"]"
   ]
  },
  {
   "cell_type": "code",
   "execution_count": 153,
   "metadata": {},
   "outputs": [
    {
     "name": "stdout",
     "output_type": "stream",
     "text": [
      "0.8320545609548167 0.8198351804489912 0.844281045751634\n",
      "0.8457435927363861 0.8345066495620694 0.8567554770682063\n",
      "0.8320545609548167 0.8198351804489912 0.844281045751634\n",
      "0.8337909082113255 0.8217970238507225 0.8458720356110483\n"
     ]
    }
   ],
   "source": [
    "acc_list=list()\n",
    "prec_list=list()\n",
    "rec_list=list()\n",
    "f1_list=list()\n",
    "for i in range(1000):\n",
    "    resample=y_true_pred.sample(frac=1.0,replace=True)\n",
    "    #print(resample)\n",
    "    y_t=resample.true\n",
    "    y_p=resample.pred\n",
    "    #print(y_t)\n",
    "    acc_list.append(metrics.accuracy_score(y_t, y_p))\n",
    "    prec_list.append(metrics.precision_score(y_t, y_p, average='weighted'))\n",
    "    rec_list.append(metrics.recall_score(y_t, y_p, average='weighted'))\n",
    "    f1_list.append(metrics.f1_score(y_t, y_p, average='weighted'))\n",
    "    #print(\"prec1:\", i, prec_list[i])\n",
    "print(np.median(acc_list),np.percentile(acc_list,2.5), np.percentile(acc_list,97.5))    \n",
    "print(np.median(prec_list),np.percentile(prec_list,2.5), np.percentile(prec_list,97.5))\n",
    "print(np.median(rec_list),np.percentile(rec_list,2.5), np.percentile(rec_list,97.5))\n",
    "print(np.median(f1_list),np.percentile(f1_list,2.5), np.percentile(f1_list,97.5))"
   ]
  },
  {
   "cell_type": "code",
   "execution_count": 159,
   "metadata": {},
   "outputs": [],
   "source": [
    "from sklearn.neural_network import MLPClassifier\n",
    "def test_ann(dts):\n",
    "    cls=MLPClassifier(alpha=1e-5,hidden_layer_sizes=(256, 512,256,128,64,32))\n",
    "    cls.fit(dts[0],dts[2])\n",
    "    y_predict=cls.predict(dts[1])\n",
    "    #y_predict0=cls.predict(dts[0])\n",
    "    #print(\"acc0:\",metrics.accuracy_score(y_predict0,dts[2]))\n",
    "    print(\"acc1:\",metrics.accuracy_score(y_predict,dts[3]))\n",
    "    print(\"prec1:\",metrics.precision_score(y_predict,dts[3], average='weighted'))\n",
    "    print(\"recall1:\",metrics.recall_score(y_predict,dts[3], average='weighted'))\n",
    "    print(\"fscore1:\",metrics.f1_score(y_predict,dts[3], average='weighted'))\n",
    "    #print(\"acc1:\",metrics.roc_auc_score(y_predict,dts[3]))\n",
    "    \n",
    "    y_pred_ex=cls.predict(x_ex)\n",
    "    print(\"acc_ex:\",metrics.accuracy_score(y_ex, y_pred_ex))\n",
    "    print(\"prec_ex:\",metrics.precision_score(y_ex, y_pred_ex, average='weighted'))\n",
    "    print(\"rec_ex:\",metrics.recall_score(y_ex, y_pred_ex, average='weighted'))\n",
    "    print(\"f1_ex:\",metrics.f1_score(y_ex, y_pred_ex, average='weighted'))\n",
    "    #print(y_predict) "
   ]
  },
  {
   "cell_type": "code",
   "execution_count": 160,
   "metadata": {},
   "outputs": [
    {
     "name": "stderr",
     "output_type": "stream",
     "text": [
      "d:\\code\\anaconda3\\lib\\site-packages\\sklearn\\neural_network\\multilayer_perceptron.py:916: DataConversionWarning: A column-vector y was passed when a 1d array was expected. Please change the shape of y to (n_samples, ), for example using ravel().\n",
      "  y = column_or_1d(y, warn=True)\n"
     ]
    },
    {
     "name": "stdout",
     "output_type": "stream",
     "text": [
      "acc1: 0.8800795680591077\n",
      "prec1: 0.8809613985738196\n",
      "recall1: 0.8800795680591077\n",
      "fscore1: 0.8801933370574647\n",
      "acc_ex: 0.918\n",
      "prec_ex: 0.9190488394899685\n",
      "rec_ex: 0.918\n",
      "f1_ex: 0.9182128285059472\n"
     ]
    }
   ],
   "source": [
    " test_ann(dts)"
   ]
  },
  {
   "cell_type": "code",
   "execution_count": 130,
   "metadata": {},
   "outputs": [],
   "source": [
    "from xgboost import XGBClassifier\n",
    "\n",
    "def test_xgboost(dts):\n",
    "    cls = XGBClassifier()\n",
    "    cls.fit(dts[0],dts[2])\n",
    "    y_predict=cls.predict(dts[1])\n",
    "    #y_predict0=cls.predict(dts[0])\n",
    "    #print(\"acc0:\",metrics.accuracy_score(y_predict0,dts[2]))\n",
    "    print(\"acc1:\",metrics.accuracy_score(y_predict,dts[3]))\n",
    "    print(\"prec1:\",metrics.precision_score(y_predict,dts[3], average='weighted'))\n",
    "    print(\"recall1:\",metrics.recall_score(y_predict,dts[3], average='weighted'))\n",
    "    print(\"fscore1:\",metrics.f1_score(y_predict,dts[3], average='weighted'))\n",
    "    \n",
    "    y_pred_ex=cls.predict(x_ex)\n",
    "    print(\"acc_ex:\",metrics.accuracy_score(y_ex, y_pred_ex))\n",
    "    print(\"prec_ex:\",metrics.precision_score(y_ex, y_pred_ex, average='weighted'))\n",
    "    print(\"rec_ex:\",metrics.recall_score(y_ex, y_pred_ex, average='weighted'))\n",
    "    print(\"f1_ex:\",metrics.f1_score(y_ex, y_pred_ex, average='weighted'))\n",
    "    #print(y_predict) "
   ]
  },
  {
   "cell_type": "code",
   "execution_count": 131,
   "metadata": {
    "scrolled": true
   },
   "outputs": [
    {
     "name": "stderr",
     "output_type": "stream",
     "text": [
      "d:\\code\\anaconda3\\lib\\site-packages\\sklearn\\preprocessing\\label.py:219: DataConversionWarning: A column-vector y was passed when a 1d array was expected. Please change the shape of y to (n_samples, ), for example using ravel().\n",
      "  y = column_or_1d(y, warn=True)\n",
      "d:\\code\\anaconda3\\lib\\site-packages\\sklearn\\preprocessing\\label.py:252: DataConversionWarning: A column-vector y was passed when a 1d array was expected. Please change the shape of y to (n_samples, ), for example using ravel().\n",
      "  y = column_or_1d(y, warn=True)\n"
     ]
    },
    {
     "name": "stdout",
     "output_type": "stream",
     "text": [
      "acc1: 0.7584541062801933\n",
      "prec1: 0.7682383773455269\n",
      "recall1: 0.7584541062801933\n",
      "fscore1: 0.7589520308189005\n",
      "acc_ex: 0.727\n",
      "prec_ex: 0.7735578940809711\n",
      "rec_ex: 0.727\n",
      "f1_ex: 0.7391730247762807\n"
     ]
    }
   ],
   "source": [
    "test_xgboost(dts)"
   ]
  },
  {
   "cell_type": "code",
   "execution_count": 132,
   "metadata": {},
   "outputs": [],
   "source": [
    "from sklearn import svm\n",
    "def test_svc(dts):\n",
    "    cls=svm.SVC(kernel=\"rbf\")\n",
    "    cls.fit(dts[0],dts[2])\n",
    "    y_predict=cls.predict(dts[1])\n",
    "    #y_predict0=cls.predict(dts[0])\n",
    "    #print(\"acc0:\",metrics.accuracy_score(y_predict0,dts[2]))\n",
    "    print(\"acc1:\",metrics.accuracy_score(y_predict,dts[3]))\n",
    "    print(\"prec1:\",metrics.precision_score(y_predict,dts[3], average='weighted'))\n",
    "    print(\"recall1:\",metrics.recall_score(y_predict,dts[3], average='weighted'))\n",
    "    print(\"fscore1:\",metrics.f1_score(y_predict,dts[3], average='weighted'))\n",
    "    \n",
    "    y_pred_ex=cls.predict(x_ex)\n",
    "    print(\"acc_ex:\",metrics.accuracy_score(y_ex, y_pred_ex))\n",
    "    print(\"prec_ex:\",metrics.precision_score(y_ex, y_pred_ex, average='weighted'))\n",
    "    print(\"rec_ex:\",metrics.recall_score(y_ex, y_pred_ex, average='weighted'))\n",
    "    print(\"f1_ex:\",metrics.f1_score(y_ex, y_pred_ex, average='weighted'))\n",
    "    #print(y_predict) "
   ]
  },
  {
   "cell_type": "code",
   "execution_count": 133,
   "metadata": {},
   "outputs": [
    {
     "name": "stderr",
     "output_type": "stream",
     "text": [
      "d:\\code\\anaconda3\\lib\\site-packages\\sklearn\\utils\\validation.py:761: DataConversionWarning: A column-vector y was passed when a 1d array was expected. Please change the shape of y to (n_samples, ), for example using ravel().\n",
      "  y = column_or_1d(y, warn=True)\n",
      "d:\\code\\anaconda3\\lib\\site-packages\\sklearn\\svm\\base.py:196: FutureWarning: The default value of gamma will change from 'auto' to 'scale' in version 0.22 to account better for unscaled features. Set gamma explicitly to 'auto' or 'scale' to avoid this warning.\n",
      "  \"avoid this warning.\", FutureWarning)\n"
     ]
    },
    {
     "name": "stdout",
     "output_type": "stream",
     "text": [
      "acc1: 0.4921852799090651\n",
      "prec1: 0.7684852150673439\n",
      "recall1: 0.4921852799090651\n",
      "fscore1: 0.5748385385112214\n"
     ]
    },
    {
     "name": "stderr",
     "output_type": "stream",
     "text": [
      "d:\\code\\anaconda3\\lib\\site-packages\\sklearn\\metrics\\classification.py:1145: UndefinedMetricWarning: Recall is ill-defined and being set to 0.0 in labels with no true samples.\n",
      "  'recall', 'true', average, warn_for)\n",
      "d:\\code\\anaconda3\\lib\\site-packages\\sklearn\\metrics\\classification.py:1145: UndefinedMetricWarning: F-score is ill-defined and being set to 0.0 in labels with no true samples.\n",
      "  'recall', 'true', average, warn_for)\n"
     ]
    },
    {
     "name": "stdout",
     "output_type": "stream",
     "text": [
      "acc_ex: 0.292\n",
      "prec_ex: 0.5743765730425288\n",
      "rec_ex: 0.292\n",
      "f1_ex: 0.22888245830984866\n"
     ]
    },
    {
     "name": "stderr",
     "output_type": "stream",
     "text": [
      "d:\\code\\anaconda3\\lib\\site-packages\\sklearn\\metrics\\classification.py:1143: UndefinedMetricWarning: Precision is ill-defined and being set to 0.0 in labels with no predicted samples.\n",
      "  'precision', 'predicted', average, warn_for)\n",
      "d:\\code\\anaconda3\\lib\\site-packages\\sklearn\\metrics\\classification.py:1143: UndefinedMetricWarning: F-score is ill-defined and being set to 0.0 in labels with no predicted samples.\n",
      "  'precision', 'predicted', average, warn_for)\n"
     ]
    }
   ],
   "source": [
    "test_svc(dts)"
   ]
  },
  {
   "cell_type": "code",
   "execution_count": 161,
   "metadata": {},
   "outputs": [],
   "source": [
    "from sklearn.neighbors import KNeighborsClassifier\n",
    "def test_knn(dts):\n",
    "    cls = KNeighborsClassifier()\n",
    "    cls.fit(dts[0],dts[2])\n",
    "    y_predict=cls.predict(dts[1])\n",
    "    #y_predict0=cls.predict(dts[0])\n",
    "    #print(\"acc0:\",metrics.accuracy_score(y_predict0,dts[2]))\n",
    "    print(\"acc1:\",metrics.accuracy_score(y_predict,dts[3]))\n",
    "    print(\"prec1:\",metrics.precision_score(y_predict,dts[3], average='weighted'))\n",
    "    print(\"recall1:\",metrics.recall_score(y_predict,dts[3], average='weighted'))\n",
    "    print(\"fscore1:\",metrics.f1_score(y_predict,dts[3], average='weighted'))\n",
    "    #print(\"acc:\",metrics.accuracy_score(y_predict,dts[3]))\n",
    "    \n",
    "    y_pred_ex=cls.predict(x_ex)\n",
    "    print(\"acc_ex:\",metrics.accuracy_score(y_ex, y_pred_ex))\n",
    "    print(\"prec_ex:\",metrics.precision_score(y_ex, y_pred_ex, average='weighted'))\n",
    "    print(\"rec_ex:\",metrics.recall_score(y_ex, y_pred_ex, average='weighted'))\n",
    "    print(\"f1_ex:\",metrics.f1_score(y_ex, y_pred_ex, average='weighted'))\n",
    "    #print(y_predict) "
   ]
  },
  {
   "cell_type": "code",
   "execution_count": 162,
   "metadata": {},
   "outputs": [
    {
     "name": "stderr",
     "output_type": "stream",
     "text": [
      "d:\\code\\anaconda3\\lib\\site-packages\\ipykernel_launcher.py:4: DataConversionWarning: A column-vector y was passed when a 1d array was expected. Please change the shape of y to (n_samples, ), for example using ravel().\n",
      "  after removing the cwd from sys.path.\n"
     ]
    },
    {
     "name": "stdout",
     "output_type": "stream",
     "text": [
      "acc1: 0.8527990906507531\n",
      "prec1: 0.8588146415261706\n",
      "recall1: 0.8527990906507531\n",
      "fscore1: 0.8535706830302633\n",
      "acc_ex: 0.902\n",
      "prec_ex: 0.9046882567992639\n",
      "rec_ex: 0.902\n",
      "f1_ex: 0.9015156474781747\n"
     ]
    }
   ],
   "source": [
    "test_knn(dts)"
   ]
  },
  {
   "cell_type": "code",
   "execution_count": null,
   "metadata": {},
   "outputs": [],
   "source": [
    "# multiple label output"
   ]
  },
  {
   "cell_type": "code",
   "execution_count": 136,
   "metadata": {},
   "outputs": [],
   "source": [
    "from sklearn.model_selection import train_test_split\n",
    "import sklearn.metrics as metrics\n",
    "xm=pd.DataFrame(vec_d2v)\n",
    "ym=pd.DataFrame(outm)\n",
    "x_train, x_test, y_train, y_test=train_test_split(xm,ym,test_size=0.25,random_state=0)\n",
    "dtsm=train_test_split(xm,ym,test_size=0.25,random_state=0)"
   ]
  },
  {
   "cell_type": "code",
   "execution_count": 137,
   "metadata": {},
   "outputs": [],
   "source": [
    "from sklearn.datasets import make_classification\n",
    "from sklearn.multioutput import MultiOutputClassifier"
   ]
  },
  {
   "cell_type": "code",
   "execution_count": 138,
   "metadata": {},
   "outputs": [],
   "source": [
    "from sklearn.ensemble import RandomForestClassifier\n",
    "def test_rfm(dtsm):\n",
    "    rfm=RandomForestClassifier(n_estimators=100)\n",
    "    clsm=MultiOutputClassifier(rfm)\n",
    "    clsm.fit(dtsm[0],dtsm[2])\n",
    "    y_predict=clsm.predict(dtsm[1])\n",
    "    #y_predict0=clsm.fit(dtsm[0],dtsm[2]).predict(dtsm[0])\n",
    "    #print(\"acc0:\",metrics.accuracy_score(y_predict0,dtsm[2]))\n",
    "    print(\"acc1:\",metrics.accuracy_score(y_predict,dtsm[3]))\n",
    "    print(\"prec1:\",metrics.precision_score(y_predict,dtsm[3], average='weighted'))\n",
    "    print(\"recall1:\",metrics.recall_score(y_predict,dtsm[3], average='weighted'))\n",
    "    print(\"fscore1:\",metrics.f1_score(y_predict,dtsm[3], average='weighted'))\n",
    "    \n",
    "    y_pred_ex=clsm.predict(x_ex)\n",
    "    print(\"acc_ex:\",metrics.accuracy_score(ym_ex, y_pred_ex))\n",
    "    print(\"prec_ex:\",metrics.precision_score(ym_ex, y_pred_ex, average='weighted'))\n",
    "    print(\"rec_ex:\",metrics.recall_score(ym_ex, y_pred_ex, average='weighted'))\n",
    "    print(\"f1_ex:\",metrics.f1_score(ym_ex, y_pred_ex, average='weighted'))  \n",
    "    #print(y_predict) "
   ]
  },
  {
   "cell_type": "code",
   "execution_count": 139,
   "metadata": {
    "scrolled": true
   },
   "outputs": [
    {
     "name": "stdout",
     "output_type": "stream",
     "text": [
      "acc1: 0.638533674339301\n",
      "prec1: 0.857544892955902\n",
      "recall1: 0.9737363072456117\n",
      "fscore1: 0.9044758640122867\n",
      "acc_ex: 0.594\n",
      "prec_ex: 0.9728775658029615\n",
      "rec_ex: 0.8001537279016141\n",
      "f1_ex: 0.864197020415248\n"
     ]
    }
   ],
   "source": [
    "test_rfm(dtsm)"
   ]
  },
  {
   "cell_type": "code",
   "execution_count": 140,
   "metadata": {},
   "outputs": [],
   "source": [
    "from sklearn.neural_network import MLPClassifier\n",
    "def test_mlpm(dtsm):      \n",
    "    mlp=MLPClassifier(alpha=1e-5,hidden_layer_sizes=(512,1024,512,256,128,64),random_state=0)\n",
    "    clsm=MultiOutputClassifier(mlp)\n",
    "    clsm.fit(dtsm[0],dtsm[2])\n",
    "    #y_predict=clsm.fit(dtsm[0],dtsm[1]).predict(dtsm[2])\n",
    "    y_predict=clsm.predict(dtsm[1])    \n",
    "    print(\"acc1:\",metrics.accuracy_score(y_predict,dtsm[3]))\n",
    "    print(\"prec1:\",metrics.precision_score(y_predict,dtsm[3], average='weighted'))\n",
    "    print(\"recall1:\",metrics.recall_score(y_predict,dtsm[3], average='weighted'))\n",
    "    print(\"fscore1:\",metrics.f1_score(y_predict,dtsm[3], average='weighted'))\n",
    "    #print(\"acc:\",metrics.accuracy_score(y_predict,dtsm[3]))\n",
    "    #print(y_predict)\n",
    "    \n",
    "    y_pred_ex=clsm.predict(x_ex)\n",
    "    print(\"acc_ex:\",metrics.accuracy_score(ym_ex, y_pred_ex))\n",
    "    print(\"prec_ex:\",metrics.precision_score(ym_ex, y_pred_ex, average='weighted'))\n",
    "    print(\"rec_ex:\",metrics.recall_score(ym_ex, y_pred_ex, average='weighted'))\n",
    "    print(\"f1_ex:\",metrics.f1_score(ym_ex, y_pred_ex, average='weighted'))  "
   ]
  },
  {
   "cell_type": "code",
   "execution_count": 141,
   "metadata": {},
   "outputs": [
    {
     "name": "stdout",
     "output_type": "stream",
     "text": [
      "acc1: 0.8189826655299801\n",
      "prec1: 0.9550761542980194\n",
      "recall1: 0.9507470946319867\n",
      "fscore1: 0.95249460625039\n",
      "acc_ex: 0.843\n",
      "prec_ex: 0.967895913530686\n",
      "rec_ex: 0.9646425826287471\n",
      "f1_ex: 0.9644777497561905\n"
     ]
    }
   ],
   "source": [
    "test_mlpm(dtsm)"
   ]
  },
  {
   "cell_type": "code",
   "execution_count": 142,
   "metadata": {},
   "outputs": [],
   "source": [
    "from xgboost import XGBClassifier\n",
    "def test_xgboost(dtsm):\n",
    "    xgbm = XGBClassifier()\n",
    "    clsm=MultiOutputClassifier(xgbm)\n",
    "    clsm.fit(dtsm[0],dtsm[2])\n",
    "    #y_predict=clsm.fit(dtsm[0],dtsm[1]).predict(dtsm[2])\n",
    "    y_predict=clsm.predict(dtsm[1])    \n",
    "    print(\"acc1:\",metrics.accuracy_score(y_predict,dtsm[3]))\n",
    "    print(\"prec1:\",metrics.precision_score(y_predict,dtsm[3], average='weighted'))\n",
    "    print(\"recall1:\",metrics.recall_score(y_predict,dtsm[3], average='weighted'))\n",
    "    print(\"fscore1:\",metrics.f1_score(y_predict,dtsm[3], average='weighted'))\n",
    "    \n",
    "    y_pred_ex=clsm.predict(x_ex)\n",
    "    print(\"acc_ex:\",metrics.accuracy_score(ym_ex, y_pred_ex))\n",
    "    print(\"prec_ex:\",metrics.precision_score(ym_ex, y_pred_ex, average='weighted'))\n",
    "    print(\"rec_ex:\",metrics.recall_score(ym_ex, y_pred_ex, average='weighted'))\n",
    "    print(\"f1_ex:\",metrics.f1_score(ym_ex, y_pred_ex, average='weighted')) "
   ]
  },
  {
   "cell_type": "code",
   "execution_count": 143,
   "metadata": {},
   "outputs": [
    {
     "name": "stdout",
     "output_type": "stream",
     "text": [
      "acc1: 0.6177891446433645\n",
      "prec1: 0.8525951733679886\n",
      "recall1: 0.9413858868404323\n",
      "fscore1: 0.8890975900058737\n",
      "acc_ex: 0.536\n",
      "prec_ex: 0.9346506242957994\n",
      "rec_ex: 0.7863182167563413\n",
      "f1_ex: 0.8401503538252287\n"
     ]
    }
   ],
   "source": [
    " test_xgboost(dtsm)"
   ]
  },
  {
   "cell_type": "code",
   "execution_count": 144,
   "metadata": {},
   "outputs": [],
   "source": [
    "from sklearn.neighbors import KNeighborsClassifier\n",
    "def test_knnm(dtsm):\n",
    "    knnm=KNeighborsClassifier()\n",
    "    clsm=MultiOutputClassifier(knnm)\n",
    "    clsm.fit(dtsm[0],dtsm[2])\n",
    "    #y_predict=clsm.fit(dtsm[0],dtsm[1]).predict(dtsm[2])\n",
    "    y_predict=clsm.predict(dtsm[1])    \n",
    "    print(\"acc1:\",metrics.accuracy_score(y_predict,dtsm[3]))\n",
    "    print(\"prec1:\",metrics.precision_score(y_predict,dtsm[3], average='weighted'))\n",
    "    print(\"recall1:\",metrics.recall_score(y_predict,dtsm[3], average='weighted'))\n",
    "    print(\"fscore1:\",metrics.f1_score(y_predict,dtsm[3], average='weighted'))\n",
    "    \n",
    "    y_pred_ex=clsm.predict(x_ex)\n",
    "    print(\"acc_ex:\",metrics.accuracy_score(ym_ex, y_pred_ex))\n",
    "    print(\"prec_ex:\",metrics.precision_score(ym_ex, y_pred_ex, average='weighted'))\n",
    "    print(\"rec_ex:\",metrics.recall_score(ym_ex, y_pred_ex, average='weighted'))\n",
    "    print(\"f1_ex:\",metrics.f1_score(ym_ex, y_pred_ex, average='weighted')) "
   ]
  },
  {
   "cell_type": "code",
   "execution_count": 145,
   "metadata": {},
   "outputs": [
    {
     "name": "stdout",
     "output_type": "stream",
     "text": [
      "acc1: 0.848820687695368\n",
      "prec1: 0.9393223765071415\n",
      "recall1: 0.9503945885005637\n",
      "fscore1: 0.9440044228095952\n",
      "acc_ex: 0.906\n",
      "prec_ex: 0.970392710992037\n",
      "rec_ex: 0.9515757109915449\n",
      "f1_ex: 0.9600883341205763\n"
     ]
    }
   ],
   "source": [
    "test_knnm(dtsm)"
   ]
  },
  {
   "cell_type": "code",
   "execution_count": null,
   "metadata": {},
   "outputs": [],
   "source": []
  }
 ],
 "metadata": {
  "kernelspec": {
   "display_name": "Python 3",
   "language": "python",
   "name": "python3"
  },
  "language_info": {
   "codemirror_mode": {
    "name": "ipython",
    "version": 3
   },
   "file_extension": ".py",
   "mimetype": "text/x-python",
   "name": "python",
   "nbconvert_exporter": "python",
   "pygments_lexer": "ipython3",
   "version": "3.7.3"
  }
 },
 "nbformat": 4,
 "nbformat_minor": 2
}
