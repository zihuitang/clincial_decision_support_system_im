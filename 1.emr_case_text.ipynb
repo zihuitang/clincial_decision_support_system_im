{
 "cells": [
  {
   "cell_type": "code",
   "execution_count": 1,
   "metadata": {},
   "outputs": [],
   "source": [
    "import pandas as pd\n",
    "import codecs"
   ]
  },
  {
   "cell_type": "code",
   "execution_count": 2,
   "metadata": {},
   "outputs": [],
   "source": [
    "def emr_load(infile):\n",
    "    #load emr from infile  \n",
    "    #items = [\"id\", \"pid\", \"adm\", \"admin_rec\", \"first_rec\", \"out_rec\", \"tcm_diag\", \"diagnosis\"]\n",
    "    dt1 = pd.read_excel(infile)   \n",
    "    return dt1"
   ]
  },
  {
   "cell_type": "code",
   "execution_count": 3,
   "metadata": {},
   "outputs": [],
   "source": [
    "def ctxt_save(outfile, ctxt):\n",
    "    outfile1 = outfile    \n",
    "    with open(outfile, 'w', encoding = 'utf-8') as fout:\n",
    "        fout.write(ctxt)"
   ]
  },
  {
   "cell_type": "code",
   "execution_count": 4,
   "metadata": {},
   "outputs": [],
   "source": [
    "def extract_context_admrec(filetxt):\n",
    "    #with codecs.open(filetxt, \"r\", encoding='utf-8', errors='ignore') as fin:\n",
    "        #str_ctxt=fin.read()       \n",
    "   \n",
    "    str_ext_ctxt=\"\"\n",
    "    str_ctxt=filetxt\n",
    "    str_adm_list=list()\n",
    "    \n",
    "    dt2=pd.read_csv(\"./emr/item_adm.txt\")\n",
    "    items =list()    \n",
    "    for i in range(len(dt2)):\n",
    "        items.append(str(dt2[\"item\"][i]))\n",
    "    \n",
    "    # extract the context of admin records\n",
    "    for i in range(len(dt2)-1):        \n",
    "        str_ext_start=str_ctxt.find(items[i])+len(items[i])\n",
    "        str_ext_end=str_ctxt.find(items[i+1])\n",
    "        str_ext_ctxt=str_ctxt[str_ext_start:str_ext_end].strip()\n",
    "        if i==10:\n",
    "            xstr=str_ext_ctxt.split(\"\\n\")\n",
    "            if len(xstr)>1:\n",
    "                str_ext_ctxt=xstr[1].strip()\n",
    "            else:\n",
    "                str_ext_ctxt=\"\"\n",
    "        str_adm_list.append(str_ext_ctxt)\n",
    "        #print(i,str_ext_ctxt,len(str_ext_ctxt))  \n",
    "        \n",
    "    return str_adm_list"
   ]
  },
  {
   "cell_type": "code",
   "execution_count": 5,
   "metadata": {
    "collapsed": true
   },
   "outputs": [
    {
     "name": "stdout",
     "output_type": "stream",
     "text": [
      "0 咳嗽、咳痰10余天 9\n",
      "1 患者自诉10余天前受凉后出现咳嗽、咳痰不适，咳嗽呈整发性连声咳，伴少许白色泡沫痰，量少，可咳出，感胃脘部胀痛，稍感头晕，无畏寒发热、恶心呕吐、腹泻便秘等不适，现在症：咳嗽、咳痰，咳嗽呈整发性连声咳，伴少许白色泡沫痰，量少，可咳出，感胃脘部胀痛、头晕不适，精神、饮食、夜寐可，二便正常。\r\n",
      "    既往有“高血压”病史，最高血压180/？mmHg，服用“硝苯地平控释片”降压治疗。 189\n",
      "2 否认肝炎、结核、疟疾病史、否认心脏病史、否认糖尿病、脑血管疾病、精神疾病史、否认手术、外伤、输血史、否认食物、药物过敏史、预防接种史不详。 69\n",
      "3 生于出生地，久居本地，否认血吸虫疫水接触史，无吸烟、饮酒史，否认毒物接触史。\r\n",
      "    月经史：Value1=14岁,Value2=3-4天,Value3=30天,Value4=44岁，2018年10月11日，平日月经规律，有痛经及血块，白带不多。 124\n",
      "4 20岁结婚，育有1子1女，配偶健在。子女健在 22\n",
      "5 否认家族性遗传病史。 10\n",
      "6 望之有神、表情正常，面色荣润，形体适中；行动自如、精神良好、发育正常、营养良好；声音洪亮、言语清晰，应答自如、无气促气喘、时有咳嗽、咳声轻微、无呕吐、太息、呻吟、腹鸣之声；无异常气味；舌苔薄黄腻，质红，脉数。 104\n",
      "7 体温:36.4℃,脉搏:88次/分,呼吸:21次/分,血压:100/78mmHg。\r\n",
      "    发育正常,营养良好,正常面容,神志清楚,精神尚可,自动体位,查体合作,问答切题,全身皮肤色泽苍白,全身浅表淋巴结未触及异常肿大。头颅无畸形、双眼睑无浮肿,眼球活动自如,无外突,结合膜无充血及水肿,巩膜无黄染,角膜透明,双侧瞳孔等大等圆,对光反应灵敏。耳廓无畸形,外耳道无溢脓,乳突无压痛。外鼻无畸形,鼻通气良好,无鼻翼煽动,副鼻窦区无压痛。唇无紫绀,口腔粘膜无出血点,伸舌居中,无震颤,咽部无充血,扁桃体无肿大,无脓性分泌物。颈软无抵抗,无颈静脉怒张,甲状腺无肿大,无血管杂音,气管居中,肝颈静脉回流征阴性。胸廓无畸形,双侧呼吸动度对称,语颤无减弱,双肺叩诊清音,双肺呼吸音清晰,未闻及干湿性罗音和胸膜摩擦音。心前区无隆起,心尖搏动位于第五肋间左锁骨中线内0.5cm未触及细震颤,心界无扩大,心率88次／分,律齐,心音无明显增强和减弱,各瓣膜听诊区未闻及病理性杂音。腹部平软,未见腹壁静脉曲张,无胃肠型及蠕动波,全腹无压痛及腹肌紧张,未触及腹部包块,肝肋缘下未触及,莫菲氏征阴性,肝及肾区无叩击痛,腹部移动性浊音阴性,双肾区无叩击痛。肠鸣音正常。脊柱无畸形,活动自如,关节无红肿,无杵状指（趾）,双下肢无浮肿,双下肢皮肤无色素沉着。四肢肌力、肌张力正常。 肛门,外生殖器未查。生理反射存在,巴氏征阴性, 克氏征阴性,布氏征阴性. 611\n",
      "8  0\n",
      "9 暂缺。填写\r\n",
      "   初步诊断： 15\n",
      "10 痰热郁肺证 5\n"
     ]
    },
    {
     "data": {
      "text/plain": [
       "['咳嗽、咳痰10余天',\n",
       " '患者自诉10余天前受凉后出现咳嗽、咳痰不适，咳嗽呈整发性连声咳，伴少许白色泡沫痰，量少，可咳出，感胃脘部胀痛，稍感头晕，无畏寒发热、恶心呕吐、腹泻便秘等不适，现在症：咳嗽、咳痰，咳嗽呈整发性连声咳，伴少许白色泡沫痰，量少，可咳出，感胃脘部胀痛、头晕不适，精神、饮食、夜寐可，二便正常。\\r\\n    既往有“高血压”病史，最高血压180/？mmHg，服用“硝苯地平控释片”降压治疗。',\n",
       " '否认肝炎、结核、疟疾病史、否认心脏病史、否认糖尿病、脑血管疾病、精神疾病史、否认手术、外伤、输血史、否认食物、药物过敏史、预防接种史不详。',\n",
       " '生于出生地，久居本地，否认血吸虫疫水接触史，无吸烟、饮酒史，否认毒物接触史。\\r\\n    月经史：Value1=14岁,Value2=3-4天,Value3=30天,Value4=44岁，2018年10月11日，平日月经规律，有痛经及血块，白带不多。',\n",
       " '20岁结婚，育有1子1女，配偶健在。子女健在',\n",
       " '否认家族性遗传病史。',\n",
       " '望之有神、表情正常，面色荣润，形体适中；行动自如、精神良好、发育正常、营养良好；声音洪亮、言语清晰，应答自如、无气促气喘、时有咳嗽、咳声轻微、无呕吐、太息、呻吟、腹鸣之声；无异常气味；舌苔薄黄腻，质红，脉数。',\n",
       " '体温:36.4℃,脉搏:88次/分,呼吸:21次/分,血压:100/78mmHg。\\r\\n    发育正常,营养良好,正常面容,神志清楚,精神尚可,自动体位,查体合作,问答切题,全身皮肤色泽苍白,全身浅表淋巴结未触及异常肿大。头颅无畸形、双眼睑无浮肿,眼球活动自如,无外突,结合膜无充血及水肿,巩膜无黄染,角膜透明,双侧瞳孔等大等圆,对光反应灵敏。耳廓无畸形,外耳道无溢脓,乳突无压痛。外鼻无畸形,鼻通气良好,无鼻翼煽动,副鼻窦区无压痛。唇无紫绀,口腔粘膜无出血点,伸舌居中,无震颤,咽部无充血,扁桃体无肿大,无脓性分泌物。颈软无抵抗,无颈静脉怒张,甲状腺无肿大,无血管杂音,气管居中,肝颈静脉回流征阴性。胸廓无畸形,双侧呼吸动度对称,语颤无减弱,双肺叩诊清音,双肺呼吸音清晰,未闻及干湿性罗音和胸膜摩擦音。心前区无隆起,心尖搏动位于第五肋间左锁骨中线内0.5cm未触及细震颤,心界无扩大,心率88次／分,律齐,心音无明显增强和减弱,各瓣膜听诊区未闻及病理性杂音。腹部平软,未见腹壁静脉曲张,无胃肠型及蠕动波,全腹无压痛及腹肌紧张,未触及腹部包块,肝肋缘下未触及,莫菲氏征阴性,肝及肾区无叩击痛,腹部移动性浊音阴性,双肾区无叩击痛。肠鸣音正常。脊柱无畸形,活动自如,关节无红肿,无杵状指（趾）,双下肢无浮肿,双下肢皮肤无色素沉着。四肢肌力、肌张力正常。 肛门,外生殖器未查。生理反射存在,巴氏征阴性, 克氏征阴性,布氏征阴性.',\n",
       " '',\n",
       " '暂缺。填写\\r\\n   初步诊断：',\n",
       " '痰热郁肺证']"
      ]
     },
     "execution_count": 5,
     "metadata": {},
     "output_type": "execute_result"
    }
   ],
   "source": [
    "filetxt=\"./emr/ctxt1.txt\"\n",
    "extract_context_admrec(filetxt)"
   ]
  },
  {
   "cell_type": "code",
   "execution_count": 5,
   "metadata": {},
   "outputs": [],
   "source": [
    "def extract_context_firstrec(filetxt):\n",
    "    #with codecs.open(filetxt, \"r\", encoding='utf-8', errors='ignore') as fin:\n",
    "        #str_ctxt=fin.read()        \n",
    "        \n",
    "    str_ext_ctxt=\"\"\n",
    "    str_ctxt=filetxt\n",
    "    str_first_list=list()\n",
    "    \n",
    "    dt=pd.read_csv(\"./emr/item_first.txt\")\n",
    "    items =list()    \n",
    "    for i in range(len(dt)):\n",
    "        items.append(str(dt[\"item\"][i]))    \n",
    "    \n",
    "    # extract the context of first records\n",
    "    for i in range(len(dt)-1):       \n",
    "        if i==2 or i==4:\n",
    "            i+=1\n",
    "            continue\n",
    "        str_ext_start=str_ctxt.find(items[i])+len(items[i])\n",
    "        str_ext_end=str_ctxt.find(items[i+1])\n",
    "        str_ext_ctxt=str_ctxt[str_ext_start:str_ext_end].strip()\n",
    "        str_first_list.append(str_ext_ctxt)\n",
    "    \n",
    "    return str_first_list\n",
    "        #print(i,str_ext_ctxt,len(str_ext_ctxt))    "
   ]
  },
  {
   "cell_type": "code",
   "execution_count": 14,
   "metadata": {
    "collapsed": true
   },
   "outputs": [
    {
     "name": "stdout",
     "output_type": "stream",
     "text": [
      "0 咳嗽、咳痰，咳嗽呈整发性连声咳，伴少许白色泡沫痰，量少，可咳出，感胃脘部胀痛、头晕不适，精神、饮食、夜寐可，二便正常。 59\n",
      "1 体温:36.4℃,脉搏:88次/分,呼吸:21次/分,血压:100/78mmHg。胸廓无畸形,双侧呼吸动度对称,语颤无减弱,双肺叩诊清音,双肺呼吸音清晰,未闻及干湿性罗音和胸膜摩擦音。心前区无隆起,心尖搏动位于第五肋间左锁骨中线内0.5cm未触及细震颤,心界无扩大,心率88次／分,律齐。腹部平软。舌苔薄黄腻，质红，脉数。 161\n",
      "3 患者44岁，女，以咳嗽、咳痰为主证，舌苔薄黄腻，质红，脉数，证候分析：痰热壅阻肺气，肺失清啸，故咳嗽气息粗促，痰多质粘稠，色黄；则有身热口干欲饮，舌苔薄黄腻，质红，脉数，均属痰热之候。 92\n",
      "5 1.内科护理常规，Ⅰ级护理，低盐饮食，卧床休息，陪护。\r\n",
      " 2.完善三大常规、肝肾功能、电解质常规、心肌酶谱、ESR、C反应蛋白测定、血脂、血糖、普通培养+鉴定、一般细菌涂片检查等。\r\n",
      " 3.治疗上予以止咳化痰，改善微循环等治疗。\r\n",
      " 4.中医治疗以清热肃肺，化痰止咳为主，方选清金化痰汤加减。维生素B12足三里穴位注射增强免疫。\r\n",
      " 5.避风寒，调情志，慎起居。\r\n",
      "周逢盛\" 188\n"
     ]
    }
   ],
   "source": [
    "filetxt=\"./emr/ctxt2.txt\"\n",
    "extract_context_firstrec(filetxt)"
   ]
  },
  {
   "cell_type": "code",
   "execution_count": 6,
   "metadata": {},
   "outputs": [],
   "source": [
    "def extract_context_outrec(filetxt):\n",
    "    #with codecs.open(filetxt, \"r\", encoding='utf-8', errors='ignore') as fin:\n",
    "        #str_ctxt=fin.read()  \n",
    "        \n",
    "    str_ext_ctxt=\"\"\n",
    "    str_ctxt=filetxt\n",
    "    str_out_list=list()\n",
    "    dt=pd.read_csv(\"./emr/item_out.txt\")\n",
    "    items =list()    \n",
    "    for i in range(len(dt)):\n",
    "        items.append(str(dt[\"item\"][i]))    \n",
    "        \n",
    "    #df=pd.DataFrame(columns=[\"days\",\"diagnosis\",\"treatment\",\"outcome\",\"out_medorder\"])\n",
    "    #str_contxt=list()\n",
    "        \n",
    "    # extract the context of first records\n",
    "    for i in range(len(dt)-1):       \n",
    "        if i==1 or i==5:\n",
    "            i+=1\n",
    "            continue\n",
    "        str_ext_start=str_ctxt.find(items[i])+len(items[i])\n",
    "        str_ext_end=str_ctxt.find(items[i+1])\n",
    "        str_ext_ctxt=str_ctxt[str_ext_start:str_ext_end].strip()\n",
    "        str_out_list.append(str_ext_ctxt)\n",
    "        #print(i, items[i], str_ext_ctxt, len(str_ext_ctxt)) \n",
    "    #df.loc[0]=str_contxt\n",
    "    #df.to_excel(\"./emr/out1.xls\", header=True, index=False,  encoding=\"utf-8\")    \n",
    "    return str_out_list"
   ]
  },
  {
   "cell_type": "code",
   "execution_count": 16,
   "metadata": {
    "collapsed": true
   },
   "outputs": [
    {
     "name": "stdout",
     "output_type": "stream",
     "text": [
      "0 住院天数： 6天 2\n",
      "2 西医诊断： 1、急性支气管炎\r\n",
      "                   2、高血压病 3级 中危组 42\n",
      "3 诊疗经过： 入院后完善相关检查，甲型流感病毒抗原检测  阴性   乙型流感病毒抗原检测  阴性 ；血常规：淋巴细胞比率  19.40 ↓  % 嗜碱性粒细胞比率  1.10 ↑  % 嗜碱性粒细胞计数  0.07 ↑  *10^9/L ，注意复查；肾功能：尿酸  359.00 ↑  μmol/L ，注意复查；血沉、凝血常规、肝功能、血糖血脂、电解质+CO2常规：正常；B超示：肝囊肿、盆腔积液；心脏彩超示：二尖瓣、三尖瓣轻度返流。PCT：0.14ng/ml。CT示：1.C3/4、C4/5椎间盘向后方突出2.颈椎退变。MRI示：头颅MRI平扫未见明显异常。治疗上予以氨溴索针(溴环已胺醇）止咳化痰、血栓通针改善微循环、小牛血清去蛋白营养神经、 复方氨基酸营养支持、  稳定血压、止咳化痰、改善微循环、维持水电解质平衡等对症治疗，中医治疗以清热肃肺，化痰止咳为主，方选清金化痰汤加减。维生素B12足三里穴位注射增强免疫。患者症状较前缓解，要求出院，告知相关注意事项，经上级医师同意后，予以办理出院。 443\n",
      "4 出院情况： 患者自诉已无明显咳嗽、咳痰不适，头晕不适较前缓解，无明显头痛、恶心呕吐等不适，精神、饮食、夜寐一般，二便正常，血压:100/78mmHg。胸廓无畸形,双侧呼吸动度对称,语颤无减弱,双肺叩诊清音,双肺呼吸音清晰,未闻及干湿性罗音和胸膜摩擦音。心前区无隆起,心尖搏动位于第五肋间左锁骨中线内0.5cm未触及细震颤,心界无扩大,心率70次／分,律齐。腹部平软。舌苔薄黄腻，质红，脉数。 189\n",
      "6 出院医嘱： 1.避免接触诱发因素如雾霾、烟雾、粉尘、刺激性气味等，戒烟，增强体质，加强营养，避风寒，保持情绪平和、大便通畅；勿劳累；\r\n",
      "    2.定期注射肺炎球菌疫苗及流感病毒疫苗；\r\n",
      "    3.不适时随诊。 100\n"
     ]
    }
   ],
   "source": [
    "filetxt=\"./emr/ctxt3.txt\"\n",
    "extract_context_outrec(filetxt)"
   ]
  },
  {
   "cell_type": "code",
   "execution_count": 7,
   "metadata": {},
   "outputs": [],
   "source": [
    "def df_init():\n",
    "    dt=pd.read_csv(\"./emr/item2.txt\")\n",
    "    items =list()    \n",
    "    for i in range(len(dt)):\n",
    "        items.append(str(dt[\"item\"][i]))    \n",
    "    df=pd.DataFrame(columns=items)    \n",
    "    return df"
   ]
  },
  {
   "cell_type": "code",
   "execution_count": 8,
   "metadata": {},
   "outputs": [],
   "source": [
    "def emr_ext_excel(infile):\n",
    "    dt1=emr_load(infile)\n",
    "    df=df_init()\n",
    "    len_df_col= len(df.columns)\n",
    "    outfile=\"%s.%s\"%(infile,\"ext813.xls\")\n",
    "    \n",
    "    for i in range(len(dt1)):\n",
    "        str_contxt_list=list()\n",
    "        str_contxt_list.append(str(dt1[\"id\"][i]))\n",
    "        str_contxt_list.append(str(dt1[\"pid\"][i]))\n",
    "        str_contxt_list.append(str(dt1[\"adm\"][i]))\n",
    "        \n",
    "        adm_txt= str(dt1[\"admin_rec\"][i])\n",
    "        if len(adm_txt)>10:\n",
    "            list_temp=extract_context_admrec(adm_txt)\n",
    "            str_contxt_list.extend(list_temp)\n",
    "        else:\n",
    "            list_temp = [\"\",\"\",\"\",\"\",\"\",\"\",\"\",\"\",\"\",\"\"]\n",
    "            str_contxt_list.extend(list_temp)\n",
    "        #print(i, len(str_contxt_list))\n",
    "        \n",
    "        first_txt=str(dt1[\"first_rec\"][i])\n",
    "        if len(first_txt)>10:\n",
    "            list_temp=extract_context_firstrec(first_txt)\n",
    "            str_contxt_list.extend(list_temp)\n",
    "        else:\n",
    "            list_temp = [\"\",\"\",\"\",\"\"]\n",
    "            str_contxt_list.extend(list_temp)\n",
    "        #print(len(str_contxt_list))\n",
    "            \n",
    "        out_txt=str(dt1[\"out_rec\"][i])\n",
    "        if len(out_txt)>10:\n",
    "            list_temp=extract_context_outrec(out_txt)\n",
    "            str_contxt_list.extend(list_temp)\n",
    "        else:\n",
    "            list_temp = [\"\",\"\",\"\",\"\",\"\"]\n",
    "            str_contxt_list.extend(list_temp)\n",
    "        \n",
    "        if len(str_contxt_list)==len_df_col:\n",
    "            df.loc[i]=str_contxt_list           \n",
    "        \n",
    "    df.to_excel(outfile, header=True, index=False,  encoding=\"utf-8\")    \n",
    "    "
   ]
  },
  {
   "cell_type": "code",
   "execution_count": 19,
   "metadata": {
    "scrolled": true
   },
   "outputs": [],
   "source": [
    "filename = \"./emr/data/201908.xls\"\n",
    "emr_ext_excel(filename)"
   ]
  },
  {
   "cell_type": "code",
   "execution_count": 20,
   "metadata": {},
   "outputs": [],
   "source": [
    "def contact_df():\n",
    "    f1=\"./emr/data/201809.xls.ext813.xls\"\n",
    "    f2=\"./emr/data/201810.xls.ext813.xls\"\n",
    "    f3=\"./emr/data/201811.xls.ext813.xls\"\n",
    "    f4=\"./emr/data/201812.xls.ext813.xls\"\n",
    "    f5=\"./emr/data/201901.xls.ext813.xls\"\n",
    "    f6=\"./emr/data/201902.xls.ext813.xls\"\n",
    "    f7=\"./emr/data/201903.xls.ext813.xls\"\n",
    "    f8=\"./emr/data/201904.xls.ext813.xls\"\n",
    "    f9=\"./emr/data/201905.xls.ext813.xls\"\n",
    "    f10=\"./emr/data/201906.xls.ext813.xls\"\n",
    "    f11=\"./emr/data/201907.xls.ext813.xls\"\n",
    "    \n",
    "   \n",
    "    outfile=\"./emr/lyconcat819.xls\"\n",
    "    \n",
    "    dt1=emr_load(f1)\n",
    "    dt2=emr_load(f2)\n",
    "    dt3=emr_load(f3)\n",
    "    dt4=emr_load(f4)\n",
    "    dt5=emr_load(f5)\n",
    "    dt6=emr_load(f6)\n",
    "    dt7=emr_load(f7)\n",
    "    dt8=emr_load(f8)\n",
    "    dt9=emr_load(f9)\n",
    "    dt10=emr_load(f10)\n",
    "    dt11=emr_load(f11)\n",
    " \n",
    "    \n",
    "    frames=[dt1,dt2,dt3,dt4,dt5,dt6,dt7,dt8,dt9,dt10,dt11]\n",
    "    res=pd.concat(frames)\n",
    "    res.to_excel(outfile, header=True, index=False,  encoding=\"utf-8\")    "
   ]
  },
  {
   "cell_type": "code",
   "execution_count": 21,
   "metadata": {},
   "outputs": [],
   "source": [
    "contact_df()"
   ]
  },
  {
   "cell_type": "code",
   "execution_count": 34,
   "metadata": {},
   "outputs": [],
   "source": [
    "def drop_tcm_syn():\n",
    "    filename=\"./emr/lyconcat.xls\"\n",
    "    outfile=\"./emr/lyconcat_dropna_cut.xls\"\n",
    "    dt=emr_load(filename)\n",
    "    dt1=dt.dropna(subset=[\"tcm_syn\"])\n",
    "    dt2=pd.DataFrame(dt1,columns=[\"id\",\"pid\",\"adm\",\"chief_com\",\"tcm_four_info\",\"syndrome\",\"syn\",\"tcm_syn_dif\",\"tcm_syn\",\"diagnosis\"])   \n",
    "    \n",
    "    dt2.to_excel(outfile, header=True, index=False,  encoding=\"utf-8\")    "
   ]
  },
  {
   "cell_type": "code",
   "execution_count": 1,
   "metadata": {
    "collapsed": true
   },
   "outputs": [
    {
     "ename": "NameError",
     "evalue": "name 'drop_tcm_syn' is not defined",
     "output_type": "error",
     "traceback": [
      "\u001b[1;31m---------------------------------------------------------------------------\u001b[0m",
      "\u001b[1;31mNameError\u001b[0m                                 Traceback (most recent call last)",
      "\u001b[1;32m<ipython-input-1-e0ed472c90b6>\u001b[0m in \u001b[0;36m<module>\u001b[1;34m\u001b[0m\n\u001b[1;32m----> 1\u001b[1;33m \u001b[0mdrop_tcm_syn\u001b[0m\u001b[1;33m(\u001b[0m\u001b[1;33m)\u001b[0m\u001b[1;33m\u001b[0m\u001b[1;33m\u001b[0m\u001b[0m\n\u001b[0m",
      "\u001b[1;31mNameError\u001b[0m: name 'drop_tcm_syn' is not defined"
     ]
    }
   ],
   "source": [
    "drop_tcm_syn()"
   ]
  },
  {
   "cell_type": "code",
   "execution_count": 2,
   "metadata": {},
   "outputs": [],
   "source": [
    "import pandas as pd"
   ]
  },
  {
   "cell_type": "code",
   "execution_count": 3,
   "metadata": {},
   "outputs": [],
   "source": [
    "filename=\"./data/emr.lytcmh.819.xls\"\n",
    "df=pd.read_excel(filename,head=True)"
   ]
  },
  {
   "cell_type": "code",
   "execution_count": 4,
   "metadata": {},
   "outputs": [],
   "source": [
    "df1=pd.DataFrame(columns=df.columns)"
   ]
  },
  {
   "cell_type": "code",
   "execution_count": 5,
   "metadata": {},
   "outputs": [],
   "source": [
    "def extract_tcm_info(astr): #extract context from tcm_syn_diff in lytcmh\n",
    "    str_txt=astr\n",
    "    for i in range(len(str_txt)-1):\n",
    "        str_txt_end=str_txt.find(\"。\")\n",
    "        str_txt=str_txt[:str_txt_end]\n",
    "        break\n",
    "        \n",
    "    for j in range(len(str_txt)-1):\n",
    "        str_txt_end=str_txt.find(\"辨病\")\n",
    "        if str_txt_end>0:\n",
    "            str_txt=str_txt[:str_txt_end]\n",
    "            \n",
    "        str_txt_end=str_txt.find(\"辨证\")\n",
    "        if str_txt_end>0:\n",
    "            str_txt=str_txt[:str_txt_end]       \n",
    "            \n",
    "        str_txt_end=str_txt.find(\"四诊\")\n",
    "        if str_txt_end>0:\n",
    "            str_txt=str_txt[:str_txt_end]\n",
    "    return str_txt"
   ]
  },
  {
   "cell_type": "code",
   "execution_count": 6,
   "metadata": {},
   "outputs": [],
   "source": [
    "for i in range(len(df)):\n",
    "    row_list=list()\n",
    "    for col in df.columns:\n",
    "        str1=str(df.iloc[i][col])        \n",
    "        if col==\"tcm_syn_dif\":\n",
    "            str1=extract_tcm_info(str1)            \n",
    "        if len(str1)>128:\n",
    "            str1=\" \"\n",
    "        row_list.append(str1)            \n",
    "    df1.loc[i]=row_list\n",
    "    \n",
    "df1.to_excel(\"./data/emr.lytcmh.819o.xls\", header=True, index=False,  encoding=\"utf-8\")    "
   ]
  },
  {
   "cell_type": "code",
   "execution_count": null,
   "metadata": {},
   "outputs": [],
   "source": []
  }
 ],
 "metadata": {
  "kernelspec": {
   "display_name": "Python 3",
   "language": "python",
   "name": "python3"
  },
  "language_info": {
   "codemirror_mode": {
    "name": "ipython",
    "version": 3
   },
   "file_extension": ".py",
   "mimetype": "text/x-python",
   "name": "python",
   "nbconvert_exporter": "python",
   "pygments_lexer": "ipython3",
   "version": "3.7.3"
  }
 },
 "nbformat": 4,
 "nbformat_minor": 2
}
